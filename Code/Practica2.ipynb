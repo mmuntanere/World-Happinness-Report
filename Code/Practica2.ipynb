{
  "nbformat": 4,
  "nbformat_minor": 0,
  "metadata": {
    "colab": {
      "provenance": []
    },
    "kernelspec": {
      "name": "python3",
      "display_name": "Python 3"
    },
    "language_info": {
      "name": "python"
    }
  },
  "cells": [
    {
      "cell_type": "markdown",
      "source": [
        "# <center> Pràctica 2: Neteja i anàlisi de dades </center>\n",
        "## <center>Miquel Muntaner i Miquel Piulats</center>\n",
        "### <center>08/01/2023</center>"
      ],
      "metadata": {
        "id": "qfFnPTFWyAah"
      }
    },
    {
      "cell_type": "markdown",
      "source": [
        "<h1>Índex</h1>\n",
        "<ul>\n",
        "  <li><a href=\"#secció0\">0. Càrrega de les llibreries necessàries de Python</a></li>\n",
        "  <li><a href=\"#secció1\">1. Descripció dels datasets</a></li>\n",
        "  <li><a href=\"#secció2\">2. Integració i selecció</a></li>\n",
        "  <li><a href=\"#secció3\">3. Neteja de les dades</a></li>\n",
        "  <li><a href=\"#secció4\">4. Anàlisi de les dades</a></li>\n",
        "  <li><a href=\"#secció5\">5. Resolució del problema</a></li>\n",
        "</ul>\n"
      ],
      "metadata": {
        "id": "LiIAfqaWbo5h"
      }
    },
    {
      "cell_type": "markdown",
      "source": [
        "# 0. Càrrega de les llibreries necessàries de Python"
      ],
      "metadata": {
        "id": "-fSs30LqTTTE"
      }
    },
    {
      "cell_type": "code",
      "source": [
        "# Importem les llibreries necessàries per fer l'anàlisi exploratori\n",
        "import pandas as pd\n",
        "import numpy as np\n",
        "import matplotlib.pyplot as plt\n",
        "import seaborn as sns\n",
        "from scipy.stats import normaltest"
      ],
      "metadata": {
        "id": "4KYCkW6m5027"
      },
      "execution_count": null,
      "outputs": []
    },
    {
      "cell_type": "markdown",
      "source": [
        "<h1 id=\"secció0\">1. Descripció del dataset</h1>\n",
        "\n",
        "És possible que un dels majors reptes i una de les principals finalitats de la vida sigui estar a un nivell de felicitat alt el màxim de temps possible. Gràcies a les dades que es recopilen avui en dia es poden fer alguns estudis que ens ajudaran a trobar els factors que ens aportin la tan ansiada felicitat. \n",
        "\n",
        "Per fer aquesta pràctica hem optat per utilitzar el dataset de *World Happiness Report* (https://www.kaggle.com/datasets/ajaypalsinghlo/world-happiness-report-2021) per a tenir les variables principals a analitzar. \n",
        "\n",
        "El que hem volgut aconseguir amb aquest anàlisi és determinar els factors claus amb el que un individuu aconsegueix ser feliç. Per això s'ha tractat d'extreure la màxima informació al dataset principal, però també s'ha optat per aportar fonts extres d'informació per intentar trobar altres factors determinants. \n",
        "\n"
      ],
      "metadata": {
        "id": "CHmonLcpWrLQ"
      }
    },
    {
      "cell_type": "markdown",
      "source": [
        "Columnes utilitzades:\n",
        "\n",
        "*   Ladder score: Índex de felicitat\n",
        "*   Logged GDP per capita: Ingrès promig de cada habitant\n",
        "*   Social support: Gent propera amb la que pots comptar si tens un problema. \n",
        "*   Healthy life expectancy: esperança de vida\n",
        "*   Freedom to make life choices: El sentiment de llibertat de la població respecte a la presa de decisions. \n",
        "*   Generosity: Índex que indica la generositat individual de cada habitant\n",
        "\n",
        "\n",
        "\n",
        "\n",
        "\n",
        "\n",
        " \n"
      ],
      "metadata": {
        "id": "AlVAW4uYf0C3"
      }
    },
    {
      "cell_type": "markdown",
      "source": [
        "Segons l'estudi de *Weather and Individual Happiness*, fet per Yoshiro Tsutsui (https://journals.ametsoc.org/view/journals/wcas/5/1/wcas-d-11-00052_1.xml), la climatologia afecta directament al benestar de l'individuu i per tant a la seva felicitat. Per això s'ha optat per extreure algunes dades d'un dataset que ens aporta valors climatològics per païssos. \n",
        "\n",
        "**Historical Daily Weather Data 2020**\n",
        "https://www.kaggle.com/datasets/vishalvjoseph/weather-dataset-for-covid19-predictions\n",
        "Històric de dades meteorològiques organitzades per països.\n",
        "Columnes utilitzades:\n",
        "*   temperatureHigh: Temperatura màxima registrada\n",
        "*   temperatureLow: Temperatura mínima registrada\n",
        "*   windSpeed: Velocitat del vent\n",
        "*   precipProbability: Probabilitat de precipitació\n",
        "\n",
        "\n",
        "\n",
        "\n",
        "\n",
        "\n",
        "\n"
      ],
      "metadata": {
        "id": "_R5OsbumgHz9"
      }
    },
    {
      "cell_type": "markdown",
      "source": [
        "Finalment també és conegut que alguns païssos del nord d'Europa tenen índexs molt alts de suicidis, el que pareix incompatible amb la felicitat. Per això també hem aportat algunes dades d'un dataset sobre ràtios de suicidi per païssos. \n",
        "\n",
        "**Suicide Rates Overview (1985 to 2021)**\n",
        "https://www.kaggle.com/datasets/omkargowda/suicide-rates-overview-1985-to-2021\n",
        "Històric de nombre de suicidis organitzats per països.\n",
        "\n",
        "Columnes utilitzades:\n",
        "*   suicides_no - Nombre de suicidis\n",
        "*   suicides/100k pop - Nombre de sucidis per cada 100.000 habitants.\n",
        "\n",
        "\n",
        "\n"
      ],
      "metadata": {
        "id": "PCiaClDLhPyw"
      }
    },
    {
      "cell_type": "code",
      "source": [
        "from google.colab import drive\n",
        "drive.mount('/content/drive')"
      ],
      "metadata": {
        "colab": {
          "base_uri": "https://localhost:8080/"
        },
        "id": "xMiEXPW82Qri",
        "outputId": "608cdd6a-f922-4b1a-efc8-9367bc8ec305"
      },
      "execution_count": null,
      "outputs": [
        {
          "output_type": "stream",
          "name": "stdout",
          "text": [
            "Mounted at /content/drive\n"
          ]
        }
      ]
    },
    {
      "cell_type": "code",
      "source": [
        "# Carreguem el dataset de \"World Happiness Report\" i comprovem que s'ha carregat bé amb la funció head() que ens tornarà les 5 primeres files. \n",
        "df_2021 = pd.read_csv('/content/drive/MyDrive/Ciència de les dades/Tipologia i cicle de vida de les dades/Pràctica 2/world-happiness-report-2021.csv')\n",
        "df_2021.head()"
      ],
      "metadata": {
        "colab": {
          "base_uri": "https://localhost:8080/",
          "height": 444
        },
        "id": "mTGYXoAHePG1",
        "outputId": "0925d61e-c014-433c-e6d1-5c1910475acb"
      },
      "execution_count": null,
      "outputs": [
        {
          "output_type": "execute_result",
          "data": {
            "text/plain": [
              "  Country name Regional indicator  Ladder score  \\\n",
              "0      Finland     Western Europe         7.842   \n",
              "1      Denmark     Western Europe         7.620   \n",
              "2  Switzerland     Western Europe         7.571   \n",
              "3      Iceland     Western Europe         7.554   \n",
              "4  Netherlands     Western Europe         7.464   \n",
              "\n",
              "   Standard error of ladder score  upperwhisker  lowerwhisker  \\\n",
              "0                           0.032         7.904         7.780   \n",
              "1                           0.035         7.687         7.552   \n",
              "2                           0.036         7.643         7.500   \n",
              "3                           0.059         7.670         7.438   \n",
              "4                           0.027         7.518         7.410   \n",
              "\n",
              "   Logged GDP per capita  Social support  Healthy life expectancy  \\\n",
              "0                 10.775           0.954                     72.0   \n",
              "1                 10.933           0.954                     72.7   \n",
              "2                 11.117           0.942                     74.4   \n",
              "3                 10.878           0.983                     73.0   \n",
              "4                 10.932           0.942                     72.4   \n",
              "\n",
              "   Freedom to make life choices  Generosity  Perceptions of corruption  \\\n",
              "0                         0.949      -0.098                      0.186   \n",
              "1                         0.946       0.030                      0.179   \n",
              "2                         0.919       0.025                      0.292   \n",
              "3                         0.955       0.160                      0.673   \n",
              "4                         0.913       0.175                      0.338   \n",
              "\n",
              "   Ladder score in Dystopia  Explained by: Log GDP per capita  \\\n",
              "0                      2.43                             1.446   \n",
              "1                      2.43                             1.502   \n",
              "2                      2.43                             1.566   \n",
              "3                      2.43                             1.482   \n",
              "4                      2.43                             1.501   \n",
              "\n",
              "   Explained by: Social support  Explained by: Healthy life expectancy  \\\n",
              "0                         1.106                                  0.741   \n",
              "1                         1.108                                  0.763   \n",
              "2                         1.079                                  0.816   \n",
              "3                         1.172                                  0.772   \n",
              "4                         1.079                                  0.753   \n",
              "\n",
              "   Explained by: Freedom to make life choices  Explained by: Generosity  \\\n",
              "0                                       0.691                     0.124   \n",
              "1                                       0.686                     0.208   \n",
              "2                                       0.653                     0.204   \n",
              "3                                       0.698                     0.293   \n",
              "4                                       0.647                     0.302   \n",
              "\n",
              "   Explained by: Perceptions of corruption  Dystopia + residual  \n",
              "0                                    0.481                3.253  \n",
              "1                                    0.485                2.868  \n",
              "2                                    0.413                2.839  \n",
              "3                                    0.170                2.967  \n",
              "4                                    0.384                2.798  "
            ],
            "text/html": [
              "\n",
              "  <div id=\"df-3809d9fd-8840-4532-8b6e-7e74287622d3\">\n",
              "    <div class=\"colab-df-container\">\n",
              "      <div>\n",
              "<style scoped>\n",
              "    .dataframe tbody tr th:only-of-type {\n",
              "        vertical-align: middle;\n",
              "    }\n",
              "\n",
              "    .dataframe tbody tr th {\n",
              "        vertical-align: top;\n",
              "    }\n",
              "\n",
              "    .dataframe thead th {\n",
              "        text-align: right;\n",
              "    }\n",
              "</style>\n",
              "<table border=\"1\" class=\"dataframe\">\n",
              "  <thead>\n",
              "    <tr style=\"text-align: right;\">\n",
              "      <th></th>\n",
              "      <th>Country name</th>\n",
              "      <th>Regional indicator</th>\n",
              "      <th>Ladder score</th>\n",
              "      <th>Standard error of ladder score</th>\n",
              "      <th>upperwhisker</th>\n",
              "      <th>lowerwhisker</th>\n",
              "      <th>Logged GDP per capita</th>\n",
              "      <th>Social support</th>\n",
              "      <th>Healthy life expectancy</th>\n",
              "      <th>Freedom to make life choices</th>\n",
              "      <th>Generosity</th>\n",
              "      <th>Perceptions of corruption</th>\n",
              "      <th>Ladder score in Dystopia</th>\n",
              "      <th>Explained by: Log GDP per capita</th>\n",
              "      <th>Explained by: Social support</th>\n",
              "      <th>Explained by: Healthy life expectancy</th>\n",
              "      <th>Explained by: Freedom to make life choices</th>\n",
              "      <th>Explained by: Generosity</th>\n",
              "      <th>Explained by: Perceptions of corruption</th>\n",
              "      <th>Dystopia + residual</th>\n",
              "    </tr>\n",
              "  </thead>\n",
              "  <tbody>\n",
              "    <tr>\n",
              "      <th>0</th>\n",
              "      <td>Finland</td>\n",
              "      <td>Western Europe</td>\n",
              "      <td>7.842</td>\n",
              "      <td>0.032</td>\n",
              "      <td>7.904</td>\n",
              "      <td>7.780</td>\n",
              "      <td>10.775</td>\n",
              "      <td>0.954</td>\n",
              "      <td>72.0</td>\n",
              "      <td>0.949</td>\n",
              "      <td>-0.098</td>\n",
              "      <td>0.186</td>\n",
              "      <td>2.43</td>\n",
              "      <td>1.446</td>\n",
              "      <td>1.106</td>\n",
              "      <td>0.741</td>\n",
              "      <td>0.691</td>\n",
              "      <td>0.124</td>\n",
              "      <td>0.481</td>\n",
              "      <td>3.253</td>\n",
              "    </tr>\n",
              "    <tr>\n",
              "      <th>1</th>\n",
              "      <td>Denmark</td>\n",
              "      <td>Western Europe</td>\n",
              "      <td>7.620</td>\n",
              "      <td>0.035</td>\n",
              "      <td>7.687</td>\n",
              "      <td>7.552</td>\n",
              "      <td>10.933</td>\n",
              "      <td>0.954</td>\n",
              "      <td>72.7</td>\n",
              "      <td>0.946</td>\n",
              "      <td>0.030</td>\n",
              "      <td>0.179</td>\n",
              "      <td>2.43</td>\n",
              "      <td>1.502</td>\n",
              "      <td>1.108</td>\n",
              "      <td>0.763</td>\n",
              "      <td>0.686</td>\n",
              "      <td>0.208</td>\n",
              "      <td>0.485</td>\n",
              "      <td>2.868</td>\n",
              "    </tr>\n",
              "    <tr>\n",
              "      <th>2</th>\n",
              "      <td>Switzerland</td>\n",
              "      <td>Western Europe</td>\n",
              "      <td>7.571</td>\n",
              "      <td>0.036</td>\n",
              "      <td>7.643</td>\n",
              "      <td>7.500</td>\n",
              "      <td>11.117</td>\n",
              "      <td>0.942</td>\n",
              "      <td>74.4</td>\n",
              "      <td>0.919</td>\n",
              "      <td>0.025</td>\n",
              "      <td>0.292</td>\n",
              "      <td>2.43</td>\n",
              "      <td>1.566</td>\n",
              "      <td>1.079</td>\n",
              "      <td>0.816</td>\n",
              "      <td>0.653</td>\n",
              "      <td>0.204</td>\n",
              "      <td>0.413</td>\n",
              "      <td>2.839</td>\n",
              "    </tr>\n",
              "    <tr>\n",
              "      <th>3</th>\n",
              "      <td>Iceland</td>\n",
              "      <td>Western Europe</td>\n",
              "      <td>7.554</td>\n",
              "      <td>0.059</td>\n",
              "      <td>7.670</td>\n",
              "      <td>7.438</td>\n",
              "      <td>10.878</td>\n",
              "      <td>0.983</td>\n",
              "      <td>73.0</td>\n",
              "      <td>0.955</td>\n",
              "      <td>0.160</td>\n",
              "      <td>0.673</td>\n",
              "      <td>2.43</td>\n",
              "      <td>1.482</td>\n",
              "      <td>1.172</td>\n",
              "      <td>0.772</td>\n",
              "      <td>0.698</td>\n",
              "      <td>0.293</td>\n",
              "      <td>0.170</td>\n",
              "      <td>2.967</td>\n",
              "    </tr>\n",
              "    <tr>\n",
              "      <th>4</th>\n",
              "      <td>Netherlands</td>\n",
              "      <td>Western Europe</td>\n",
              "      <td>7.464</td>\n",
              "      <td>0.027</td>\n",
              "      <td>7.518</td>\n",
              "      <td>7.410</td>\n",
              "      <td>10.932</td>\n",
              "      <td>0.942</td>\n",
              "      <td>72.4</td>\n",
              "      <td>0.913</td>\n",
              "      <td>0.175</td>\n",
              "      <td>0.338</td>\n",
              "      <td>2.43</td>\n",
              "      <td>1.501</td>\n",
              "      <td>1.079</td>\n",
              "      <td>0.753</td>\n",
              "      <td>0.647</td>\n",
              "      <td>0.302</td>\n",
              "      <td>0.384</td>\n",
              "      <td>2.798</td>\n",
              "    </tr>\n",
              "  </tbody>\n",
              "</table>\n",
              "</div>\n",
              "      <button class=\"colab-df-convert\" onclick=\"convertToInteractive('df-3809d9fd-8840-4532-8b6e-7e74287622d3')\"\n",
              "              title=\"Convert this dataframe to an interactive table.\"\n",
              "              style=\"display:none;\">\n",
              "        \n",
              "  <svg xmlns=\"http://www.w3.org/2000/svg\" height=\"24px\"viewBox=\"0 0 24 24\"\n",
              "       width=\"24px\">\n",
              "    <path d=\"M0 0h24v24H0V0z\" fill=\"none\"/>\n",
              "    <path d=\"M18.56 5.44l.94 2.06.94-2.06 2.06-.94-2.06-.94-.94-2.06-.94 2.06-2.06.94zm-11 1L8.5 8.5l.94-2.06 2.06-.94-2.06-.94L8.5 2.5l-.94 2.06-2.06.94zm10 10l.94 2.06.94-2.06 2.06-.94-2.06-.94-.94-2.06-.94 2.06-2.06.94z\"/><path d=\"M17.41 7.96l-1.37-1.37c-.4-.4-.92-.59-1.43-.59-.52 0-1.04.2-1.43.59L10.3 9.45l-7.72 7.72c-.78.78-.78 2.05 0 2.83L4 21.41c.39.39.9.59 1.41.59.51 0 1.02-.2 1.41-.59l7.78-7.78 2.81-2.81c.8-.78.8-2.07 0-2.86zM5.41 20L4 18.59l7.72-7.72 1.47 1.35L5.41 20z\"/>\n",
              "  </svg>\n",
              "      </button>\n",
              "      \n",
              "  <style>\n",
              "    .colab-df-container {\n",
              "      display:flex;\n",
              "      flex-wrap:wrap;\n",
              "      gap: 12px;\n",
              "    }\n",
              "\n",
              "    .colab-df-convert {\n",
              "      background-color: #E8F0FE;\n",
              "      border: none;\n",
              "      border-radius: 50%;\n",
              "      cursor: pointer;\n",
              "      display: none;\n",
              "      fill: #1967D2;\n",
              "      height: 32px;\n",
              "      padding: 0 0 0 0;\n",
              "      width: 32px;\n",
              "    }\n",
              "\n",
              "    .colab-df-convert:hover {\n",
              "      background-color: #E2EBFA;\n",
              "      box-shadow: 0px 1px 2px rgba(60, 64, 67, 0.3), 0px 1px 3px 1px rgba(60, 64, 67, 0.15);\n",
              "      fill: #174EA6;\n",
              "    }\n",
              "\n",
              "    [theme=dark] .colab-df-convert {\n",
              "      background-color: #3B4455;\n",
              "      fill: #D2E3FC;\n",
              "    }\n",
              "\n",
              "    [theme=dark] .colab-df-convert:hover {\n",
              "      background-color: #434B5C;\n",
              "      box-shadow: 0px 1px 3px 1px rgba(0, 0, 0, 0.15);\n",
              "      filter: drop-shadow(0px 1px 2px rgba(0, 0, 0, 0.3));\n",
              "      fill: #FFFFFF;\n",
              "    }\n",
              "  </style>\n",
              "\n",
              "      <script>\n",
              "        const buttonEl =\n",
              "          document.querySelector('#df-3809d9fd-8840-4532-8b6e-7e74287622d3 button.colab-df-convert');\n",
              "        buttonEl.style.display =\n",
              "          google.colab.kernel.accessAllowed ? 'block' : 'none';\n",
              "\n",
              "        async function convertToInteractive(key) {\n",
              "          const element = document.querySelector('#df-3809d9fd-8840-4532-8b6e-7e74287622d3');\n",
              "          const dataTable =\n",
              "            await google.colab.kernel.invokeFunction('convertToInteractive',\n",
              "                                                     [key], {});\n",
              "          if (!dataTable) return;\n",
              "\n",
              "          const docLinkHtml = 'Like what you see? Visit the ' +\n",
              "            '<a target=\"_blank\" href=https://colab.research.google.com/notebooks/data_table.ipynb>data table notebook</a>'\n",
              "            + ' to learn more about interactive tables.';\n",
              "          element.innerHTML = '';\n",
              "          dataTable['output_type'] = 'display_data';\n",
              "          await google.colab.output.renderOutput(dataTable, element);\n",
              "          const docLink = document.createElement('div');\n",
              "          docLink.innerHTML = docLinkHtml;\n",
              "          element.appendChild(docLink);\n",
              "        }\n",
              "      </script>\n",
              "    </div>\n",
              "  </div>\n",
              "  "
            ]
          },
          "metadata": {},
          "execution_count": 4
        }
      ]
    },
    {
      "cell_type": "markdown",
      "source": [
        "#2. Integració i selecció\n",
        "\n",
        "\n",
        "\n"
      ],
      "metadata": {
        "id": "PaDnVvLbS6LE"
      }
    },
    {
      "cell_type": "markdown",
      "source": [
        "Iniciem carregant els datasets addicionals que utilitzarem per a realitzar aquest estudi de dades."
      ],
      "metadata": {
        "id": "yBxrYP5HiMSF"
      }
    },
    {
      "cell_type": "code",
      "source": [
        "# Carreguem el dataset \"Daily Weather 2020\" i amb la funció head() observem les primeres 5 files.\n",
        "df_weather = pd.read_csv('/content/drive/MyDrive/Ciència de les dades/Tipologia i cicle de vida de les dades/Pràctica 2/daily_weather_2020.csv')\n",
        "df_weather.head()"
      ],
      "metadata": {
        "id": "NjfsqWdVqZBy",
        "colab": {
          "base_uri": "https://localhost:8080/",
          "height": 543
        },
        "outputId": "acf52907-ac08-4f20-b684-fd49dd4599f1"
      },
      "execution_count": null,
      "outputs": [
        {
          "output_type": "execute_result",
          "data": {
            "text/plain": [
              "   Unnamed: 0 Country/Region Province/State        time  \\\n",
              "0           0    Afghanistan            NaN  2019-12-31   \n",
              "1           1    Afghanistan            NaN  2020-01-01   \n",
              "2           2    Afghanistan            NaN  2020-01-02   \n",
              "3           3    Afghanistan            NaN  2020-01-03   \n",
              "4           4    Afghanistan            NaN  2020-01-04   \n",
              "\n",
              "                                             summary               icon  \\\n",
              "0  Rain (with a chance of 1–3 in. of snow) until ...               rain   \n",
              "1                     Light rain throughout the day.               rain   \n",
              "2                          Clear throughout the day.               rain   \n",
              "3                  Partly cloudy throughout the day.  partly-cloudy-day   \n",
              "4                     Light rain throughout the day.               rain   \n",
              "\n",
              "    sunriseTime    sunsetTime  moonPhase  precipIntensity  ...  \\\n",
              "0  1.577847e+09  1.577883e+09       0.20           0.0156  ...   \n",
              "1  1.577933e+09  1.577969e+09       0.23           0.0235  ...   \n",
              "2  1.578019e+09  1.578056e+09       0.26           0.0016  ...   \n",
              "3  1.578106e+09  1.578142e+09       0.30           0.0003  ...   \n",
              "4  1.578192e+09  1.578228e+09       0.33           0.0145  ...   \n",
              "\n",
              "   temperatureMinTime  temperatureMax  temperatureMaxTime  \\\n",
              "0          1577827140           48.36          1577864700   \n",
              "1          1577918820           40.42          1577951460   \n",
              "2          1578020400           46.53          1578038340   \n",
              "3          1578106320           45.77          1578124500   \n",
              "4          1578193080           40.84          1578222000   \n",
              "\n",
              "  apparentTemperatureMin  apparentTemperatureMinTime  apparentTemperatureMax  \\\n",
              "0                  30.51                  1577835720                   47.86   \n",
              "1                  29.84                  1577919420                   40.08   \n",
              "2                  26.27                  1578020400                   46.03   \n",
              "3                  26.96                  1578093240                   45.35   \n",
              "4                  33.33                  1578193080                   40.34   \n",
              "\n",
              "   apparentTemperatureMaxTime   Lat  Long  precipAccumulation  \n",
              "0                  1577864700  33.0  65.0                 NaN  \n",
              "1                  1577951220  33.0  65.0                 NaN  \n",
              "2                  1578038340  33.0  65.0                 NaN  \n",
              "3                  1578124260  33.0  65.0                 NaN  \n",
              "4                  1578222000  33.0  65.0                 NaN  \n",
              "\n",
              "[5 rows x 45 columns]"
            ],
            "text/html": [
              "\n",
              "  <div id=\"df-d7a1108a-ab01-4853-be9a-51514bfb2c33\">\n",
              "    <div class=\"colab-df-container\">\n",
              "      <div>\n",
              "<style scoped>\n",
              "    .dataframe tbody tr th:only-of-type {\n",
              "        vertical-align: middle;\n",
              "    }\n",
              "\n",
              "    .dataframe tbody tr th {\n",
              "        vertical-align: top;\n",
              "    }\n",
              "\n",
              "    .dataframe thead th {\n",
              "        text-align: right;\n",
              "    }\n",
              "</style>\n",
              "<table border=\"1\" class=\"dataframe\">\n",
              "  <thead>\n",
              "    <tr style=\"text-align: right;\">\n",
              "      <th></th>\n",
              "      <th>Unnamed: 0</th>\n",
              "      <th>Country/Region</th>\n",
              "      <th>Province/State</th>\n",
              "      <th>time</th>\n",
              "      <th>summary</th>\n",
              "      <th>icon</th>\n",
              "      <th>sunriseTime</th>\n",
              "      <th>sunsetTime</th>\n",
              "      <th>moonPhase</th>\n",
              "      <th>precipIntensity</th>\n",
              "      <th>...</th>\n",
              "      <th>temperatureMinTime</th>\n",
              "      <th>temperatureMax</th>\n",
              "      <th>temperatureMaxTime</th>\n",
              "      <th>apparentTemperatureMin</th>\n",
              "      <th>apparentTemperatureMinTime</th>\n",
              "      <th>apparentTemperatureMax</th>\n",
              "      <th>apparentTemperatureMaxTime</th>\n",
              "      <th>Lat</th>\n",
              "      <th>Long</th>\n",
              "      <th>precipAccumulation</th>\n",
              "    </tr>\n",
              "  </thead>\n",
              "  <tbody>\n",
              "    <tr>\n",
              "      <th>0</th>\n",
              "      <td>0</td>\n",
              "      <td>Afghanistan</td>\n",
              "      <td>NaN</td>\n",
              "      <td>2019-12-31</td>\n",
              "      <td>Rain (with a chance of 1–3 in. of snow) until ...</td>\n",
              "      <td>rain</td>\n",
              "      <td>1.577847e+09</td>\n",
              "      <td>1.577883e+09</td>\n",
              "      <td>0.20</td>\n",
              "      <td>0.0156</td>\n",
              "      <td>...</td>\n",
              "      <td>1577827140</td>\n",
              "      <td>48.36</td>\n",
              "      <td>1577864700</td>\n",
              "      <td>30.51</td>\n",
              "      <td>1577835720</td>\n",
              "      <td>47.86</td>\n",
              "      <td>1577864700</td>\n",
              "      <td>33.0</td>\n",
              "      <td>65.0</td>\n",
              "      <td>NaN</td>\n",
              "    </tr>\n",
              "    <tr>\n",
              "      <th>1</th>\n",
              "      <td>1</td>\n",
              "      <td>Afghanistan</td>\n",
              "      <td>NaN</td>\n",
              "      <td>2020-01-01</td>\n",
              "      <td>Light rain throughout the day.</td>\n",
              "      <td>rain</td>\n",
              "      <td>1.577933e+09</td>\n",
              "      <td>1.577969e+09</td>\n",
              "      <td>0.23</td>\n",
              "      <td>0.0235</td>\n",
              "      <td>...</td>\n",
              "      <td>1577918820</td>\n",
              "      <td>40.42</td>\n",
              "      <td>1577951460</td>\n",
              "      <td>29.84</td>\n",
              "      <td>1577919420</td>\n",
              "      <td>40.08</td>\n",
              "      <td>1577951220</td>\n",
              "      <td>33.0</td>\n",
              "      <td>65.0</td>\n",
              "      <td>NaN</td>\n",
              "    </tr>\n",
              "    <tr>\n",
              "      <th>2</th>\n",
              "      <td>2</td>\n",
              "      <td>Afghanistan</td>\n",
              "      <td>NaN</td>\n",
              "      <td>2020-01-02</td>\n",
              "      <td>Clear throughout the day.</td>\n",
              "      <td>rain</td>\n",
              "      <td>1.578019e+09</td>\n",
              "      <td>1.578056e+09</td>\n",
              "      <td>0.26</td>\n",
              "      <td>0.0016</td>\n",
              "      <td>...</td>\n",
              "      <td>1578020400</td>\n",
              "      <td>46.53</td>\n",
              "      <td>1578038340</td>\n",
              "      <td>26.27</td>\n",
              "      <td>1578020400</td>\n",
              "      <td>46.03</td>\n",
              "      <td>1578038340</td>\n",
              "      <td>33.0</td>\n",
              "      <td>65.0</td>\n",
              "      <td>NaN</td>\n",
              "    </tr>\n",
              "    <tr>\n",
              "      <th>3</th>\n",
              "      <td>3</td>\n",
              "      <td>Afghanistan</td>\n",
              "      <td>NaN</td>\n",
              "      <td>2020-01-03</td>\n",
              "      <td>Partly cloudy throughout the day.</td>\n",
              "      <td>partly-cloudy-day</td>\n",
              "      <td>1.578106e+09</td>\n",
              "      <td>1.578142e+09</td>\n",
              "      <td>0.30</td>\n",
              "      <td>0.0003</td>\n",
              "      <td>...</td>\n",
              "      <td>1578106320</td>\n",
              "      <td>45.77</td>\n",
              "      <td>1578124500</td>\n",
              "      <td>26.96</td>\n",
              "      <td>1578093240</td>\n",
              "      <td>45.35</td>\n",
              "      <td>1578124260</td>\n",
              "      <td>33.0</td>\n",
              "      <td>65.0</td>\n",
              "      <td>NaN</td>\n",
              "    </tr>\n",
              "    <tr>\n",
              "      <th>4</th>\n",
              "      <td>4</td>\n",
              "      <td>Afghanistan</td>\n",
              "      <td>NaN</td>\n",
              "      <td>2020-01-04</td>\n",
              "      <td>Light rain throughout the day.</td>\n",
              "      <td>rain</td>\n",
              "      <td>1.578192e+09</td>\n",
              "      <td>1.578228e+09</td>\n",
              "      <td>0.33</td>\n",
              "      <td>0.0145</td>\n",
              "      <td>...</td>\n",
              "      <td>1578193080</td>\n",
              "      <td>40.84</td>\n",
              "      <td>1578222000</td>\n",
              "      <td>33.33</td>\n",
              "      <td>1578193080</td>\n",
              "      <td>40.34</td>\n",
              "      <td>1578222000</td>\n",
              "      <td>33.0</td>\n",
              "      <td>65.0</td>\n",
              "      <td>NaN</td>\n",
              "    </tr>\n",
              "  </tbody>\n",
              "</table>\n",
              "<p>5 rows × 45 columns</p>\n",
              "</div>\n",
              "      <button class=\"colab-df-convert\" onclick=\"convertToInteractive('df-d7a1108a-ab01-4853-be9a-51514bfb2c33')\"\n",
              "              title=\"Convert this dataframe to an interactive table.\"\n",
              "              style=\"display:none;\">\n",
              "        \n",
              "  <svg xmlns=\"http://www.w3.org/2000/svg\" height=\"24px\"viewBox=\"0 0 24 24\"\n",
              "       width=\"24px\">\n",
              "    <path d=\"M0 0h24v24H0V0z\" fill=\"none\"/>\n",
              "    <path d=\"M18.56 5.44l.94 2.06.94-2.06 2.06-.94-2.06-.94-.94-2.06-.94 2.06-2.06.94zm-11 1L8.5 8.5l.94-2.06 2.06-.94-2.06-.94L8.5 2.5l-.94 2.06-2.06.94zm10 10l.94 2.06.94-2.06 2.06-.94-2.06-.94-.94-2.06-.94 2.06-2.06.94z\"/><path d=\"M17.41 7.96l-1.37-1.37c-.4-.4-.92-.59-1.43-.59-.52 0-1.04.2-1.43.59L10.3 9.45l-7.72 7.72c-.78.78-.78 2.05 0 2.83L4 21.41c.39.39.9.59 1.41.59.51 0 1.02-.2 1.41-.59l7.78-7.78 2.81-2.81c.8-.78.8-2.07 0-2.86zM5.41 20L4 18.59l7.72-7.72 1.47 1.35L5.41 20z\"/>\n",
              "  </svg>\n",
              "      </button>\n",
              "      \n",
              "  <style>\n",
              "    .colab-df-container {\n",
              "      display:flex;\n",
              "      flex-wrap:wrap;\n",
              "      gap: 12px;\n",
              "    }\n",
              "\n",
              "    .colab-df-convert {\n",
              "      background-color: #E8F0FE;\n",
              "      border: none;\n",
              "      border-radius: 50%;\n",
              "      cursor: pointer;\n",
              "      display: none;\n",
              "      fill: #1967D2;\n",
              "      height: 32px;\n",
              "      padding: 0 0 0 0;\n",
              "      width: 32px;\n",
              "    }\n",
              "\n",
              "    .colab-df-convert:hover {\n",
              "      background-color: #E2EBFA;\n",
              "      box-shadow: 0px 1px 2px rgba(60, 64, 67, 0.3), 0px 1px 3px 1px rgba(60, 64, 67, 0.15);\n",
              "      fill: #174EA6;\n",
              "    }\n",
              "\n",
              "    [theme=dark] .colab-df-convert {\n",
              "      background-color: #3B4455;\n",
              "      fill: #D2E3FC;\n",
              "    }\n",
              "\n",
              "    [theme=dark] .colab-df-convert:hover {\n",
              "      background-color: #434B5C;\n",
              "      box-shadow: 0px 1px 3px 1px rgba(0, 0, 0, 0.15);\n",
              "      filter: drop-shadow(0px 1px 2px rgba(0, 0, 0, 0.3));\n",
              "      fill: #FFFFFF;\n",
              "    }\n",
              "  </style>\n",
              "\n",
              "      <script>\n",
              "        const buttonEl =\n",
              "          document.querySelector('#df-d7a1108a-ab01-4853-be9a-51514bfb2c33 button.colab-df-convert');\n",
              "        buttonEl.style.display =\n",
              "          google.colab.kernel.accessAllowed ? 'block' : 'none';\n",
              "\n",
              "        async function convertToInteractive(key) {\n",
              "          const element = document.querySelector('#df-d7a1108a-ab01-4853-be9a-51514bfb2c33');\n",
              "          const dataTable =\n",
              "            await google.colab.kernel.invokeFunction('convertToInteractive',\n",
              "                                                     [key], {});\n",
              "          if (!dataTable) return;\n",
              "\n",
              "          const docLinkHtml = 'Like what you see? Visit the ' +\n",
              "            '<a target=\"_blank\" href=https://colab.research.google.com/notebooks/data_table.ipynb>data table notebook</a>'\n",
              "            + ' to learn more about interactive tables.';\n",
              "          element.innerHTML = '';\n",
              "          dataTable['output_type'] = 'display_data';\n",
              "          await google.colab.output.renderOutput(dataTable, element);\n",
              "          const docLink = document.createElement('div');\n",
              "          docLink.innerHTML = docLinkHtml;\n",
              "          element.appendChild(docLink);\n",
              "        }\n",
              "      </script>\n",
              "    </div>\n",
              "  </div>\n",
              "  "
            ]
          },
          "metadata": {},
          "execution_count": 5
        }
      ]
    },
    {
      "cell_type": "code",
      "source": [
        "# Carreguem el dataset \"Suicide Rates Overview (1985 to 2021)\" i amb la funció head() observem les primeres 5 files.\n",
        "df_suicide = pd.read_csv('/content/drive/MyDrive/Ciència de les dades/Tipologia i cicle de vida de les dades/Pràctica 2/suicide.csv', index_col=False)\n",
        "df_suicide.head()"
      ],
      "metadata": {
        "colab": {
          "base_uri": "https://localhost:8080/",
          "height": 354
        },
        "id": "QjJxDz0IJOMi",
        "outputId": "56c78862-9e79-4dda-9090-d460ad640867"
      },
      "execution_count": null,
      "outputs": [
        {
          "output_type": "execute_result",
          "data": {
            "text/plain": [
              "   country  year     sex          age  suicides_no  population  \\\n",
              "0  Albania  1987    male  15-24 years         21.0      312900   \n",
              "1  Albania  1987    male  35-54 years         16.0      308000   \n",
              "2  Albania  1987  female  15-24 years         14.0      289700   \n",
              "3  Albania  1987    male    75+ years          1.0       21800   \n",
              "4  Albania  1987    male  25-34 years          9.0      274300   \n",
              "\n",
              "   suicides/100k pop country-year  HDI for year  gdp_for_year ($)   \\\n",
              "0               6.71  Albania1987           NaN     2,15,66,24,900   \n",
              "1               5.19  Albania1987           NaN     2,15,66,24,900   \n",
              "2               4.83  Albania1987           NaN     2,15,66,24,900   \n",
              "3               4.59  Albania1987           NaN     2,15,66,24,900   \n",
              "4               3.28  Albania1987           NaN     2,15,66,24,900   \n",
              "\n",
              "   gdp_per_capita ($)       generation  \n",
              "0               796.0     Generation X  \n",
              "1               796.0           Silent  \n",
              "2               796.0     Generation X  \n",
              "3               796.0  G.I. Generation  \n",
              "4               796.0          Boomers  "
            ],
            "text/html": [
              "\n",
              "  <div id=\"df-f9c39969-5d82-4069-bca4-dd1a371bae70\">\n",
              "    <div class=\"colab-df-container\">\n",
              "      <div>\n",
              "<style scoped>\n",
              "    .dataframe tbody tr th:only-of-type {\n",
              "        vertical-align: middle;\n",
              "    }\n",
              "\n",
              "    .dataframe tbody tr th {\n",
              "        vertical-align: top;\n",
              "    }\n",
              "\n",
              "    .dataframe thead th {\n",
              "        text-align: right;\n",
              "    }\n",
              "</style>\n",
              "<table border=\"1\" class=\"dataframe\">\n",
              "  <thead>\n",
              "    <tr style=\"text-align: right;\">\n",
              "      <th></th>\n",
              "      <th>country</th>\n",
              "      <th>year</th>\n",
              "      <th>sex</th>\n",
              "      <th>age</th>\n",
              "      <th>suicides_no</th>\n",
              "      <th>population</th>\n",
              "      <th>suicides/100k pop</th>\n",
              "      <th>country-year</th>\n",
              "      <th>HDI for year</th>\n",
              "      <th>gdp_for_year ($)</th>\n",
              "      <th>gdp_per_capita ($)</th>\n",
              "      <th>generation</th>\n",
              "    </tr>\n",
              "  </thead>\n",
              "  <tbody>\n",
              "    <tr>\n",
              "      <th>0</th>\n",
              "      <td>Albania</td>\n",
              "      <td>1987</td>\n",
              "      <td>male</td>\n",
              "      <td>15-24 years</td>\n",
              "      <td>21.0</td>\n",
              "      <td>312900</td>\n",
              "      <td>6.71</td>\n",
              "      <td>Albania1987</td>\n",
              "      <td>NaN</td>\n",
              "      <td>2,15,66,24,900</td>\n",
              "      <td>796.0</td>\n",
              "      <td>Generation X</td>\n",
              "    </tr>\n",
              "    <tr>\n",
              "      <th>1</th>\n",
              "      <td>Albania</td>\n",
              "      <td>1987</td>\n",
              "      <td>male</td>\n",
              "      <td>35-54 years</td>\n",
              "      <td>16.0</td>\n",
              "      <td>308000</td>\n",
              "      <td>5.19</td>\n",
              "      <td>Albania1987</td>\n",
              "      <td>NaN</td>\n",
              "      <td>2,15,66,24,900</td>\n",
              "      <td>796.0</td>\n",
              "      <td>Silent</td>\n",
              "    </tr>\n",
              "    <tr>\n",
              "      <th>2</th>\n",
              "      <td>Albania</td>\n",
              "      <td>1987</td>\n",
              "      <td>female</td>\n",
              "      <td>15-24 years</td>\n",
              "      <td>14.0</td>\n",
              "      <td>289700</td>\n",
              "      <td>4.83</td>\n",
              "      <td>Albania1987</td>\n",
              "      <td>NaN</td>\n",
              "      <td>2,15,66,24,900</td>\n",
              "      <td>796.0</td>\n",
              "      <td>Generation X</td>\n",
              "    </tr>\n",
              "    <tr>\n",
              "      <th>3</th>\n",
              "      <td>Albania</td>\n",
              "      <td>1987</td>\n",
              "      <td>male</td>\n",
              "      <td>75+ years</td>\n",
              "      <td>1.0</td>\n",
              "      <td>21800</td>\n",
              "      <td>4.59</td>\n",
              "      <td>Albania1987</td>\n",
              "      <td>NaN</td>\n",
              "      <td>2,15,66,24,900</td>\n",
              "      <td>796.0</td>\n",
              "      <td>G.I. Generation</td>\n",
              "    </tr>\n",
              "    <tr>\n",
              "      <th>4</th>\n",
              "      <td>Albania</td>\n",
              "      <td>1987</td>\n",
              "      <td>male</td>\n",
              "      <td>25-34 years</td>\n",
              "      <td>9.0</td>\n",
              "      <td>274300</td>\n",
              "      <td>3.28</td>\n",
              "      <td>Albania1987</td>\n",
              "      <td>NaN</td>\n",
              "      <td>2,15,66,24,900</td>\n",
              "      <td>796.0</td>\n",
              "      <td>Boomers</td>\n",
              "    </tr>\n",
              "  </tbody>\n",
              "</table>\n",
              "</div>\n",
              "      <button class=\"colab-df-convert\" onclick=\"convertToInteractive('df-f9c39969-5d82-4069-bca4-dd1a371bae70')\"\n",
              "              title=\"Convert this dataframe to an interactive table.\"\n",
              "              style=\"display:none;\">\n",
              "        \n",
              "  <svg xmlns=\"http://www.w3.org/2000/svg\" height=\"24px\"viewBox=\"0 0 24 24\"\n",
              "       width=\"24px\">\n",
              "    <path d=\"M0 0h24v24H0V0z\" fill=\"none\"/>\n",
              "    <path d=\"M18.56 5.44l.94 2.06.94-2.06 2.06-.94-2.06-.94-.94-2.06-.94 2.06-2.06.94zm-11 1L8.5 8.5l.94-2.06 2.06-.94-2.06-.94L8.5 2.5l-.94 2.06-2.06.94zm10 10l.94 2.06.94-2.06 2.06-.94-2.06-.94-.94-2.06-.94 2.06-2.06.94z\"/><path d=\"M17.41 7.96l-1.37-1.37c-.4-.4-.92-.59-1.43-.59-.52 0-1.04.2-1.43.59L10.3 9.45l-7.72 7.72c-.78.78-.78 2.05 0 2.83L4 21.41c.39.39.9.59 1.41.59.51 0 1.02-.2 1.41-.59l7.78-7.78 2.81-2.81c.8-.78.8-2.07 0-2.86zM5.41 20L4 18.59l7.72-7.72 1.47 1.35L5.41 20z\"/>\n",
              "  </svg>\n",
              "      </button>\n",
              "      \n",
              "  <style>\n",
              "    .colab-df-container {\n",
              "      display:flex;\n",
              "      flex-wrap:wrap;\n",
              "      gap: 12px;\n",
              "    }\n",
              "\n",
              "    .colab-df-convert {\n",
              "      background-color: #E8F0FE;\n",
              "      border: none;\n",
              "      border-radius: 50%;\n",
              "      cursor: pointer;\n",
              "      display: none;\n",
              "      fill: #1967D2;\n",
              "      height: 32px;\n",
              "      padding: 0 0 0 0;\n",
              "      width: 32px;\n",
              "    }\n",
              "\n",
              "    .colab-df-convert:hover {\n",
              "      background-color: #E2EBFA;\n",
              "      box-shadow: 0px 1px 2px rgba(60, 64, 67, 0.3), 0px 1px 3px 1px rgba(60, 64, 67, 0.15);\n",
              "      fill: #174EA6;\n",
              "    }\n",
              "\n",
              "    [theme=dark] .colab-df-convert {\n",
              "      background-color: #3B4455;\n",
              "      fill: #D2E3FC;\n",
              "    }\n",
              "\n",
              "    [theme=dark] .colab-df-convert:hover {\n",
              "      background-color: #434B5C;\n",
              "      box-shadow: 0px 1px 3px 1px rgba(0, 0, 0, 0.15);\n",
              "      filter: drop-shadow(0px 1px 2px rgba(0, 0, 0, 0.3));\n",
              "      fill: #FFFFFF;\n",
              "    }\n",
              "  </style>\n",
              "\n",
              "      <script>\n",
              "        const buttonEl =\n",
              "          document.querySelector('#df-f9c39969-5d82-4069-bca4-dd1a371bae70 button.colab-df-convert');\n",
              "        buttonEl.style.display =\n",
              "          google.colab.kernel.accessAllowed ? 'block' : 'none';\n",
              "\n",
              "        async function convertToInteractive(key) {\n",
              "          const element = document.querySelector('#df-f9c39969-5d82-4069-bca4-dd1a371bae70');\n",
              "          const dataTable =\n",
              "            await google.colab.kernel.invokeFunction('convertToInteractive',\n",
              "                                                     [key], {});\n",
              "          if (!dataTable) return;\n",
              "\n",
              "          const docLinkHtml = 'Like what you see? Visit the ' +\n",
              "            '<a target=\"_blank\" href=https://colab.research.google.com/notebooks/data_table.ipynb>data table notebook</a>'\n",
              "            + ' to learn more about interactive tables.';\n",
              "          element.innerHTML = '';\n",
              "          dataTable['output_type'] = 'display_data';\n",
              "          await google.colab.output.renderOutput(dataTable, element);\n",
              "          const docLink = document.createElement('div');\n",
              "          docLink.innerHTML = docLinkHtml;\n",
              "          element.appendChild(docLink);\n",
              "        }\n",
              "      </script>\n",
              "    </div>\n",
              "  </div>\n",
              "  "
            ]
          },
          "metadata": {},
          "execution_count": 6
        }
      ]
    },
    {
      "cell_type": "markdown",
      "source": [
        "#3. Neteja de les dades\n",
        "\n",
        "\n",
        "En cada dataset ens assegurarem que no hi ha dades duplicades i també que no hi hagi valors nuls. En aquest cas hauríem de solucionar-ho. Com que treballarem les dades per països farem que el nom de la columna 'Country name' sigui coincident."
      ],
      "metadata": {
        "id": "khGeEcD2J7M7"
      }
    },
    {
      "cell_type": "code",
      "source": [
        "# Comprovem que el dataset no tingui valors duplicats.\n",
        "df_2021.duplicated().sum()"
      ],
      "metadata": {
        "id": "yNYT6hF4wgXS",
        "colab": {
          "base_uri": "https://localhost:8080/"
        },
        "outputId": "a09a8c4b-dc3c-44be-dda0-8700da71e6d9"
      },
      "execution_count": null,
      "outputs": [
        {
          "output_type": "execute_result",
          "data": {
            "text/plain": [
              "0"
            ]
          },
          "metadata": {},
          "execution_count": 7
        }
      ]
    },
    {
      "cell_type": "markdown",
      "source": [
        "Ens assegurem que totes les columnes siguin del tipus que volem, en el nostre cas volem que els valors numèrics siguin flotants o enters per a poder fer operacions numèriques tal com sumes o mitjanes. Amb el resultat podem veure que està tot en ordre. "
      ],
      "metadata": {
        "id": "t4HcQ7q2sF9X"
      }
    },
    {
      "cell_type": "code",
      "source": [
        "df_2021.dtypes"
      ],
      "metadata": {
        "id": "UM1P5_T65qd3",
        "colab": {
          "base_uri": "https://localhost:8080/"
        },
        "outputId": "0099bab9-ef35-4187-e794-4affbce12df0"
      },
      "execution_count": null,
      "outputs": [
        {
          "output_type": "execute_result",
          "data": {
            "text/plain": [
              "Country name                                   object\n",
              "Regional indicator                             object\n",
              "Ladder score                                  float64\n",
              "Standard error of ladder score                float64\n",
              "upperwhisker                                  float64\n",
              "lowerwhisker                                  float64\n",
              "Logged GDP per capita                         float64\n",
              "Social support                                float64\n",
              "Healthy life expectancy                       float64\n",
              "Freedom to make life choices                  float64\n",
              "Generosity                                    float64\n",
              "Perceptions of corruption                     float64\n",
              "Ladder score in Dystopia                      float64\n",
              "Explained by: Log GDP per capita              float64\n",
              "Explained by: Social support                  float64\n",
              "Explained by: Healthy life expectancy         float64\n",
              "Explained by: Freedom to make life choices    float64\n",
              "Explained by: Generosity                      float64\n",
              "Explained by: Perceptions of corruption       float64\n",
              "Dystopia + residual                           float64\n",
              "dtype: object"
            ]
          },
          "metadata": {},
          "execution_count": 8
        }
      ]
    },
    {
      "cell_type": "code",
      "source": [
        "# Comprovem que el dataset no tingui valors duplicats.\n",
        "df_weather.duplicated().sum()"
      ],
      "metadata": {
        "id": "Yna9-sHm9CUR",
        "colab": {
          "base_uri": "https://localhost:8080/"
        },
        "outputId": "bbaacdac-0c1f-4bc4-f6d6-27a8854085e2"
      },
      "execution_count": null,
      "outputs": [
        {
          "output_type": "execute_result",
          "data": {
            "text/plain": [
              "0"
            ]
          },
          "metadata": {},
          "execution_count": 9
        }
      ]
    },
    {
      "cell_type": "code",
      "source": [
        "# Comprovem que el dataset no tingui valors duplicats.\n",
        "df_suicide.duplicated().sum()"
      ],
      "metadata": {
        "colab": {
          "base_uri": "https://localhost:8080/"
        },
        "id": "_BW1C_FqLBRf",
        "outputId": "efc4b6c0-d316-4dec-e7f6-686894514a03"
      },
      "execution_count": null,
      "outputs": [
        {
          "output_type": "execute_result",
          "data": {
            "text/plain": [
              "0"
            ]
          },
          "metadata": {},
          "execution_count": 10
        }
      ]
    },
    {
      "cell_type": "markdown",
      "source": [
        "Volem juntar els tres datasets que hem carregat, però necessitem que una de les columnes coincideixi. Per això canviem el nom de la columna on estan els païssos per \"Country name\", i comprovem que s'ha canviat correctament amb la funció head()."
      ],
      "metadata": {
        "id": "6MBy3YFisWdG"
      }
    },
    {
      "cell_type": "code",
      "source": [
        "df_weather.columns = ['Country name' if x=='Country/Region' else x for x in df_weather.columns]\n",
        "df_weather.head()"
      ],
      "metadata": {
        "id": "2R0tqfg1r_u1",
        "colab": {
          "base_uri": "https://localhost:8080/",
          "height": 543
        },
        "outputId": "48026767-7386-43cc-c6b1-0460a96a369a"
      },
      "execution_count": null,
      "outputs": [
        {
          "output_type": "execute_result",
          "data": {
            "text/plain": [
              "   Unnamed: 0 Country name Province/State        time  \\\n",
              "0           0  Afghanistan            NaN  2019-12-31   \n",
              "1           1  Afghanistan            NaN  2020-01-01   \n",
              "2           2  Afghanistan            NaN  2020-01-02   \n",
              "3           3  Afghanistan            NaN  2020-01-03   \n",
              "4           4  Afghanistan            NaN  2020-01-04   \n",
              "\n",
              "                                             summary               icon  \\\n",
              "0  Rain (with a chance of 1–3 in. of snow) until ...               rain   \n",
              "1                     Light rain throughout the day.               rain   \n",
              "2                          Clear throughout the day.               rain   \n",
              "3                  Partly cloudy throughout the day.  partly-cloudy-day   \n",
              "4                     Light rain throughout the day.               rain   \n",
              "\n",
              "    sunriseTime    sunsetTime  moonPhase  precipIntensity  ...  \\\n",
              "0  1.577847e+09  1.577883e+09       0.20           0.0156  ...   \n",
              "1  1.577933e+09  1.577969e+09       0.23           0.0235  ...   \n",
              "2  1.578019e+09  1.578056e+09       0.26           0.0016  ...   \n",
              "3  1.578106e+09  1.578142e+09       0.30           0.0003  ...   \n",
              "4  1.578192e+09  1.578228e+09       0.33           0.0145  ...   \n",
              "\n",
              "   temperatureMinTime  temperatureMax  temperatureMaxTime  \\\n",
              "0          1577827140           48.36          1577864700   \n",
              "1          1577918820           40.42          1577951460   \n",
              "2          1578020400           46.53          1578038340   \n",
              "3          1578106320           45.77          1578124500   \n",
              "4          1578193080           40.84          1578222000   \n",
              "\n",
              "  apparentTemperatureMin  apparentTemperatureMinTime  apparentTemperatureMax  \\\n",
              "0                  30.51                  1577835720                   47.86   \n",
              "1                  29.84                  1577919420                   40.08   \n",
              "2                  26.27                  1578020400                   46.03   \n",
              "3                  26.96                  1578093240                   45.35   \n",
              "4                  33.33                  1578193080                   40.34   \n",
              "\n",
              "   apparentTemperatureMaxTime   Lat  Long  precipAccumulation  \n",
              "0                  1577864700  33.0  65.0                 NaN  \n",
              "1                  1577951220  33.0  65.0                 NaN  \n",
              "2                  1578038340  33.0  65.0                 NaN  \n",
              "3                  1578124260  33.0  65.0                 NaN  \n",
              "4                  1578222000  33.0  65.0                 NaN  \n",
              "\n",
              "[5 rows x 45 columns]"
            ],
            "text/html": [
              "\n",
              "  <div id=\"df-124d68fe-a530-4a91-84ef-3e934575e4d9\">\n",
              "    <div class=\"colab-df-container\">\n",
              "      <div>\n",
              "<style scoped>\n",
              "    .dataframe tbody tr th:only-of-type {\n",
              "        vertical-align: middle;\n",
              "    }\n",
              "\n",
              "    .dataframe tbody tr th {\n",
              "        vertical-align: top;\n",
              "    }\n",
              "\n",
              "    .dataframe thead th {\n",
              "        text-align: right;\n",
              "    }\n",
              "</style>\n",
              "<table border=\"1\" class=\"dataframe\">\n",
              "  <thead>\n",
              "    <tr style=\"text-align: right;\">\n",
              "      <th></th>\n",
              "      <th>Unnamed: 0</th>\n",
              "      <th>Country name</th>\n",
              "      <th>Province/State</th>\n",
              "      <th>time</th>\n",
              "      <th>summary</th>\n",
              "      <th>icon</th>\n",
              "      <th>sunriseTime</th>\n",
              "      <th>sunsetTime</th>\n",
              "      <th>moonPhase</th>\n",
              "      <th>precipIntensity</th>\n",
              "      <th>...</th>\n",
              "      <th>temperatureMinTime</th>\n",
              "      <th>temperatureMax</th>\n",
              "      <th>temperatureMaxTime</th>\n",
              "      <th>apparentTemperatureMin</th>\n",
              "      <th>apparentTemperatureMinTime</th>\n",
              "      <th>apparentTemperatureMax</th>\n",
              "      <th>apparentTemperatureMaxTime</th>\n",
              "      <th>Lat</th>\n",
              "      <th>Long</th>\n",
              "      <th>precipAccumulation</th>\n",
              "    </tr>\n",
              "  </thead>\n",
              "  <tbody>\n",
              "    <tr>\n",
              "      <th>0</th>\n",
              "      <td>0</td>\n",
              "      <td>Afghanistan</td>\n",
              "      <td>NaN</td>\n",
              "      <td>2019-12-31</td>\n",
              "      <td>Rain (with a chance of 1–3 in. of snow) until ...</td>\n",
              "      <td>rain</td>\n",
              "      <td>1.577847e+09</td>\n",
              "      <td>1.577883e+09</td>\n",
              "      <td>0.20</td>\n",
              "      <td>0.0156</td>\n",
              "      <td>...</td>\n",
              "      <td>1577827140</td>\n",
              "      <td>48.36</td>\n",
              "      <td>1577864700</td>\n",
              "      <td>30.51</td>\n",
              "      <td>1577835720</td>\n",
              "      <td>47.86</td>\n",
              "      <td>1577864700</td>\n",
              "      <td>33.0</td>\n",
              "      <td>65.0</td>\n",
              "      <td>NaN</td>\n",
              "    </tr>\n",
              "    <tr>\n",
              "      <th>1</th>\n",
              "      <td>1</td>\n",
              "      <td>Afghanistan</td>\n",
              "      <td>NaN</td>\n",
              "      <td>2020-01-01</td>\n",
              "      <td>Light rain throughout the day.</td>\n",
              "      <td>rain</td>\n",
              "      <td>1.577933e+09</td>\n",
              "      <td>1.577969e+09</td>\n",
              "      <td>0.23</td>\n",
              "      <td>0.0235</td>\n",
              "      <td>...</td>\n",
              "      <td>1577918820</td>\n",
              "      <td>40.42</td>\n",
              "      <td>1577951460</td>\n",
              "      <td>29.84</td>\n",
              "      <td>1577919420</td>\n",
              "      <td>40.08</td>\n",
              "      <td>1577951220</td>\n",
              "      <td>33.0</td>\n",
              "      <td>65.0</td>\n",
              "      <td>NaN</td>\n",
              "    </tr>\n",
              "    <tr>\n",
              "      <th>2</th>\n",
              "      <td>2</td>\n",
              "      <td>Afghanistan</td>\n",
              "      <td>NaN</td>\n",
              "      <td>2020-01-02</td>\n",
              "      <td>Clear throughout the day.</td>\n",
              "      <td>rain</td>\n",
              "      <td>1.578019e+09</td>\n",
              "      <td>1.578056e+09</td>\n",
              "      <td>0.26</td>\n",
              "      <td>0.0016</td>\n",
              "      <td>...</td>\n",
              "      <td>1578020400</td>\n",
              "      <td>46.53</td>\n",
              "      <td>1578038340</td>\n",
              "      <td>26.27</td>\n",
              "      <td>1578020400</td>\n",
              "      <td>46.03</td>\n",
              "      <td>1578038340</td>\n",
              "      <td>33.0</td>\n",
              "      <td>65.0</td>\n",
              "      <td>NaN</td>\n",
              "    </tr>\n",
              "    <tr>\n",
              "      <th>3</th>\n",
              "      <td>3</td>\n",
              "      <td>Afghanistan</td>\n",
              "      <td>NaN</td>\n",
              "      <td>2020-01-03</td>\n",
              "      <td>Partly cloudy throughout the day.</td>\n",
              "      <td>partly-cloudy-day</td>\n",
              "      <td>1.578106e+09</td>\n",
              "      <td>1.578142e+09</td>\n",
              "      <td>0.30</td>\n",
              "      <td>0.0003</td>\n",
              "      <td>...</td>\n",
              "      <td>1578106320</td>\n",
              "      <td>45.77</td>\n",
              "      <td>1578124500</td>\n",
              "      <td>26.96</td>\n",
              "      <td>1578093240</td>\n",
              "      <td>45.35</td>\n",
              "      <td>1578124260</td>\n",
              "      <td>33.0</td>\n",
              "      <td>65.0</td>\n",
              "      <td>NaN</td>\n",
              "    </tr>\n",
              "    <tr>\n",
              "      <th>4</th>\n",
              "      <td>4</td>\n",
              "      <td>Afghanistan</td>\n",
              "      <td>NaN</td>\n",
              "      <td>2020-01-04</td>\n",
              "      <td>Light rain throughout the day.</td>\n",
              "      <td>rain</td>\n",
              "      <td>1.578192e+09</td>\n",
              "      <td>1.578228e+09</td>\n",
              "      <td>0.33</td>\n",
              "      <td>0.0145</td>\n",
              "      <td>...</td>\n",
              "      <td>1578193080</td>\n",
              "      <td>40.84</td>\n",
              "      <td>1578222000</td>\n",
              "      <td>33.33</td>\n",
              "      <td>1578193080</td>\n",
              "      <td>40.34</td>\n",
              "      <td>1578222000</td>\n",
              "      <td>33.0</td>\n",
              "      <td>65.0</td>\n",
              "      <td>NaN</td>\n",
              "    </tr>\n",
              "  </tbody>\n",
              "</table>\n",
              "<p>5 rows × 45 columns</p>\n",
              "</div>\n",
              "      <button class=\"colab-df-convert\" onclick=\"convertToInteractive('df-124d68fe-a530-4a91-84ef-3e934575e4d9')\"\n",
              "              title=\"Convert this dataframe to an interactive table.\"\n",
              "              style=\"display:none;\">\n",
              "        \n",
              "  <svg xmlns=\"http://www.w3.org/2000/svg\" height=\"24px\"viewBox=\"0 0 24 24\"\n",
              "       width=\"24px\">\n",
              "    <path d=\"M0 0h24v24H0V0z\" fill=\"none\"/>\n",
              "    <path d=\"M18.56 5.44l.94 2.06.94-2.06 2.06-.94-2.06-.94-.94-2.06-.94 2.06-2.06.94zm-11 1L8.5 8.5l.94-2.06 2.06-.94-2.06-.94L8.5 2.5l-.94 2.06-2.06.94zm10 10l.94 2.06.94-2.06 2.06-.94-2.06-.94-.94-2.06-.94 2.06-2.06.94z\"/><path d=\"M17.41 7.96l-1.37-1.37c-.4-.4-.92-.59-1.43-.59-.52 0-1.04.2-1.43.59L10.3 9.45l-7.72 7.72c-.78.78-.78 2.05 0 2.83L4 21.41c.39.39.9.59 1.41.59.51 0 1.02-.2 1.41-.59l7.78-7.78 2.81-2.81c.8-.78.8-2.07 0-2.86zM5.41 20L4 18.59l7.72-7.72 1.47 1.35L5.41 20z\"/>\n",
              "  </svg>\n",
              "      </button>\n",
              "      \n",
              "  <style>\n",
              "    .colab-df-container {\n",
              "      display:flex;\n",
              "      flex-wrap:wrap;\n",
              "      gap: 12px;\n",
              "    }\n",
              "\n",
              "    .colab-df-convert {\n",
              "      background-color: #E8F0FE;\n",
              "      border: none;\n",
              "      border-radius: 50%;\n",
              "      cursor: pointer;\n",
              "      display: none;\n",
              "      fill: #1967D2;\n",
              "      height: 32px;\n",
              "      padding: 0 0 0 0;\n",
              "      width: 32px;\n",
              "    }\n",
              "\n",
              "    .colab-df-convert:hover {\n",
              "      background-color: #E2EBFA;\n",
              "      box-shadow: 0px 1px 2px rgba(60, 64, 67, 0.3), 0px 1px 3px 1px rgba(60, 64, 67, 0.15);\n",
              "      fill: #174EA6;\n",
              "    }\n",
              "\n",
              "    [theme=dark] .colab-df-convert {\n",
              "      background-color: #3B4455;\n",
              "      fill: #D2E3FC;\n",
              "    }\n",
              "\n",
              "    [theme=dark] .colab-df-convert:hover {\n",
              "      background-color: #434B5C;\n",
              "      box-shadow: 0px 1px 3px 1px rgba(0, 0, 0, 0.15);\n",
              "      filter: drop-shadow(0px 1px 2px rgba(0, 0, 0, 0.3));\n",
              "      fill: #FFFFFF;\n",
              "    }\n",
              "  </style>\n",
              "\n",
              "      <script>\n",
              "        const buttonEl =\n",
              "          document.querySelector('#df-124d68fe-a530-4a91-84ef-3e934575e4d9 button.colab-df-convert');\n",
              "        buttonEl.style.display =\n",
              "          google.colab.kernel.accessAllowed ? 'block' : 'none';\n",
              "\n",
              "        async function convertToInteractive(key) {\n",
              "          const element = document.querySelector('#df-124d68fe-a530-4a91-84ef-3e934575e4d9');\n",
              "          const dataTable =\n",
              "            await google.colab.kernel.invokeFunction('convertToInteractive',\n",
              "                                                     [key], {});\n",
              "          if (!dataTable) return;\n",
              "\n",
              "          const docLinkHtml = 'Like what you see? Visit the ' +\n",
              "            '<a target=\"_blank\" href=https://colab.research.google.com/notebooks/data_table.ipynb>data table notebook</a>'\n",
              "            + ' to learn more about interactive tables.';\n",
              "          element.innerHTML = '';\n",
              "          dataTable['output_type'] = 'display_data';\n",
              "          await google.colab.output.renderOutput(dataTable, element);\n",
              "          const docLink = document.createElement('div');\n",
              "          docLink.innerHTML = docLinkHtml;\n",
              "          element.appendChild(docLink);\n",
              "        }\n",
              "      </script>\n",
              "    </div>\n",
              "  </div>\n",
              "  "
            ]
          },
          "metadata": {},
          "execution_count": 11
        }
      ]
    },
    {
      "cell_type": "code",
      "source": [
        "df_suicide.columns = ['Country name' if x=='country' else x for x in df_suicide.columns]\n",
        "df_suicide.head()"
      ],
      "metadata": {
        "colab": {
          "base_uri": "https://localhost:8080/",
          "height": 372
        },
        "id": "wsBhK3-jLgQZ",
        "outputId": "55fcf9be-cd5e-4961-9b04-128beb709eb4"
      },
      "execution_count": null,
      "outputs": [
        {
          "output_type": "execute_result",
          "data": {
            "text/plain": [
              "  Country name  year     sex          age  suicides_no  population  \\\n",
              "0      Albania  1987    male  15-24 years         21.0      312900   \n",
              "1      Albania  1987    male  35-54 years         16.0      308000   \n",
              "2      Albania  1987  female  15-24 years         14.0      289700   \n",
              "3      Albania  1987    male    75+ years          1.0       21800   \n",
              "4      Albania  1987    male  25-34 years          9.0      274300   \n",
              "\n",
              "   suicides/100k pop country-year  HDI for year  gdp_for_year ($)   \\\n",
              "0               6.71  Albania1987           NaN     2,15,66,24,900   \n",
              "1               5.19  Albania1987           NaN     2,15,66,24,900   \n",
              "2               4.83  Albania1987           NaN     2,15,66,24,900   \n",
              "3               4.59  Albania1987           NaN     2,15,66,24,900   \n",
              "4               3.28  Albania1987           NaN     2,15,66,24,900   \n",
              "\n",
              "   gdp_per_capita ($)       generation  \n",
              "0               796.0     Generation X  \n",
              "1               796.0           Silent  \n",
              "2               796.0     Generation X  \n",
              "3               796.0  G.I. Generation  \n",
              "4               796.0          Boomers  "
            ],
            "text/html": [
              "\n",
              "  <div id=\"df-ab4b5a34-0a2d-4005-ae6d-a949c684042d\">\n",
              "    <div class=\"colab-df-container\">\n",
              "      <div>\n",
              "<style scoped>\n",
              "    .dataframe tbody tr th:only-of-type {\n",
              "        vertical-align: middle;\n",
              "    }\n",
              "\n",
              "    .dataframe tbody tr th {\n",
              "        vertical-align: top;\n",
              "    }\n",
              "\n",
              "    .dataframe thead th {\n",
              "        text-align: right;\n",
              "    }\n",
              "</style>\n",
              "<table border=\"1\" class=\"dataframe\">\n",
              "  <thead>\n",
              "    <tr style=\"text-align: right;\">\n",
              "      <th></th>\n",
              "      <th>Country name</th>\n",
              "      <th>year</th>\n",
              "      <th>sex</th>\n",
              "      <th>age</th>\n",
              "      <th>suicides_no</th>\n",
              "      <th>population</th>\n",
              "      <th>suicides/100k pop</th>\n",
              "      <th>country-year</th>\n",
              "      <th>HDI for year</th>\n",
              "      <th>gdp_for_year ($)</th>\n",
              "      <th>gdp_per_capita ($)</th>\n",
              "      <th>generation</th>\n",
              "    </tr>\n",
              "  </thead>\n",
              "  <tbody>\n",
              "    <tr>\n",
              "      <th>0</th>\n",
              "      <td>Albania</td>\n",
              "      <td>1987</td>\n",
              "      <td>male</td>\n",
              "      <td>15-24 years</td>\n",
              "      <td>21.0</td>\n",
              "      <td>312900</td>\n",
              "      <td>6.71</td>\n",
              "      <td>Albania1987</td>\n",
              "      <td>NaN</td>\n",
              "      <td>2,15,66,24,900</td>\n",
              "      <td>796.0</td>\n",
              "      <td>Generation X</td>\n",
              "    </tr>\n",
              "    <tr>\n",
              "      <th>1</th>\n",
              "      <td>Albania</td>\n",
              "      <td>1987</td>\n",
              "      <td>male</td>\n",
              "      <td>35-54 years</td>\n",
              "      <td>16.0</td>\n",
              "      <td>308000</td>\n",
              "      <td>5.19</td>\n",
              "      <td>Albania1987</td>\n",
              "      <td>NaN</td>\n",
              "      <td>2,15,66,24,900</td>\n",
              "      <td>796.0</td>\n",
              "      <td>Silent</td>\n",
              "    </tr>\n",
              "    <tr>\n",
              "      <th>2</th>\n",
              "      <td>Albania</td>\n",
              "      <td>1987</td>\n",
              "      <td>female</td>\n",
              "      <td>15-24 years</td>\n",
              "      <td>14.0</td>\n",
              "      <td>289700</td>\n",
              "      <td>4.83</td>\n",
              "      <td>Albania1987</td>\n",
              "      <td>NaN</td>\n",
              "      <td>2,15,66,24,900</td>\n",
              "      <td>796.0</td>\n",
              "      <td>Generation X</td>\n",
              "    </tr>\n",
              "    <tr>\n",
              "      <th>3</th>\n",
              "      <td>Albania</td>\n",
              "      <td>1987</td>\n",
              "      <td>male</td>\n",
              "      <td>75+ years</td>\n",
              "      <td>1.0</td>\n",
              "      <td>21800</td>\n",
              "      <td>4.59</td>\n",
              "      <td>Albania1987</td>\n",
              "      <td>NaN</td>\n",
              "      <td>2,15,66,24,900</td>\n",
              "      <td>796.0</td>\n",
              "      <td>G.I. Generation</td>\n",
              "    </tr>\n",
              "    <tr>\n",
              "      <th>4</th>\n",
              "      <td>Albania</td>\n",
              "      <td>1987</td>\n",
              "      <td>male</td>\n",
              "      <td>25-34 years</td>\n",
              "      <td>9.0</td>\n",
              "      <td>274300</td>\n",
              "      <td>3.28</td>\n",
              "      <td>Albania1987</td>\n",
              "      <td>NaN</td>\n",
              "      <td>2,15,66,24,900</td>\n",
              "      <td>796.0</td>\n",
              "      <td>Boomers</td>\n",
              "    </tr>\n",
              "  </tbody>\n",
              "</table>\n",
              "</div>\n",
              "      <button class=\"colab-df-convert\" onclick=\"convertToInteractive('df-ab4b5a34-0a2d-4005-ae6d-a949c684042d')\"\n",
              "              title=\"Convert this dataframe to an interactive table.\"\n",
              "              style=\"display:none;\">\n",
              "        \n",
              "  <svg xmlns=\"http://www.w3.org/2000/svg\" height=\"24px\"viewBox=\"0 0 24 24\"\n",
              "       width=\"24px\">\n",
              "    <path d=\"M0 0h24v24H0V0z\" fill=\"none\"/>\n",
              "    <path d=\"M18.56 5.44l.94 2.06.94-2.06 2.06-.94-2.06-.94-.94-2.06-.94 2.06-2.06.94zm-11 1L8.5 8.5l.94-2.06 2.06-.94-2.06-.94L8.5 2.5l-.94 2.06-2.06.94zm10 10l.94 2.06.94-2.06 2.06-.94-2.06-.94-.94-2.06-.94 2.06-2.06.94z\"/><path d=\"M17.41 7.96l-1.37-1.37c-.4-.4-.92-.59-1.43-.59-.52 0-1.04.2-1.43.59L10.3 9.45l-7.72 7.72c-.78.78-.78 2.05 0 2.83L4 21.41c.39.39.9.59 1.41.59.51 0 1.02-.2 1.41-.59l7.78-7.78 2.81-2.81c.8-.78.8-2.07 0-2.86zM5.41 20L4 18.59l7.72-7.72 1.47 1.35L5.41 20z\"/>\n",
              "  </svg>\n",
              "      </button>\n",
              "      \n",
              "  <style>\n",
              "    .colab-df-container {\n",
              "      display:flex;\n",
              "      flex-wrap:wrap;\n",
              "      gap: 12px;\n",
              "    }\n",
              "\n",
              "    .colab-df-convert {\n",
              "      background-color: #E8F0FE;\n",
              "      border: none;\n",
              "      border-radius: 50%;\n",
              "      cursor: pointer;\n",
              "      display: none;\n",
              "      fill: #1967D2;\n",
              "      height: 32px;\n",
              "      padding: 0 0 0 0;\n",
              "      width: 32px;\n",
              "    }\n",
              "\n",
              "    .colab-df-convert:hover {\n",
              "      background-color: #E2EBFA;\n",
              "      box-shadow: 0px 1px 2px rgba(60, 64, 67, 0.3), 0px 1px 3px 1px rgba(60, 64, 67, 0.15);\n",
              "      fill: #174EA6;\n",
              "    }\n",
              "\n",
              "    [theme=dark] .colab-df-convert {\n",
              "      background-color: #3B4455;\n",
              "      fill: #D2E3FC;\n",
              "    }\n",
              "\n",
              "    [theme=dark] .colab-df-convert:hover {\n",
              "      background-color: #434B5C;\n",
              "      box-shadow: 0px 1px 3px 1px rgba(0, 0, 0, 0.15);\n",
              "      filter: drop-shadow(0px 1px 2px rgba(0, 0, 0, 0.3));\n",
              "      fill: #FFFFFF;\n",
              "    }\n",
              "  </style>\n",
              "\n",
              "      <script>\n",
              "        const buttonEl =\n",
              "          document.querySelector('#df-ab4b5a34-0a2d-4005-ae6d-a949c684042d button.colab-df-convert');\n",
              "        buttonEl.style.display =\n",
              "          google.colab.kernel.accessAllowed ? 'block' : 'none';\n",
              "\n",
              "        async function convertToInteractive(key) {\n",
              "          const element = document.querySelector('#df-ab4b5a34-0a2d-4005-ae6d-a949c684042d');\n",
              "          const dataTable =\n",
              "            await google.colab.kernel.invokeFunction('convertToInteractive',\n",
              "                                                     [key], {});\n",
              "          if (!dataTable) return;\n",
              "\n",
              "          const docLinkHtml = 'Like what you see? Visit the ' +\n",
              "            '<a target=\"_blank\" href=https://colab.research.google.com/notebooks/data_table.ipynb>data table notebook</a>'\n",
              "            + ' to learn more about interactive tables.';\n",
              "          element.innerHTML = '';\n",
              "          dataTable['output_type'] = 'display_data';\n",
              "          await google.colab.output.renderOutput(dataTable, element);\n",
              "          const docLink = document.createElement('div');\n",
              "          docLink.innerHTML = docLinkHtml;\n",
              "          element.appendChild(docLink);\n",
              "        }\n",
              "      </script>\n",
              "    </div>\n",
              "  </div>\n",
              "  "
            ]
          },
          "metadata": {},
          "execution_count": 12
        }
      ]
    },
    {
      "cell_type": "code",
      "source": [
        "# Agrupem les files per països i fem la mitja anual de cada una de les variables. \n",
        "weather_by_country = df_weather.groupby('Country name').mean()\n",
        "weather_by_country.head()"
      ],
      "metadata": {
        "id": "cmZdXoS_sSxx",
        "colab": {
          "base_uri": "https://localhost:8080/",
          "height": 383
        },
        "outputId": "25edb423-a6c8-4a70-b973-6e0b6bede526"
      },
      "execution_count": null,
      "outputs": [
        {
          "output_type": "execute_result",
          "data": {
            "text/plain": [
              "                     Unnamed: 0   sunriseTime    sunsetTime  moonPhase  \\\n",
              "Country name                                                             \n",
              "Afghanistan                55.5  1.582640e+09  1.582681e+09   0.508661   \n",
              "Albania                   167.5  1.582651e+09  1.582691e+09   0.513214   \n",
              "Algeria                   279.5  1.582655e+09  1.582696e+09   0.513482   \n",
              "Andorra                   391.5  1.582655e+09  1.582695e+09   0.513214   \n",
              "Antigua and Barbuda       503.5  1.582583e+09  1.582625e+09   0.505000   \n",
              "\n",
              "                     precipIntensity  precipIntensityMax  \\\n",
              "Country name                                               \n",
              "Afghanistan                 0.006422            0.022493   \n",
              "Albania                     0.006932            0.024271   \n",
              "Algeria                     0.000488            0.002764   \n",
              "Andorra                     0.004790            0.015194   \n",
              "Antigua and Barbuda         0.003291            0.010244   \n",
              "\n",
              "                     precipIntensityMaxTime  precipProbability  \\\n",
              "Country name                                                     \n",
              "Afghanistan                    1.582656e+09           0.265268   \n",
              "Albania                        1.582707e+09           0.323929   \n",
              "Algeria                        1.582741e+09           0.034196   \n",
              "Andorra                        1.582746e+09           0.265804   \n",
              "Antigua and Barbuda            1.582600e+09           0.321607   \n",
              "\n",
              "                     temperatureHigh  temperatureHighTime  ...  \\\n",
              "Country name                                               ...   \n",
              "Afghanistan                53.353750         1.582666e+09  ...   \n",
              "Albania                    58.572946         1.582675e+09  ...   \n",
              "Algeria                    79.553304         1.582683e+09  ...   \n",
              "Andorra                    56.552143         1.582679e+09  ...   \n",
              "Antigua and Barbuda        81.999375         1.582609e+09  ...   \n",
              "\n",
              "                     temperatureMinTime  temperatureMax  temperatureMaxTime  \\\n",
              "Country name                                                                  \n",
              "Afghanistan                1.582644e+09       53.371875        1.582666e+09   \n",
              "Albania                    1.582662e+09       58.746964        1.582673e+09   \n",
              "Algeria                    1.582651e+09       79.628125        1.582682e+09   \n",
              "Andorra                    1.582659e+09       56.569196        1.582678e+09   \n",
              "Antigua and Barbuda        1.582574e+09       81.999375        1.582609e+09   \n",
              "\n",
              "                     apparentTemperatureMin  apparentTemperatureMinTime  \\\n",
              "Country name                                                              \n",
              "Afghanistan                       32.655893                1.582646e+09   \n",
              "Albania                           38.496696                1.582657e+09   \n",
              "Algeria                           51.879554                1.582651e+09   \n",
              "Andorra                           34.852768                1.582660e+09   \n",
              "Antigua and Barbuda               76.095089                1.582574e+09   \n",
              "\n",
              "                     apparentTemperatureMax  apparentTemperatureMaxTime  \\\n",
              "Country name                                                              \n",
              "Afghanistan                       52.652411                1.582666e+09   \n",
              "Albania                           58.018304                1.582673e+09   \n",
              "Algeria                           79.128125                1.582682e+09   \n",
              "Andorra                           55.643750                1.582678e+09   \n",
              "Antigua and Barbuda               85.809911                1.582608e+09   \n",
              "\n",
              "                         Lat     Long  precipAccumulation  \n",
              "Country name                                               \n",
              "Afghanistan          33.0000  65.0000            0.052778  \n",
              "Albania              41.1533  20.1683            0.010000  \n",
              "Algeria              28.0339   1.6596                 NaN  \n",
              "Andorra              42.5063   1.5218            0.020000  \n",
              "Antigua and Barbuda  17.0608 -61.7964                 NaN  \n",
              "\n",
              "[5 rows x 39 columns]"
            ],
            "text/html": [
              "\n",
              "  <div id=\"df-45047bdd-6110-498b-9fd9-f1792bc905b1\">\n",
              "    <div class=\"colab-df-container\">\n",
              "      <div>\n",
              "<style scoped>\n",
              "    .dataframe tbody tr th:only-of-type {\n",
              "        vertical-align: middle;\n",
              "    }\n",
              "\n",
              "    .dataframe tbody tr th {\n",
              "        vertical-align: top;\n",
              "    }\n",
              "\n",
              "    .dataframe thead th {\n",
              "        text-align: right;\n",
              "    }\n",
              "</style>\n",
              "<table border=\"1\" class=\"dataframe\">\n",
              "  <thead>\n",
              "    <tr style=\"text-align: right;\">\n",
              "      <th></th>\n",
              "      <th>Unnamed: 0</th>\n",
              "      <th>sunriseTime</th>\n",
              "      <th>sunsetTime</th>\n",
              "      <th>moonPhase</th>\n",
              "      <th>precipIntensity</th>\n",
              "      <th>precipIntensityMax</th>\n",
              "      <th>precipIntensityMaxTime</th>\n",
              "      <th>precipProbability</th>\n",
              "      <th>temperatureHigh</th>\n",
              "      <th>temperatureHighTime</th>\n",
              "      <th>...</th>\n",
              "      <th>temperatureMinTime</th>\n",
              "      <th>temperatureMax</th>\n",
              "      <th>temperatureMaxTime</th>\n",
              "      <th>apparentTemperatureMin</th>\n",
              "      <th>apparentTemperatureMinTime</th>\n",
              "      <th>apparentTemperatureMax</th>\n",
              "      <th>apparentTemperatureMaxTime</th>\n",
              "      <th>Lat</th>\n",
              "      <th>Long</th>\n",
              "      <th>precipAccumulation</th>\n",
              "    </tr>\n",
              "    <tr>\n",
              "      <th>Country name</th>\n",
              "      <th></th>\n",
              "      <th></th>\n",
              "      <th></th>\n",
              "      <th></th>\n",
              "      <th></th>\n",
              "      <th></th>\n",
              "      <th></th>\n",
              "      <th></th>\n",
              "      <th></th>\n",
              "      <th></th>\n",
              "      <th></th>\n",
              "      <th></th>\n",
              "      <th></th>\n",
              "      <th></th>\n",
              "      <th></th>\n",
              "      <th></th>\n",
              "      <th></th>\n",
              "      <th></th>\n",
              "      <th></th>\n",
              "      <th></th>\n",
              "      <th></th>\n",
              "    </tr>\n",
              "  </thead>\n",
              "  <tbody>\n",
              "    <tr>\n",
              "      <th>Afghanistan</th>\n",
              "      <td>55.5</td>\n",
              "      <td>1.582640e+09</td>\n",
              "      <td>1.582681e+09</td>\n",
              "      <td>0.508661</td>\n",
              "      <td>0.006422</td>\n",
              "      <td>0.022493</td>\n",
              "      <td>1.582656e+09</td>\n",
              "      <td>0.265268</td>\n",
              "      <td>53.353750</td>\n",
              "      <td>1.582666e+09</td>\n",
              "      <td>...</td>\n",
              "      <td>1.582644e+09</td>\n",
              "      <td>53.371875</td>\n",
              "      <td>1.582666e+09</td>\n",
              "      <td>32.655893</td>\n",
              "      <td>1.582646e+09</td>\n",
              "      <td>52.652411</td>\n",
              "      <td>1.582666e+09</td>\n",
              "      <td>33.0000</td>\n",
              "      <td>65.0000</td>\n",
              "      <td>0.052778</td>\n",
              "    </tr>\n",
              "    <tr>\n",
              "      <th>Albania</th>\n",
              "      <td>167.5</td>\n",
              "      <td>1.582651e+09</td>\n",
              "      <td>1.582691e+09</td>\n",
              "      <td>0.513214</td>\n",
              "      <td>0.006932</td>\n",
              "      <td>0.024271</td>\n",
              "      <td>1.582707e+09</td>\n",
              "      <td>0.323929</td>\n",
              "      <td>58.572946</td>\n",
              "      <td>1.582675e+09</td>\n",
              "      <td>...</td>\n",
              "      <td>1.582662e+09</td>\n",
              "      <td>58.746964</td>\n",
              "      <td>1.582673e+09</td>\n",
              "      <td>38.496696</td>\n",
              "      <td>1.582657e+09</td>\n",
              "      <td>58.018304</td>\n",
              "      <td>1.582673e+09</td>\n",
              "      <td>41.1533</td>\n",
              "      <td>20.1683</td>\n",
              "      <td>0.010000</td>\n",
              "    </tr>\n",
              "    <tr>\n",
              "      <th>Algeria</th>\n",
              "      <td>279.5</td>\n",
              "      <td>1.582655e+09</td>\n",
              "      <td>1.582696e+09</td>\n",
              "      <td>0.513482</td>\n",
              "      <td>0.000488</td>\n",
              "      <td>0.002764</td>\n",
              "      <td>1.582741e+09</td>\n",
              "      <td>0.034196</td>\n",
              "      <td>79.553304</td>\n",
              "      <td>1.582683e+09</td>\n",
              "      <td>...</td>\n",
              "      <td>1.582651e+09</td>\n",
              "      <td>79.628125</td>\n",
              "      <td>1.582682e+09</td>\n",
              "      <td>51.879554</td>\n",
              "      <td>1.582651e+09</td>\n",
              "      <td>79.128125</td>\n",
              "      <td>1.582682e+09</td>\n",
              "      <td>28.0339</td>\n",
              "      <td>1.6596</td>\n",
              "      <td>NaN</td>\n",
              "    </tr>\n",
              "    <tr>\n",
              "      <th>Andorra</th>\n",
              "      <td>391.5</td>\n",
              "      <td>1.582655e+09</td>\n",
              "      <td>1.582695e+09</td>\n",
              "      <td>0.513214</td>\n",
              "      <td>0.004790</td>\n",
              "      <td>0.015194</td>\n",
              "      <td>1.582746e+09</td>\n",
              "      <td>0.265804</td>\n",
              "      <td>56.552143</td>\n",
              "      <td>1.582679e+09</td>\n",
              "      <td>...</td>\n",
              "      <td>1.582659e+09</td>\n",
              "      <td>56.569196</td>\n",
              "      <td>1.582678e+09</td>\n",
              "      <td>34.852768</td>\n",
              "      <td>1.582660e+09</td>\n",
              "      <td>55.643750</td>\n",
              "      <td>1.582678e+09</td>\n",
              "      <td>42.5063</td>\n",
              "      <td>1.5218</td>\n",
              "      <td>0.020000</td>\n",
              "    </tr>\n",
              "    <tr>\n",
              "      <th>Antigua and Barbuda</th>\n",
              "      <td>503.5</td>\n",
              "      <td>1.582583e+09</td>\n",
              "      <td>1.582625e+09</td>\n",
              "      <td>0.505000</td>\n",
              "      <td>0.003291</td>\n",
              "      <td>0.010244</td>\n",
              "      <td>1.582600e+09</td>\n",
              "      <td>0.321607</td>\n",
              "      <td>81.999375</td>\n",
              "      <td>1.582609e+09</td>\n",
              "      <td>...</td>\n",
              "      <td>1.582574e+09</td>\n",
              "      <td>81.999375</td>\n",
              "      <td>1.582609e+09</td>\n",
              "      <td>76.095089</td>\n",
              "      <td>1.582574e+09</td>\n",
              "      <td>85.809911</td>\n",
              "      <td>1.582608e+09</td>\n",
              "      <td>17.0608</td>\n",
              "      <td>-61.7964</td>\n",
              "      <td>NaN</td>\n",
              "    </tr>\n",
              "  </tbody>\n",
              "</table>\n",
              "<p>5 rows × 39 columns</p>\n",
              "</div>\n",
              "      <button class=\"colab-df-convert\" onclick=\"convertToInteractive('df-45047bdd-6110-498b-9fd9-f1792bc905b1')\"\n",
              "              title=\"Convert this dataframe to an interactive table.\"\n",
              "              style=\"display:none;\">\n",
              "        \n",
              "  <svg xmlns=\"http://www.w3.org/2000/svg\" height=\"24px\"viewBox=\"0 0 24 24\"\n",
              "       width=\"24px\">\n",
              "    <path d=\"M0 0h24v24H0V0z\" fill=\"none\"/>\n",
              "    <path d=\"M18.56 5.44l.94 2.06.94-2.06 2.06-.94-2.06-.94-.94-2.06-.94 2.06-2.06.94zm-11 1L8.5 8.5l.94-2.06 2.06-.94-2.06-.94L8.5 2.5l-.94 2.06-2.06.94zm10 10l.94 2.06.94-2.06 2.06-.94-2.06-.94-.94-2.06-.94 2.06-2.06.94z\"/><path d=\"M17.41 7.96l-1.37-1.37c-.4-.4-.92-.59-1.43-.59-.52 0-1.04.2-1.43.59L10.3 9.45l-7.72 7.72c-.78.78-.78 2.05 0 2.83L4 21.41c.39.39.9.59 1.41.59.51 0 1.02-.2 1.41-.59l7.78-7.78 2.81-2.81c.8-.78.8-2.07 0-2.86zM5.41 20L4 18.59l7.72-7.72 1.47 1.35L5.41 20z\"/>\n",
              "  </svg>\n",
              "      </button>\n",
              "      \n",
              "  <style>\n",
              "    .colab-df-container {\n",
              "      display:flex;\n",
              "      flex-wrap:wrap;\n",
              "      gap: 12px;\n",
              "    }\n",
              "\n",
              "    .colab-df-convert {\n",
              "      background-color: #E8F0FE;\n",
              "      border: none;\n",
              "      border-radius: 50%;\n",
              "      cursor: pointer;\n",
              "      display: none;\n",
              "      fill: #1967D2;\n",
              "      height: 32px;\n",
              "      padding: 0 0 0 0;\n",
              "      width: 32px;\n",
              "    }\n",
              "\n",
              "    .colab-df-convert:hover {\n",
              "      background-color: #E2EBFA;\n",
              "      box-shadow: 0px 1px 2px rgba(60, 64, 67, 0.3), 0px 1px 3px 1px rgba(60, 64, 67, 0.15);\n",
              "      fill: #174EA6;\n",
              "    }\n",
              "\n",
              "    [theme=dark] .colab-df-convert {\n",
              "      background-color: #3B4455;\n",
              "      fill: #D2E3FC;\n",
              "    }\n",
              "\n",
              "    [theme=dark] .colab-df-convert:hover {\n",
              "      background-color: #434B5C;\n",
              "      box-shadow: 0px 1px 3px 1px rgba(0, 0, 0, 0.15);\n",
              "      filter: drop-shadow(0px 1px 2px rgba(0, 0, 0, 0.3));\n",
              "      fill: #FFFFFF;\n",
              "    }\n",
              "  </style>\n",
              "\n",
              "      <script>\n",
              "        const buttonEl =\n",
              "          document.querySelector('#df-45047bdd-6110-498b-9fd9-f1792bc905b1 button.colab-df-convert');\n",
              "        buttonEl.style.display =\n",
              "          google.colab.kernel.accessAllowed ? 'block' : 'none';\n",
              "\n",
              "        async function convertToInteractive(key) {\n",
              "          const element = document.querySelector('#df-45047bdd-6110-498b-9fd9-f1792bc905b1');\n",
              "          const dataTable =\n",
              "            await google.colab.kernel.invokeFunction('convertToInteractive',\n",
              "                                                     [key], {});\n",
              "          if (!dataTable) return;\n",
              "\n",
              "          const docLinkHtml = 'Like what you see? Visit the ' +\n",
              "            '<a target=\"_blank\" href=https://colab.research.google.com/notebooks/data_table.ipynb>data table notebook</a>'\n",
              "            + ' to learn more about interactive tables.';\n",
              "          element.innerHTML = '';\n",
              "          dataTable['output_type'] = 'display_data';\n",
              "          await google.colab.output.renderOutput(dataTable, element);\n",
              "          const docLink = document.createElement('div');\n",
              "          docLink.innerHTML = docLinkHtml;\n",
              "          element.appendChild(docLink);\n",
              "        }\n",
              "      </script>\n",
              "    </div>\n",
              "  </div>\n",
              "  "
            ]
          },
          "metadata": {},
          "execution_count": 13
        }
      ]
    },
    {
      "cell_type": "markdown",
      "source": [
        "En el cas del dataset dels suicidis primer agruparem per anys i després per païssos. \n",
        "Seleccionar les files de l'any 2017, ja que és l'any més proper amb totes les dades de sucidis per 100.000 habitants per pais. "
      ],
      "metadata": {
        "id": "_oNQaEdhsxF_"
      }
    },
    {
      "cell_type": "code",
      "source": [
        "df_year = df_suicide.query(\"year == 2017\")\n",
        "\n",
        "# Agrupar les files seleccionades por païssos\n",
        "df_country_suicides = df_year.groupby(by='Country name').mean()\n",
        "df_country_suicides.head()"
      ],
      "metadata": {
        "colab": {
          "base_uri": "https://localhost:8080/",
          "height": 238
        },
        "id": "92tMmljgL3yV",
        "outputId": "ec23c4ef-9219-4f64-cde2-a48fd044237f"
      },
      "execution_count": null,
      "outputs": [
        {
          "output_type": "execute_result",
          "data": {
            "text/plain": [
              "                       year  suicides_no  population  suicides/100k pop  \\\n",
              "Country name                                                              \n",
              "Antigua and Barbuda  2017.0     0.000000     91119.0           0.000000   \n",
              "Argentina            2017.0   265.416667  44044811.0           0.602606   \n",
              "Armenia              2017.0     3.666667   2851923.0           0.128568   \n",
              "Australia            2017.0   274.250000  24594202.0           1.115100   \n",
              "Austria              2017.0   102.000000   8797566.0           1.159412   \n",
              "\n",
              "                     HDI for year  gdp_per_capita ($)  \n",
              "Country name                                           \n",
              "Antigua and Barbuda      0.923176        15383.576400  \n",
              "Argentina                0.843538        14613.041820  \n",
              "Armenia                  0.764582         3914.527854  \n",
              "Australia                0.935291        53934.250180  \n",
              "Austria                  0.913353        47312.006230  "
            ],
            "text/html": [
              "\n",
              "  <div id=\"df-034d5341-f4b7-430c-aa68-baf71ebf3e20\">\n",
              "    <div class=\"colab-df-container\">\n",
              "      <div>\n",
              "<style scoped>\n",
              "    .dataframe tbody tr th:only-of-type {\n",
              "        vertical-align: middle;\n",
              "    }\n",
              "\n",
              "    .dataframe tbody tr th {\n",
              "        vertical-align: top;\n",
              "    }\n",
              "\n",
              "    .dataframe thead th {\n",
              "        text-align: right;\n",
              "    }\n",
              "</style>\n",
              "<table border=\"1\" class=\"dataframe\">\n",
              "  <thead>\n",
              "    <tr style=\"text-align: right;\">\n",
              "      <th></th>\n",
              "      <th>year</th>\n",
              "      <th>suicides_no</th>\n",
              "      <th>population</th>\n",
              "      <th>suicides/100k pop</th>\n",
              "      <th>HDI for year</th>\n",
              "      <th>gdp_per_capita ($)</th>\n",
              "    </tr>\n",
              "    <tr>\n",
              "      <th>Country name</th>\n",
              "      <th></th>\n",
              "      <th></th>\n",
              "      <th></th>\n",
              "      <th></th>\n",
              "      <th></th>\n",
              "      <th></th>\n",
              "    </tr>\n",
              "  </thead>\n",
              "  <tbody>\n",
              "    <tr>\n",
              "      <th>Antigua and Barbuda</th>\n",
              "      <td>2017.0</td>\n",
              "      <td>0.000000</td>\n",
              "      <td>91119.0</td>\n",
              "      <td>0.000000</td>\n",
              "      <td>0.923176</td>\n",
              "      <td>15383.576400</td>\n",
              "    </tr>\n",
              "    <tr>\n",
              "      <th>Argentina</th>\n",
              "      <td>2017.0</td>\n",
              "      <td>265.416667</td>\n",
              "      <td>44044811.0</td>\n",
              "      <td>0.602606</td>\n",
              "      <td>0.843538</td>\n",
              "      <td>14613.041820</td>\n",
              "    </tr>\n",
              "    <tr>\n",
              "      <th>Armenia</th>\n",
              "      <td>2017.0</td>\n",
              "      <td>3.666667</td>\n",
              "      <td>2851923.0</td>\n",
              "      <td>0.128568</td>\n",
              "      <td>0.764582</td>\n",
              "      <td>3914.527854</td>\n",
              "    </tr>\n",
              "    <tr>\n",
              "      <th>Australia</th>\n",
              "      <td>2017.0</td>\n",
              "      <td>274.250000</td>\n",
              "      <td>24594202.0</td>\n",
              "      <td>1.115100</td>\n",
              "      <td>0.935291</td>\n",
              "      <td>53934.250180</td>\n",
              "    </tr>\n",
              "    <tr>\n",
              "      <th>Austria</th>\n",
              "      <td>2017.0</td>\n",
              "      <td>102.000000</td>\n",
              "      <td>8797566.0</td>\n",
              "      <td>1.159412</td>\n",
              "      <td>0.913353</td>\n",
              "      <td>47312.006230</td>\n",
              "    </tr>\n",
              "  </tbody>\n",
              "</table>\n",
              "</div>\n",
              "      <button class=\"colab-df-convert\" onclick=\"convertToInteractive('df-034d5341-f4b7-430c-aa68-baf71ebf3e20')\"\n",
              "              title=\"Convert this dataframe to an interactive table.\"\n",
              "              style=\"display:none;\">\n",
              "        \n",
              "  <svg xmlns=\"http://www.w3.org/2000/svg\" height=\"24px\"viewBox=\"0 0 24 24\"\n",
              "       width=\"24px\">\n",
              "    <path d=\"M0 0h24v24H0V0z\" fill=\"none\"/>\n",
              "    <path d=\"M18.56 5.44l.94 2.06.94-2.06 2.06-.94-2.06-.94-.94-2.06-.94 2.06-2.06.94zm-11 1L8.5 8.5l.94-2.06 2.06-.94-2.06-.94L8.5 2.5l-.94 2.06-2.06.94zm10 10l.94 2.06.94-2.06 2.06-.94-2.06-.94-.94-2.06-.94 2.06-2.06.94z\"/><path d=\"M17.41 7.96l-1.37-1.37c-.4-.4-.92-.59-1.43-.59-.52 0-1.04.2-1.43.59L10.3 9.45l-7.72 7.72c-.78.78-.78 2.05 0 2.83L4 21.41c.39.39.9.59 1.41.59.51 0 1.02-.2 1.41-.59l7.78-7.78 2.81-2.81c.8-.78.8-2.07 0-2.86zM5.41 20L4 18.59l7.72-7.72 1.47 1.35L5.41 20z\"/>\n",
              "  </svg>\n",
              "      </button>\n",
              "      \n",
              "  <style>\n",
              "    .colab-df-container {\n",
              "      display:flex;\n",
              "      flex-wrap:wrap;\n",
              "      gap: 12px;\n",
              "    }\n",
              "\n",
              "    .colab-df-convert {\n",
              "      background-color: #E8F0FE;\n",
              "      border: none;\n",
              "      border-radius: 50%;\n",
              "      cursor: pointer;\n",
              "      display: none;\n",
              "      fill: #1967D2;\n",
              "      height: 32px;\n",
              "      padding: 0 0 0 0;\n",
              "      width: 32px;\n",
              "    }\n",
              "\n",
              "    .colab-df-convert:hover {\n",
              "      background-color: #E2EBFA;\n",
              "      box-shadow: 0px 1px 2px rgba(60, 64, 67, 0.3), 0px 1px 3px 1px rgba(60, 64, 67, 0.15);\n",
              "      fill: #174EA6;\n",
              "    }\n",
              "\n",
              "    [theme=dark] .colab-df-convert {\n",
              "      background-color: #3B4455;\n",
              "      fill: #D2E3FC;\n",
              "    }\n",
              "\n",
              "    [theme=dark] .colab-df-convert:hover {\n",
              "      background-color: #434B5C;\n",
              "      box-shadow: 0px 1px 3px 1px rgba(0, 0, 0, 0.15);\n",
              "      filter: drop-shadow(0px 1px 2px rgba(0, 0, 0, 0.3));\n",
              "      fill: #FFFFFF;\n",
              "    }\n",
              "  </style>\n",
              "\n",
              "      <script>\n",
              "        const buttonEl =\n",
              "          document.querySelector('#df-034d5341-f4b7-430c-aa68-baf71ebf3e20 button.colab-df-convert');\n",
              "        buttonEl.style.display =\n",
              "          google.colab.kernel.accessAllowed ? 'block' : 'none';\n",
              "\n",
              "        async function convertToInteractive(key) {\n",
              "          const element = document.querySelector('#df-034d5341-f4b7-430c-aa68-baf71ebf3e20');\n",
              "          const dataTable =\n",
              "            await google.colab.kernel.invokeFunction('convertToInteractive',\n",
              "                                                     [key], {});\n",
              "          if (!dataTable) return;\n",
              "\n",
              "          const docLinkHtml = 'Like what you see? Visit the ' +\n",
              "            '<a target=\"_blank\" href=https://colab.research.google.com/notebooks/data_table.ipynb>data table notebook</a>'\n",
              "            + ' to learn more about interactive tables.';\n",
              "          element.innerHTML = '';\n",
              "          dataTable['output_type'] = 'display_data';\n",
              "          await google.colab.output.renderOutput(dataTable, element);\n",
              "          const docLink = document.createElement('div');\n",
              "          docLink.innerHTML = docLinkHtml;\n",
              "          element.appendChild(docLink);\n",
              "        }\n",
              "      </script>\n",
              "    </div>\n",
              "  </div>\n",
              "  "
            ]
          },
          "metadata": {},
          "execution_count": 14
        }
      ]
    },
    {
      "cell_type": "markdown",
      "source": [
        "Veim que no ens surt la columna *Country name* perquè ens ho agafa com a Index"
      ],
      "metadata": {
        "id": "CZqIBz4VtCL9"
      }
    },
    {
      "cell_type": "code",
      "source": [
        "df_country_suicides.info()"
      ],
      "metadata": {
        "colab": {
          "base_uri": "https://localhost:8080/"
        },
        "id": "fqfe1F_tUa3a",
        "outputId": "e6f2c258-df71-480a-a3c4-ff8c7486bd25"
      },
      "execution_count": null,
      "outputs": [
        {
          "output_type": "stream",
          "name": "stdout",
          "text": [
            "<class 'pandas.core.frame.DataFrame'>\n",
            "Index: 82 entries, Antigua and Barbuda to Uzbekistan\n",
            "Data columns (total 6 columns):\n",
            " #   Column              Non-Null Count  Dtype  \n",
            "---  ------              --------------  -----  \n",
            " 0   year                82 non-null     float64\n",
            " 1   suicides_no         78 non-null     float64\n",
            " 2   population          82 non-null     float64\n",
            " 3   suicides/100k pop   82 non-null     float64\n",
            " 4   HDI for year        82 non-null     float64\n",
            " 5   gdp_per_capita ($)  82 non-null     float64\n",
            "dtypes: float64(6)\n",
            "memory usage: 4.5+ KB\n"
          ]
        }
      ]
    },
    {
      "cell_type": "markdown",
      "source": [
        "Arreglem el tema de la columna de Country name i comprovem el nombre de nuls que hi ha per cada columna, encara que la que ens interessa és la de suicides/100k"
      ],
      "metadata": {
        "id": "fHyyw4aFtKKn"
      }
    },
    {
      "cell_type": "code",
      "source": [
        "df_country_suicides = df_country_suicides.reset_index()\n",
        "df_country_suicides.isna().sum()"
      ],
      "metadata": {
        "colab": {
          "base_uri": "https://localhost:8080/"
        },
        "id": "MivsU-FSNezI",
        "outputId": "5ada106d-ce93-407d-d62e-a3ffe9a9ff59"
      },
      "execution_count": null,
      "outputs": [
        {
          "output_type": "execute_result",
          "data": {
            "text/plain": [
              "Country name          0\n",
              "year                  0\n",
              "suicides_no           4\n",
              "population            0\n",
              "suicides/100k pop     0\n",
              "HDI for year          0\n",
              "gdp_per_capita ($)    0\n",
              "dtype: int64"
            ]
          },
          "metadata": {},
          "execution_count": 16
        }
      ]
    },
    {
      "cell_type": "markdown",
      "source": [
        "Ens quedem amb les dues variables que ens podran servir per fer l'anàlisi. "
      ],
      "metadata": {
        "id": "MnJ8VFQHtWPE"
      }
    },
    {
      "cell_type": "code",
      "source": [
        "interesting_columns = ['Country name', 'suicides_no', 'suicides/100k pop']\n",
        "df_country_suicides = df_country_suicides[interesting_columns]\n",
        "df_country_suicides.head()"
      ],
      "metadata": {
        "colab": {
          "base_uri": "https://localhost:8080/",
          "height": 206
        },
        "id": "RLsA6h6zRGPl",
        "outputId": "d9801dba-d06f-42ce-954c-5e964cfc0389"
      },
      "execution_count": null,
      "outputs": [
        {
          "output_type": "execute_result",
          "data": {
            "text/plain": [
              "          Country name  suicides_no  suicides/100k pop\n",
              "0  Antigua and Barbuda     0.000000           0.000000\n",
              "1            Argentina   265.416667           0.602606\n",
              "2              Armenia     3.666667           0.128568\n",
              "3            Australia   274.250000           1.115100\n",
              "4              Austria   102.000000           1.159412"
            ],
            "text/html": [
              "\n",
              "  <div id=\"df-e30adeb9-8f95-4074-a1e6-cabf4e16615d\">\n",
              "    <div class=\"colab-df-container\">\n",
              "      <div>\n",
              "<style scoped>\n",
              "    .dataframe tbody tr th:only-of-type {\n",
              "        vertical-align: middle;\n",
              "    }\n",
              "\n",
              "    .dataframe tbody tr th {\n",
              "        vertical-align: top;\n",
              "    }\n",
              "\n",
              "    .dataframe thead th {\n",
              "        text-align: right;\n",
              "    }\n",
              "</style>\n",
              "<table border=\"1\" class=\"dataframe\">\n",
              "  <thead>\n",
              "    <tr style=\"text-align: right;\">\n",
              "      <th></th>\n",
              "      <th>Country name</th>\n",
              "      <th>suicides_no</th>\n",
              "      <th>suicides/100k pop</th>\n",
              "    </tr>\n",
              "  </thead>\n",
              "  <tbody>\n",
              "    <tr>\n",
              "      <th>0</th>\n",
              "      <td>Antigua and Barbuda</td>\n",
              "      <td>0.000000</td>\n",
              "      <td>0.000000</td>\n",
              "    </tr>\n",
              "    <tr>\n",
              "      <th>1</th>\n",
              "      <td>Argentina</td>\n",
              "      <td>265.416667</td>\n",
              "      <td>0.602606</td>\n",
              "    </tr>\n",
              "    <tr>\n",
              "      <th>2</th>\n",
              "      <td>Armenia</td>\n",
              "      <td>3.666667</td>\n",
              "      <td>0.128568</td>\n",
              "    </tr>\n",
              "    <tr>\n",
              "      <th>3</th>\n",
              "      <td>Australia</td>\n",
              "      <td>274.250000</td>\n",
              "      <td>1.115100</td>\n",
              "    </tr>\n",
              "    <tr>\n",
              "      <th>4</th>\n",
              "      <td>Austria</td>\n",
              "      <td>102.000000</td>\n",
              "      <td>1.159412</td>\n",
              "    </tr>\n",
              "  </tbody>\n",
              "</table>\n",
              "</div>\n",
              "      <button class=\"colab-df-convert\" onclick=\"convertToInteractive('df-e30adeb9-8f95-4074-a1e6-cabf4e16615d')\"\n",
              "              title=\"Convert this dataframe to an interactive table.\"\n",
              "              style=\"display:none;\">\n",
              "        \n",
              "  <svg xmlns=\"http://www.w3.org/2000/svg\" height=\"24px\"viewBox=\"0 0 24 24\"\n",
              "       width=\"24px\">\n",
              "    <path d=\"M0 0h24v24H0V0z\" fill=\"none\"/>\n",
              "    <path d=\"M18.56 5.44l.94 2.06.94-2.06 2.06-.94-2.06-.94-.94-2.06-.94 2.06-2.06.94zm-11 1L8.5 8.5l.94-2.06 2.06-.94-2.06-.94L8.5 2.5l-.94 2.06-2.06.94zm10 10l.94 2.06.94-2.06 2.06-.94-2.06-.94-.94-2.06-.94 2.06-2.06.94z\"/><path d=\"M17.41 7.96l-1.37-1.37c-.4-.4-.92-.59-1.43-.59-.52 0-1.04.2-1.43.59L10.3 9.45l-7.72 7.72c-.78.78-.78 2.05 0 2.83L4 21.41c.39.39.9.59 1.41.59.51 0 1.02-.2 1.41-.59l7.78-7.78 2.81-2.81c.8-.78.8-2.07 0-2.86zM5.41 20L4 18.59l7.72-7.72 1.47 1.35L5.41 20z\"/>\n",
              "  </svg>\n",
              "      </button>\n",
              "      \n",
              "  <style>\n",
              "    .colab-df-container {\n",
              "      display:flex;\n",
              "      flex-wrap:wrap;\n",
              "      gap: 12px;\n",
              "    }\n",
              "\n",
              "    .colab-df-convert {\n",
              "      background-color: #E8F0FE;\n",
              "      border: none;\n",
              "      border-radius: 50%;\n",
              "      cursor: pointer;\n",
              "      display: none;\n",
              "      fill: #1967D2;\n",
              "      height: 32px;\n",
              "      padding: 0 0 0 0;\n",
              "      width: 32px;\n",
              "    }\n",
              "\n",
              "    .colab-df-convert:hover {\n",
              "      background-color: #E2EBFA;\n",
              "      box-shadow: 0px 1px 2px rgba(60, 64, 67, 0.3), 0px 1px 3px 1px rgba(60, 64, 67, 0.15);\n",
              "      fill: #174EA6;\n",
              "    }\n",
              "\n",
              "    [theme=dark] .colab-df-convert {\n",
              "      background-color: #3B4455;\n",
              "      fill: #D2E3FC;\n",
              "    }\n",
              "\n",
              "    [theme=dark] .colab-df-convert:hover {\n",
              "      background-color: #434B5C;\n",
              "      box-shadow: 0px 1px 3px 1px rgba(0, 0, 0, 0.15);\n",
              "      filter: drop-shadow(0px 1px 2px rgba(0, 0, 0, 0.3));\n",
              "      fill: #FFFFFF;\n",
              "    }\n",
              "  </style>\n",
              "\n",
              "      <script>\n",
              "        const buttonEl =\n",
              "          document.querySelector('#df-e30adeb9-8f95-4074-a1e6-cabf4e16615d button.colab-df-convert');\n",
              "        buttonEl.style.display =\n",
              "          google.colab.kernel.accessAllowed ? 'block' : 'none';\n",
              "\n",
              "        async function convertToInteractive(key) {\n",
              "          const element = document.querySelector('#df-e30adeb9-8f95-4074-a1e6-cabf4e16615d');\n",
              "          const dataTable =\n",
              "            await google.colab.kernel.invokeFunction('convertToInteractive',\n",
              "                                                     [key], {});\n",
              "          if (!dataTable) return;\n",
              "\n",
              "          const docLinkHtml = 'Like what you see? Visit the ' +\n",
              "            '<a target=\"_blank\" href=https://colab.research.google.com/notebooks/data_table.ipynb>data table notebook</a>'\n",
              "            + ' to learn more about interactive tables.';\n",
              "          element.innerHTML = '';\n",
              "          dataTable['output_type'] = 'display_data';\n",
              "          await google.colab.output.renderOutput(dataTable, element);\n",
              "          const docLink = document.createElement('div');\n",
              "          docLink.innerHTML = docLinkHtml;\n",
              "          element.appendChild(docLink);\n",
              "        }\n",
              "      </script>\n",
              "    </div>\n",
              "  </div>\n",
              "  "
            ]
          },
          "metadata": {},
          "execution_count": 17
        }
      ]
    },
    {
      "cell_type": "markdown",
      "source": [
        "A la següent funció obtindrem els noms de totes les columnes del dataframe weather per posteriormen seleccionar les que més ens interessin. \n"
      ],
      "metadata": {
        "id": "35fSwSeotf1T"
      }
    },
    {
      "cell_type": "code",
      "source": [
        "weather_by_country.columns"
      ],
      "metadata": {
        "id": "GvKmCRUQugbB",
        "colab": {
          "base_uri": "https://localhost:8080/"
        },
        "outputId": "1a662549-21f6-47ca-8215-3f5eec70b269"
      },
      "execution_count": null,
      "outputs": [
        {
          "output_type": "execute_result",
          "data": {
            "text/plain": [
              "Index(['Unnamed: 0', 'sunriseTime', 'sunsetTime', 'moonPhase',\n",
              "       'precipIntensity', 'precipIntensityMax', 'precipIntensityMaxTime',\n",
              "       'precipProbability', 'temperatureHigh', 'temperatureHighTime',\n",
              "       'temperatureLow', 'temperatureLowTime', 'apparentTemperatureHigh',\n",
              "       'apparentTemperatureHighTime', 'apparentTemperatureLow',\n",
              "       'apparentTemperatureLowTime', 'dewPoint', 'humidity', 'pressure',\n",
              "       'windSpeed', 'windGust', 'windGustTime', 'windBearing', 'cloudCover',\n",
              "       'uvIndex', 'uvIndexTime', 'visibility', 'ozone', 'temperatureMin',\n",
              "       'temperatureMinTime', 'temperatureMax', 'temperatureMaxTime',\n",
              "       'apparentTemperatureMin', 'apparentTemperatureMinTime',\n",
              "       'apparentTemperatureMax', 'apparentTemperatureMaxTime', 'Lat', 'Long',\n",
              "       'precipAccumulation'],\n",
              "      dtype='object')"
            ]
          },
          "metadata": {},
          "execution_count": 18
        }
      ]
    },
    {
      "cell_type": "markdown",
      "source": [
        "Ens quedem amb 4 variables que ens podran servir per fer l'anàlisi. "
      ],
      "metadata": {
        "id": "_gVqGfi3tuQU"
      }
    },
    {
      "cell_type": "code",
      "source": [
        "interesting_columns = ['temperatureHigh', 'temperatureLow', 'windSpeed', 'precipProbability']\n",
        "weather_by_country_sub = weather_by_country[interesting_columns]\n",
        "weather_by_country_sub.head()"
      ],
      "metadata": {
        "id": "cFRUc4d-0-jp",
        "colab": {
          "base_uri": "https://localhost:8080/",
          "height": 238
        },
        "outputId": "a214d143-93f6-4c24-c5cb-b742a81ef8a4"
      },
      "execution_count": null,
      "outputs": [
        {
          "output_type": "execute_result",
          "data": {
            "text/plain": [
              "                     temperatureHigh  temperatureLow  windSpeed  \\\n",
              "Country name                                                      \n",
              "Afghanistan                53.353750       36.118571   3.765982   \n",
              "Albania                    58.572946       40.961786   3.825000   \n",
              "Algeria                    79.553304       53.233214  11.839554   \n",
              "Andorra                    56.552143       36.871518   3.325000   \n",
              "Antigua and Barbuda        81.999375       74.604732  14.500536   \n",
              "\n",
              "                     precipProbability  \n",
              "Country name                            \n",
              "Afghanistan                   0.265268  \n",
              "Albania                       0.323929  \n",
              "Algeria                       0.034196  \n",
              "Andorra                       0.265804  \n",
              "Antigua and Barbuda           0.321607  "
            ],
            "text/html": [
              "\n",
              "  <div id=\"df-ba7488fa-3e63-4d38-b4f1-d273c12923f4\">\n",
              "    <div class=\"colab-df-container\">\n",
              "      <div>\n",
              "<style scoped>\n",
              "    .dataframe tbody tr th:only-of-type {\n",
              "        vertical-align: middle;\n",
              "    }\n",
              "\n",
              "    .dataframe tbody tr th {\n",
              "        vertical-align: top;\n",
              "    }\n",
              "\n",
              "    .dataframe thead th {\n",
              "        text-align: right;\n",
              "    }\n",
              "</style>\n",
              "<table border=\"1\" class=\"dataframe\">\n",
              "  <thead>\n",
              "    <tr style=\"text-align: right;\">\n",
              "      <th></th>\n",
              "      <th>temperatureHigh</th>\n",
              "      <th>temperatureLow</th>\n",
              "      <th>windSpeed</th>\n",
              "      <th>precipProbability</th>\n",
              "    </tr>\n",
              "    <tr>\n",
              "      <th>Country name</th>\n",
              "      <th></th>\n",
              "      <th></th>\n",
              "      <th></th>\n",
              "      <th></th>\n",
              "    </tr>\n",
              "  </thead>\n",
              "  <tbody>\n",
              "    <tr>\n",
              "      <th>Afghanistan</th>\n",
              "      <td>53.353750</td>\n",
              "      <td>36.118571</td>\n",
              "      <td>3.765982</td>\n",
              "      <td>0.265268</td>\n",
              "    </tr>\n",
              "    <tr>\n",
              "      <th>Albania</th>\n",
              "      <td>58.572946</td>\n",
              "      <td>40.961786</td>\n",
              "      <td>3.825000</td>\n",
              "      <td>0.323929</td>\n",
              "    </tr>\n",
              "    <tr>\n",
              "      <th>Algeria</th>\n",
              "      <td>79.553304</td>\n",
              "      <td>53.233214</td>\n",
              "      <td>11.839554</td>\n",
              "      <td>0.034196</td>\n",
              "    </tr>\n",
              "    <tr>\n",
              "      <th>Andorra</th>\n",
              "      <td>56.552143</td>\n",
              "      <td>36.871518</td>\n",
              "      <td>3.325000</td>\n",
              "      <td>0.265804</td>\n",
              "    </tr>\n",
              "    <tr>\n",
              "      <th>Antigua and Barbuda</th>\n",
              "      <td>81.999375</td>\n",
              "      <td>74.604732</td>\n",
              "      <td>14.500536</td>\n",
              "      <td>0.321607</td>\n",
              "    </tr>\n",
              "  </tbody>\n",
              "</table>\n",
              "</div>\n",
              "      <button class=\"colab-df-convert\" onclick=\"convertToInteractive('df-ba7488fa-3e63-4d38-b4f1-d273c12923f4')\"\n",
              "              title=\"Convert this dataframe to an interactive table.\"\n",
              "              style=\"display:none;\">\n",
              "        \n",
              "  <svg xmlns=\"http://www.w3.org/2000/svg\" height=\"24px\"viewBox=\"0 0 24 24\"\n",
              "       width=\"24px\">\n",
              "    <path d=\"M0 0h24v24H0V0z\" fill=\"none\"/>\n",
              "    <path d=\"M18.56 5.44l.94 2.06.94-2.06 2.06-.94-2.06-.94-.94-2.06-.94 2.06-2.06.94zm-11 1L8.5 8.5l.94-2.06 2.06-.94-2.06-.94L8.5 2.5l-.94 2.06-2.06.94zm10 10l.94 2.06.94-2.06 2.06-.94-2.06-.94-.94-2.06-.94 2.06-2.06.94z\"/><path d=\"M17.41 7.96l-1.37-1.37c-.4-.4-.92-.59-1.43-.59-.52 0-1.04.2-1.43.59L10.3 9.45l-7.72 7.72c-.78.78-.78 2.05 0 2.83L4 21.41c.39.39.9.59 1.41.59.51 0 1.02-.2 1.41-.59l7.78-7.78 2.81-2.81c.8-.78.8-2.07 0-2.86zM5.41 20L4 18.59l7.72-7.72 1.47 1.35L5.41 20z\"/>\n",
              "  </svg>\n",
              "      </button>\n",
              "      \n",
              "  <style>\n",
              "    .colab-df-container {\n",
              "      display:flex;\n",
              "      flex-wrap:wrap;\n",
              "      gap: 12px;\n",
              "    }\n",
              "\n",
              "    .colab-df-convert {\n",
              "      background-color: #E8F0FE;\n",
              "      border: none;\n",
              "      border-radius: 50%;\n",
              "      cursor: pointer;\n",
              "      display: none;\n",
              "      fill: #1967D2;\n",
              "      height: 32px;\n",
              "      padding: 0 0 0 0;\n",
              "      width: 32px;\n",
              "    }\n",
              "\n",
              "    .colab-df-convert:hover {\n",
              "      background-color: #E2EBFA;\n",
              "      box-shadow: 0px 1px 2px rgba(60, 64, 67, 0.3), 0px 1px 3px 1px rgba(60, 64, 67, 0.15);\n",
              "      fill: #174EA6;\n",
              "    }\n",
              "\n",
              "    [theme=dark] .colab-df-convert {\n",
              "      background-color: #3B4455;\n",
              "      fill: #D2E3FC;\n",
              "    }\n",
              "\n",
              "    [theme=dark] .colab-df-convert:hover {\n",
              "      background-color: #434B5C;\n",
              "      box-shadow: 0px 1px 3px 1px rgba(0, 0, 0, 0.15);\n",
              "      filter: drop-shadow(0px 1px 2px rgba(0, 0, 0, 0.3));\n",
              "      fill: #FFFFFF;\n",
              "    }\n",
              "  </style>\n",
              "\n",
              "      <script>\n",
              "        const buttonEl =\n",
              "          document.querySelector('#df-ba7488fa-3e63-4d38-b4f1-d273c12923f4 button.colab-df-convert');\n",
              "        buttonEl.style.display =\n",
              "          google.colab.kernel.accessAllowed ? 'block' : 'none';\n",
              "\n",
              "        async function convertToInteractive(key) {\n",
              "          const element = document.querySelector('#df-ba7488fa-3e63-4d38-b4f1-d273c12923f4');\n",
              "          const dataTable =\n",
              "            await google.colab.kernel.invokeFunction('convertToInteractive',\n",
              "                                                     [key], {});\n",
              "          if (!dataTable) return;\n",
              "\n",
              "          const docLinkHtml = 'Like what you see? Visit the ' +\n",
              "            '<a target=\"_blank\" href=https://colab.research.google.com/notebooks/data_table.ipynb>data table notebook</a>'\n",
              "            + ' to learn more about interactive tables.';\n",
              "          element.innerHTML = '';\n",
              "          dataTable['output_type'] = 'display_data';\n",
              "          await google.colab.output.renderOutput(dataTable, element);\n",
              "          const docLink = document.createElement('div');\n",
              "          docLink.innerHTML = docLinkHtml;\n",
              "          element.appendChild(docLink);\n",
              "        }\n",
              "      </script>\n",
              "    </div>\n",
              "  </div>\n",
              "  "
            ]
          },
          "metadata": {},
          "execution_count": 19
        }
      ]
    },
    {
      "cell_type": "markdown",
      "source": [
        "Creem una nova columna per saber la mitja de la temperatura per país, ja que només teníem les màximes i mínimes. "
      ],
      "metadata": {
        "id": "VM-5UzgLtzcU"
      }
    },
    {
      "cell_type": "code",
      "source": [
        "weather_by_country_sub['temperatureAvg'] = (weather_by_country_sub['temperatureHigh'] + weather_by_country_sub['temperatureLow'])/2\n",
        "weather_by_country_sub.head()"
      ],
      "metadata": {
        "id": "nHsL09ZD3MTU",
        "colab": {
          "base_uri": "https://localhost:8080/",
          "height": 362
        },
        "outputId": "8831eca8-2893-4307-d920-3c2ec0813bad"
      },
      "execution_count": null,
      "outputs": [
        {
          "output_type": "stream",
          "name": "stderr",
          "text": [
            "<ipython-input-20-1530b718061a>:1: SettingWithCopyWarning: \n",
            "A value is trying to be set on a copy of a slice from a DataFrame.\n",
            "Try using .loc[row_indexer,col_indexer] = value instead\n",
            "\n",
            "See the caveats in the documentation: https://pandas.pydata.org/pandas-docs/stable/user_guide/indexing.html#returning-a-view-versus-a-copy\n",
            "  weather_by_country_sub['temperatureAvg'] = (weather_by_country_sub['temperatureHigh'] + weather_by_country_sub['temperatureLow'])/2\n"
          ]
        },
        {
          "output_type": "execute_result",
          "data": {
            "text/plain": [
              "                     temperatureHigh  temperatureLow  windSpeed  \\\n",
              "Country name                                                      \n",
              "Afghanistan                53.353750       36.118571   3.765982   \n",
              "Albania                    58.572946       40.961786   3.825000   \n",
              "Algeria                    79.553304       53.233214  11.839554   \n",
              "Andorra                    56.552143       36.871518   3.325000   \n",
              "Antigua and Barbuda        81.999375       74.604732  14.500536   \n",
              "\n",
              "                     precipProbability  temperatureAvg  \n",
              "Country name                                            \n",
              "Afghanistan                   0.265268       44.736161  \n",
              "Albania                       0.323929       49.767366  \n",
              "Algeria                       0.034196       66.393259  \n",
              "Andorra                       0.265804       46.711830  \n",
              "Antigua and Barbuda           0.321607       78.302054  "
            ],
            "text/html": [
              "\n",
              "  <div id=\"df-8942453d-4583-4cc3-aef8-2f4372682639\">\n",
              "    <div class=\"colab-df-container\">\n",
              "      <div>\n",
              "<style scoped>\n",
              "    .dataframe tbody tr th:only-of-type {\n",
              "        vertical-align: middle;\n",
              "    }\n",
              "\n",
              "    .dataframe tbody tr th {\n",
              "        vertical-align: top;\n",
              "    }\n",
              "\n",
              "    .dataframe thead th {\n",
              "        text-align: right;\n",
              "    }\n",
              "</style>\n",
              "<table border=\"1\" class=\"dataframe\">\n",
              "  <thead>\n",
              "    <tr style=\"text-align: right;\">\n",
              "      <th></th>\n",
              "      <th>temperatureHigh</th>\n",
              "      <th>temperatureLow</th>\n",
              "      <th>windSpeed</th>\n",
              "      <th>precipProbability</th>\n",
              "      <th>temperatureAvg</th>\n",
              "    </tr>\n",
              "    <tr>\n",
              "      <th>Country name</th>\n",
              "      <th></th>\n",
              "      <th></th>\n",
              "      <th></th>\n",
              "      <th></th>\n",
              "      <th></th>\n",
              "    </tr>\n",
              "  </thead>\n",
              "  <tbody>\n",
              "    <tr>\n",
              "      <th>Afghanistan</th>\n",
              "      <td>53.353750</td>\n",
              "      <td>36.118571</td>\n",
              "      <td>3.765982</td>\n",
              "      <td>0.265268</td>\n",
              "      <td>44.736161</td>\n",
              "    </tr>\n",
              "    <tr>\n",
              "      <th>Albania</th>\n",
              "      <td>58.572946</td>\n",
              "      <td>40.961786</td>\n",
              "      <td>3.825000</td>\n",
              "      <td>0.323929</td>\n",
              "      <td>49.767366</td>\n",
              "    </tr>\n",
              "    <tr>\n",
              "      <th>Algeria</th>\n",
              "      <td>79.553304</td>\n",
              "      <td>53.233214</td>\n",
              "      <td>11.839554</td>\n",
              "      <td>0.034196</td>\n",
              "      <td>66.393259</td>\n",
              "    </tr>\n",
              "    <tr>\n",
              "      <th>Andorra</th>\n",
              "      <td>56.552143</td>\n",
              "      <td>36.871518</td>\n",
              "      <td>3.325000</td>\n",
              "      <td>0.265804</td>\n",
              "      <td>46.711830</td>\n",
              "    </tr>\n",
              "    <tr>\n",
              "      <th>Antigua and Barbuda</th>\n",
              "      <td>81.999375</td>\n",
              "      <td>74.604732</td>\n",
              "      <td>14.500536</td>\n",
              "      <td>0.321607</td>\n",
              "      <td>78.302054</td>\n",
              "    </tr>\n",
              "  </tbody>\n",
              "</table>\n",
              "</div>\n",
              "      <button class=\"colab-df-convert\" onclick=\"convertToInteractive('df-8942453d-4583-4cc3-aef8-2f4372682639')\"\n",
              "              title=\"Convert this dataframe to an interactive table.\"\n",
              "              style=\"display:none;\">\n",
              "        \n",
              "  <svg xmlns=\"http://www.w3.org/2000/svg\" height=\"24px\"viewBox=\"0 0 24 24\"\n",
              "       width=\"24px\">\n",
              "    <path d=\"M0 0h24v24H0V0z\" fill=\"none\"/>\n",
              "    <path d=\"M18.56 5.44l.94 2.06.94-2.06 2.06-.94-2.06-.94-.94-2.06-.94 2.06-2.06.94zm-11 1L8.5 8.5l.94-2.06 2.06-.94-2.06-.94L8.5 2.5l-.94 2.06-2.06.94zm10 10l.94 2.06.94-2.06 2.06-.94-2.06-.94-.94-2.06-.94 2.06-2.06.94z\"/><path d=\"M17.41 7.96l-1.37-1.37c-.4-.4-.92-.59-1.43-.59-.52 0-1.04.2-1.43.59L10.3 9.45l-7.72 7.72c-.78.78-.78 2.05 0 2.83L4 21.41c.39.39.9.59 1.41.59.51 0 1.02-.2 1.41-.59l7.78-7.78 2.81-2.81c.8-.78.8-2.07 0-2.86zM5.41 20L4 18.59l7.72-7.72 1.47 1.35L5.41 20z\"/>\n",
              "  </svg>\n",
              "      </button>\n",
              "      \n",
              "  <style>\n",
              "    .colab-df-container {\n",
              "      display:flex;\n",
              "      flex-wrap:wrap;\n",
              "      gap: 12px;\n",
              "    }\n",
              "\n",
              "    .colab-df-convert {\n",
              "      background-color: #E8F0FE;\n",
              "      border: none;\n",
              "      border-radius: 50%;\n",
              "      cursor: pointer;\n",
              "      display: none;\n",
              "      fill: #1967D2;\n",
              "      height: 32px;\n",
              "      padding: 0 0 0 0;\n",
              "      width: 32px;\n",
              "    }\n",
              "\n",
              "    .colab-df-convert:hover {\n",
              "      background-color: #E2EBFA;\n",
              "      box-shadow: 0px 1px 2px rgba(60, 64, 67, 0.3), 0px 1px 3px 1px rgba(60, 64, 67, 0.15);\n",
              "      fill: #174EA6;\n",
              "    }\n",
              "\n",
              "    [theme=dark] .colab-df-convert {\n",
              "      background-color: #3B4455;\n",
              "      fill: #D2E3FC;\n",
              "    }\n",
              "\n",
              "    [theme=dark] .colab-df-convert:hover {\n",
              "      background-color: #434B5C;\n",
              "      box-shadow: 0px 1px 3px 1px rgba(0, 0, 0, 0.15);\n",
              "      filter: drop-shadow(0px 1px 2px rgba(0, 0, 0, 0.3));\n",
              "      fill: #FFFFFF;\n",
              "    }\n",
              "  </style>\n",
              "\n",
              "      <script>\n",
              "        const buttonEl =\n",
              "          document.querySelector('#df-8942453d-4583-4cc3-aef8-2f4372682639 button.colab-df-convert');\n",
              "        buttonEl.style.display =\n",
              "          google.colab.kernel.accessAllowed ? 'block' : 'none';\n",
              "\n",
              "        async function convertToInteractive(key) {\n",
              "          const element = document.querySelector('#df-8942453d-4583-4cc3-aef8-2f4372682639');\n",
              "          const dataTable =\n",
              "            await google.colab.kernel.invokeFunction('convertToInteractive',\n",
              "                                                     [key], {});\n",
              "          if (!dataTable) return;\n",
              "\n",
              "          const docLinkHtml = 'Like what you see? Visit the ' +\n",
              "            '<a target=\"_blank\" href=https://colab.research.google.com/notebooks/data_table.ipynb>data table notebook</a>'\n",
              "            + ' to learn more about interactive tables.';\n",
              "          element.innerHTML = '';\n",
              "          dataTable['output_type'] = 'display_data';\n",
              "          await google.colab.output.renderOutput(dataTable, element);\n",
              "          const docLink = document.createElement('div');\n",
              "          docLink.innerHTML = docLinkHtml;\n",
              "          element.appendChild(docLink);\n",
              "        }\n",
              "      </script>\n",
              "    </div>\n",
              "  </div>\n",
              "  "
            ]
          },
          "metadata": {},
          "execution_count": 20
        }
      ]
    },
    {
      "cell_type": "markdown",
      "source": [
        "Fem un merge dels dos datasets, que tenen en comú la columna \"Country name\""
      ],
      "metadata": {
        "id": "s7RSdBvHt-Qo"
      }
    },
    {
      "cell_type": "code",
      "source": [
        "df_combined_data = df_2021.merge(weather_by_country_sub, on='Country name')\n",
        "df_combined_data.head()"
      ],
      "metadata": {
        "id": "cptvNTjs4Fq-",
        "colab": {
          "base_uri": "https://localhost:8080/",
          "height": 473
        },
        "outputId": "340ed3cc-7420-4a1b-f77a-e0c331859b5f"
      },
      "execution_count": null,
      "outputs": [
        {
          "output_type": "execute_result",
          "data": {
            "text/plain": [
              "  Country name Regional indicator  Ladder score  \\\n",
              "0      Finland     Western Europe         7.842   \n",
              "1      Denmark     Western Europe         7.620   \n",
              "2  Switzerland     Western Europe         7.571   \n",
              "3      Iceland     Western Europe         7.554   \n",
              "4  Netherlands     Western Europe         7.464   \n",
              "\n",
              "   Standard error of ladder score  upperwhisker  lowerwhisker  \\\n",
              "0                           0.032         7.904         7.780   \n",
              "1                           0.035         7.687         7.552   \n",
              "2                           0.036         7.643         7.500   \n",
              "3                           0.059         7.670         7.438   \n",
              "4                           0.027         7.518         7.410   \n",
              "\n",
              "   Logged GDP per capita  Social support  Healthy life expectancy  \\\n",
              "0                 10.775           0.954                     72.0   \n",
              "1                 10.933           0.954                     72.7   \n",
              "2                 11.117           0.942                     74.4   \n",
              "3                 10.878           0.983                     73.0   \n",
              "4                 10.932           0.942                     72.4   \n",
              "\n",
              "   Freedom to make life choices  ...  Explained by: Healthy life expectancy  \\\n",
              "0                         0.949  ...                                  0.741   \n",
              "1                         0.946  ...                                  0.763   \n",
              "2                         0.919  ...                                  0.816   \n",
              "3                         0.955  ...                                  0.772   \n",
              "4                         0.913  ...                                  0.753   \n",
              "\n",
              "   Explained by: Freedom to make life choices  Explained by: Generosity  \\\n",
              "0                                       0.691                     0.124   \n",
              "1                                       0.686                     0.208   \n",
              "2                                       0.653                     0.204   \n",
              "3                                       0.698                     0.293   \n",
              "4                                       0.647                     0.302   \n",
              "\n",
              "   Explained by: Perceptions of corruption  Dystopia + residual  \\\n",
              "0                                    0.481                3.253   \n",
              "1                                    0.485                2.868   \n",
              "2                                    0.413                2.839   \n",
              "3                                    0.170                2.967   \n",
              "4                                    0.384                2.798   \n",
              "\n",
              "   temperatureHigh  temperatureLow  windSpeed  precipProbability  \\\n",
              "0        34.923929       24.960000   8.594643           0.393393   \n",
              "1        43.955357       36.407143  17.484732           0.540937   \n",
              "2        42.581964       29.567589   3.653661           0.323214   \n",
              "3        25.709375       16.010804  17.049821           0.371071   \n",
              "4        74.085268       64.644018  16.011488           0.264435   \n",
              "\n",
              "   temperatureAvg  \n",
              "0       29.941964  \n",
              "1       40.181250  \n",
              "2       36.074777  \n",
              "3       20.860089  \n",
              "4       69.364643  \n",
              "\n",
              "[5 rows x 25 columns]"
            ],
            "text/html": [
              "\n",
              "  <div id=\"df-075557ee-6cae-4eb3-812c-7005a2eca1d4\">\n",
              "    <div class=\"colab-df-container\">\n",
              "      <div>\n",
              "<style scoped>\n",
              "    .dataframe tbody tr th:only-of-type {\n",
              "        vertical-align: middle;\n",
              "    }\n",
              "\n",
              "    .dataframe tbody tr th {\n",
              "        vertical-align: top;\n",
              "    }\n",
              "\n",
              "    .dataframe thead th {\n",
              "        text-align: right;\n",
              "    }\n",
              "</style>\n",
              "<table border=\"1\" class=\"dataframe\">\n",
              "  <thead>\n",
              "    <tr style=\"text-align: right;\">\n",
              "      <th></th>\n",
              "      <th>Country name</th>\n",
              "      <th>Regional indicator</th>\n",
              "      <th>Ladder score</th>\n",
              "      <th>Standard error of ladder score</th>\n",
              "      <th>upperwhisker</th>\n",
              "      <th>lowerwhisker</th>\n",
              "      <th>Logged GDP per capita</th>\n",
              "      <th>Social support</th>\n",
              "      <th>Healthy life expectancy</th>\n",
              "      <th>Freedom to make life choices</th>\n",
              "      <th>...</th>\n",
              "      <th>Explained by: Healthy life expectancy</th>\n",
              "      <th>Explained by: Freedom to make life choices</th>\n",
              "      <th>Explained by: Generosity</th>\n",
              "      <th>Explained by: Perceptions of corruption</th>\n",
              "      <th>Dystopia + residual</th>\n",
              "      <th>temperatureHigh</th>\n",
              "      <th>temperatureLow</th>\n",
              "      <th>windSpeed</th>\n",
              "      <th>precipProbability</th>\n",
              "      <th>temperatureAvg</th>\n",
              "    </tr>\n",
              "  </thead>\n",
              "  <tbody>\n",
              "    <tr>\n",
              "      <th>0</th>\n",
              "      <td>Finland</td>\n",
              "      <td>Western Europe</td>\n",
              "      <td>7.842</td>\n",
              "      <td>0.032</td>\n",
              "      <td>7.904</td>\n",
              "      <td>7.780</td>\n",
              "      <td>10.775</td>\n",
              "      <td>0.954</td>\n",
              "      <td>72.0</td>\n",
              "      <td>0.949</td>\n",
              "      <td>...</td>\n",
              "      <td>0.741</td>\n",
              "      <td>0.691</td>\n",
              "      <td>0.124</td>\n",
              "      <td>0.481</td>\n",
              "      <td>3.253</td>\n",
              "      <td>34.923929</td>\n",
              "      <td>24.960000</td>\n",
              "      <td>8.594643</td>\n",
              "      <td>0.393393</td>\n",
              "      <td>29.941964</td>\n",
              "    </tr>\n",
              "    <tr>\n",
              "      <th>1</th>\n",
              "      <td>Denmark</td>\n",
              "      <td>Western Europe</td>\n",
              "      <td>7.620</td>\n",
              "      <td>0.035</td>\n",
              "      <td>7.687</td>\n",
              "      <td>7.552</td>\n",
              "      <td>10.933</td>\n",
              "      <td>0.954</td>\n",
              "      <td>72.7</td>\n",
              "      <td>0.946</td>\n",
              "      <td>...</td>\n",
              "      <td>0.763</td>\n",
              "      <td>0.686</td>\n",
              "      <td>0.208</td>\n",
              "      <td>0.485</td>\n",
              "      <td>2.868</td>\n",
              "      <td>43.955357</td>\n",
              "      <td>36.407143</td>\n",
              "      <td>17.484732</td>\n",
              "      <td>0.540937</td>\n",
              "      <td>40.181250</td>\n",
              "    </tr>\n",
              "    <tr>\n",
              "      <th>2</th>\n",
              "      <td>Switzerland</td>\n",
              "      <td>Western Europe</td>\n",
              "      <td>7.571</td>\n",
              "      <td>0.036</td>\n",
              "      <td>7.643</td>\n",
              "      <td>7.500</td>\n",
              "      <td>11.117</td>\n",
              "      <td>0.942</td>\n",
              "      <td>74.4</td>\n",
              "      <td>0.919</td>\n",
              "      <td>...</td>\n",
              "      <td>0.816</td>\n",
              "      <td>0.653</td>\n",
              "      <td>0.204</td>\n",
              "      <td>0.413</td>\n",
              "      <td>2.839</td>\n",
              "      <td>42.581964</td>\n",
              "      <td>29.567589</td>\n",
              "      <td>3.653661</td>\n",
              "      <td>0.323214</td>\n",
              "      <td>36.074777</td>\n",
              "    </tr>\n",
              "    <tr>\n",
              "      <th>3</th>\n",
              "      <td>Iceland</td>\n",
              "      <td>Western Europe</td>\n",
              "      <td>7.554</td>\n",
              "      <td>0.059</td>\n",
              "      <td>7.670</td>\n",
              "      <td>7.438</td>\n",
              "      <td>10.878</td>\n",
              "      <td>0.983</td>\n",
              "      <td>73.0</td>\n",
              "      <td>0.955</td>\n",
              "      <td>...</td>\n",
              "      <td>0.772</td>\n",
              "      <td>0.698</td>\n",
              "      <td>0.293</td>\n",
              "      <td>0.170</td>\n",
              "      <td>2.967</td>\n",
              "      <td>25.709375</td>\n",
              "      <td>16.010804</td>\n",
              "      <td>17.049821</td>\n",
              "      <td>0.371071</td>\n",
              "      <td>20.860089</td>\n",
              "    </tr>\n",
              "    <tr>\n",
              "      <th>4</th>\n",
              "      <td>Netherlands</td>\n",
              "      <td>Western Europe</td>\n",
              "      <td>7.464</td>\n",
              "      <td>0.027</td>\n",
              "      <td>7.518</td>\n",
              "      <td>7.410</td>\n",
              "      <td>10.932</td>\n",
              "      <td>0.942</td>\n",
              "      <td>72.4</td>\n",
              "      <td>0.913</td>\n",
              "      <td>...</td>\n",
              "      <td>0.753</td>\n",
              "      <td>0.647</td>\n",
              "      <td>0.302</td>\n",
              "      <td>0.384</td>\n",
              "      <td>2.798</td>\n",
              "      <td>74.085268</td>\n",
              "      <td>64.644018</td>\n",
              "      <td>16.011488</td>\n",
              "      <td>0.264435</td>\n",
              "      <td>69.364643</td>\n",
              "    </tr>\n",
              "  </tbody>\n",
              "</table>\n",
              "<p>5 rows × 25 columns</p>\n",
              "</div>\n",
              "      <button class=\"colab-df-convert\" onclick=\"convertToInteractive('df-075557ee-6cae-4eb3-812c-7005a2eca1d4')\"\n",
              "              title=\"Convert this dataframe to an interactive table.\"\n",
              "              style=\"display:none;\">\n",
              "        \n",
              "  <svg xmlns=\"http://www.w3.org/2000/svg\" height=\"24px\"viewBox=\"0 0 24 24\"\n",
              "       width=\"24px\">\n",
              "    <path d=\"M0 0h24v24H0V0z\" fill=\"none\"/>\n",
              "    <path d=\"M18.56 5.44l.94 2.06.94-2.06 2.06-.94-2.06-.94-.94-2.06-.94 2.06-2.06.94zm-11 1L8.5 8.5l.94-2.06 2.06-.94-2.06-.94L8.5 2.5l-.94 2.06-2.06.94zm10 10l.94 2.06.94-2.06 2.06-.94-2.06-.94-.94-2.06-.94 2.06-2.06.94z\"/><path d=\"M17.41 7.96l-1.37-1.37c-.4-.4-.92-.59-1.43-.59-.52 0-1.04.2-1.43.59L10.3 9.45l-7.72 7.72c-.78.78-.78 2.05 0 2.83L4 21.41c.39.39.9.59 1.41.59.51 0 1.02-.2 1.41-.59l7.78-7.78 2.81-2.81c.8-.78.8-2.07 0-2.86zM5.41 20L4 18.59l7.72-7.72 1.47 1.35L5.41 20z\"/>\n",
              "  </svg>\n",
              "      </button>\n",
              "      \n",
              "  <style>\n",
              "    .colab-df-container {\n",
              "      display:flex;\n",
              "      flex-wrap:wrap;\n",
              "      gap: 12px;\n",
              "    }\n",
              "\n",
              "    .colab-df-convert {\n",
              "      background-color: #E8F0FE;\n",
              "      border: none;\n",
              "      border-radius: 50%;\n",
              "      cursor: pointer;\n",
              "      display: none;\n",
              "      fill: #1967D2;\n",
              "      height: 32px;\n",
              "      padding: 0 0 0 0;\n",
              "      width: 32px;\n",
              "    }\n",
              "\n",
              "    .colab-df-convert:hover {\n",
              "      background-color: #E2EBFA;\n",
              "      box-shadow: 0px 1px 2px rgba(60, 64, 67, 0.3), 0px 1px 3px 1px rgba(60, 64, 67, 0.15);\n",
              "      fill: #174EA6;\n",
              "    }\n",
              "\n",
              "    [theme=dark] .colab-df-convert {\n",
              "      background-color: #3B4455;\n",
              "      fill: #D2E3FC;\n",
              "    }\n",
              "\n",
              "    [theme=dark] .colab-df-convert:hover {\n",
              "      background-color: #434B5C;\n",
              "      box-shadow: 0px 1px 3px 1px rgba(0, 0, 0, 0.15);\n",
              "      filter: drop-shadow(0px 1px 2px rgba(0, 0, 0, 0.3));\n",
              "      fill: #FFFFFF;\n",
              "    }\n",
              "  </style>\n",
              "\n",
              "      <script>\n",
              "        const buttonEl =\n",
              "          document.querySelector('#df-075557ee-6cae-4eb3-812c-7005a2eca1d4 button.colab-df-convert');\n",
              "        buttonEl.style.display =\n",
              "          google.colab.kernel.accessAllowed ? 'block' : 'none';\n",
              "\n",
              "        async function convertToInteractive(key) {\n",
              "          const element = document.querySelector('#df-075557ee-6cae-4eb3-812c-7005a2eca1d4');\n",
              "          const dataTable =\n",
              "            await google.colab.kernel.invokeFunction('convertToInteractive',\n",
              "                                                     [key], {});\n",
              "          if (!dataTable) return;\n",
              "\n",
              "          const docLinkHtml = 'Like what you see? Visit the ' +\n",
              "            '<a target=\"_blank\" href=https://colab.research.google.com/notebooks/data_table.ipynb>data table notebook</a>'\n",
              "            + ' to learn more about interactive tables.';\n",
              "          element.innerHTML = '';\n",
              "          dataTable['output_type'] = 'display_data';\n",
              "          await google.colab.output.renderOutput(dataTable, element);\n",
              "          const docLink = document.createElement('div');\n",
              "          docLink.innerHTML = docLinkHtml;\n",
              "          element.appendChild(docLink);\n",
              "        }\n",
              "      </script>\n",
              "    </div>\n",
              "  </div>\n",
              "  "
            ]
          },
          "metadata": {},
          "execution_count": 21
        }
      ]
    },
    {
      "cell_type": "markdown",
      "source": [
        "Fem un merge amb el tercer dataset per incluir la columna dels suicidis"
      ],
      "metadata": {
        "id": "K2WzWuEpuFfl"
      }
    },
    {
      "cell_type": "code",
      "source": [
        "df_main = df_combined_data.merge(df_country_suicides, on='Country name')\n",
        "df_main.head()"
      ],
      "metadata": {
        "colab": {
          "base_uri": "https://localhost:8080/",
          "height": 456
        },
        "id": "rbGrxYO7XV-E",
        "outputId": "912250e8-d554-4581-ce29-c63bc5918e88"
      },
      "execution_count": null,
      "outputs": [
        {
          "output_type": "execute_result",
          "data": {
            "text/plain": [
              "  Country name Regional indicator  Ladder score  \\\n",
              "0      Finland     Western Europe         7.842   \n",
              "1      Denmark     Western Europe         7.620   \n",
              "2  Switzerland     Western Europe         7.571   \n",
              "3      Iceland     Western Europe         7.554   \n",
              "4  Netherlands     Western Europe         7.464   \n",
              "\n",
              "   Standard error of ladder score  upperwhisker  lowerwhisker  \\\n",
              "0                           0.032         7.904         7.780   \n",
              "1                           0.035         7.687         7.552   \n",
              "2                           0.036         7.643         7.500   \n",
              "3                           0.059         7.670         7.438   \n",
              "4                           0.027         7.518         7.410   \n",
              "\n",
              "   Logged GDP per capita  Social support  Healthy life expectancy  \\\n",
              "0                 10.775           0.954                     72.0   \n",
              "1                 10.933           0.954                     72.7   \n",
              "2                 11.117           0.942                     74.4   \n",
              "3                 10.878           0.983                     73.0   \n",
              "4                 10.932           0.942                     72.4   \n",
              "\n",
              "   Freedom to make life choices  ...  Explained by: Generosity  \\\n",
              "0                         0.949  ...                     0.124   \n",
              "1                         0.946  ...                     0.208   \n",
              "2                         0.919  ...                     0.204   \n",
              "3                         0.955  ...                     0.293   \n",
              "4                         0.913  ...                     0.302   \n",
              "\n",
              "   Explained by: Perceptions of corruption  Dystopia + residual  \\\n",
              "0                                    0.481                3.253   \n",
              "1                                    0.485                2.868   \n",
              "2                                    0.413                2.839   \n",
              "3                                    0.170                2.967   \n",
              "4                                    0.384                2.798   \n",
              "\n",
              "   temperatureHigh  temperatureLow  windSpeed  precipProbability  \\\n",
              "0        34.923929       24.960000   8.594643           0.393393   \n",
              "1        43.955357       36.407143  17.484732           0.540937   \n",
              "2        42.581964       29.567589   3.653661           0.323214   \n",
              "3        25.709375       16.010804  17.049821           0.371071   \n",
              "4        74.085268       64.644018  16.011488           0.264435   \n",
              "\n",
              "   temperatureAvg  suicides_no  suicides/100k pop  \n",
              "0       29.941964    68.666667           1.246623  \n",
              "1       40.181250    48.583333           0.842732  \n",
              "2       36.074777    86.916667           1.028376  \n",
              "3       20.860089     2.833333           0.825083  \n",
              "4       69.364643   159.750000           0.932504  \n",
              "\n",
              "[5 rows x 27 columns]"
            ],
            "text/html": [
              "\n",
              "  <div id=\"df-81e0e146-0cb6-4fe6-824e-f0d07bba6ad6\">\n",
              "    <div class=\"colab-df-container\">\n",
              "      <div>\n",
              "<style scoped>\n",
              "    .dataframe tbody tr th:only-of-type {\n",
              "        vertical-align: middle;\n",
              "    }\n",
              "\n",
              "    .dataframe tbody tr th {\n",
              "        vertical-align: top;\n",
              "    }\n",
              "\n",
              "    .dataframe thead th {\n",
              "        text-align: right;\n",
              "    }\n",
              "</style>\n",
              "<table border=\"1\" class=\"dataframe\">\n",
              "  <thead>\n",
              "    <tr style=\"text-align: right;\">\n",
              "      <th></th>\n",
              "      <th>Country name</th>\n",
              "      <th>Regional indicator</th>\n",
              "      <th>Ladder score</th>\n",
              "      <th>Standard error of ladder score</th>\n",
              "      <th>upperwhisker</th>\n",
              "      <th>lowerwhisker</th>\n",
              "      <th>Logged GDP per capita</th>\n",
              "      <th>Social support</th>\n",
              "      <th>Healthy life expectancy</th>\n",
              "      <th>Freedom to make life choices</th>\n",
              "      <th>...</th>\n",
              "      <th>Explained by: Generosity</th>\n",
              "      <th>Explained by: Perceptions of corruption</th>\n",
              "      <th>Dystopia + residual</th>\n",
              "      <th>temperatureHigh</th>\n",
              "      <th>temperatureLow</th>\n",
              "      <th>windSpeed</th>\n",
              "      <th>precipProbability</th>\n",
              "      <th>temperatureAvg</th>\n",
              "      <th>suicides_no</th>\n",
              "      <th>suicides/100k pop</th>\n",
              "    </tr>\n",
              "  </thead>\n",
              "  <tbody>\n",
              "    <tr>\n",
              "      <th>0</th>\n",
              "      <td>Finland</td>\n",
              "      <td>Western Europe</td>\n",
              "      <td>7.842</td>\n",
              "      <td>0.032</td>\n",
              "      <td>7.904</td>\n",
              "      <td>7.780</td>\n",
              "      <td>10.775</td>\n",
              "      <td>0.954</td>\n",
              "      <td>72.0</td>\n",
              "      <td>0.949</td>\n",
              "      <td>...</td>\n",
              "      <td>0.124</td>\n",
              "      <td>0.481</td>\n",
              "      <td>3.253</td>\n",
              "      <td>34.923929</td>\n",
              "      <td>24.960000</td>\n",
              "      <td>8.594643</td>\n",
              "      <td>0.393393</td>\n",
              "      <td>29.941964</td>\n",
              "      <td>68.666667</td>\n",
              "      <td>1.246623</td>\n",
              "    </tr>\n",
              "    <tr>\n",
              "      <th>1</th>\n",
              "      <td>Denmark</td>\n",
              "      <td>Western Europe</td>\n",
              "      <td>7.620</td>\n",
              "      <td>0.035</td>\n",
              "      <td>7.687</td>\n",
              "      <td>7.552</td>\n",
              "      <td>10.933</td>\n",
              "      <td>0.954</td>\n",
              "      <td>72.7</td>\n",
              "      <td>0.946</td>\n",
              "      <td>...</td>\n",
              "      <td>0.208</td>\n",
              "      <td>0.485</td>\n",
              "      <td>2.868</td>\n",
              "      <td>43.955357</td>\n",
              "      <td>36.407143</td>\n",
              "      <td>17.484732</td>\n",
              "      <td>0.540937</td>\n",
              "      <td>40.181250</td>\n",
              "      <td>48.583333</td>\n",
              "      <td>0.842732</td>\n",
              "    </tr>\n",
              "    <tr>\n",
              "      <th>2</th>\n",
              "      <td>Switzerland</td>\n",
              "      <td>Western Europe</td>\n",
              "      <td>7.571</td>\n",
              "      <td>0.036</td>\n",
              "      <td>7.643</td>\n",
              "      <td>7.500</td>\n",
              "      <td>11.117</td>\n",
              "      <td>0.942</td>\n",
              "      <td>74.4</td>\n",
              "      <td>0.919</td>\n",
              "      <td>...</td>\n",
              "      <td>0.204</td>\n",
              "      <td>0.413</td>\n",
              "      <td>2.839</td>\n",
              "      <td>42.581964</td>\n",
              "      <td>29.567589</td>\n",
              "      <td>3.653661</td>\n",
              "      <td>0.323214</td>\n",
              "      <td>36.074777</td>\n",
              "      <td>86.916667</td>\n",
              "      <td>1.028376</td>\n",
              "    </tr>\n",
              "    <tr>\n",
              "      <th>3</th>\n",
              "      <td>Iceland</td>\n",
              "      <td>Western Europe</td>\n",
              "      <td>7.554</td>\n",
              "      <td>0.059</td>\n",
              "      <td>7.670</td>\n",
              "      <td>7.438</td>\n",
              "      <td>10.878</td>\n",
              "      <td>0.983</td>\n",
              "      <td>73.0</td>\n",
              "      <td>0.955</td>\n",
              "      <td>...</td>\n",
              "      <td>0.293</td>\n",
              "      <td>0.170</td>\n",
              "      <td>2.967</td>\n",
              "      <td>25.709375</td>\n",
              "      <td>16.010804</td>\n",
              "      <td>17.049821</td>\n",
              "      <td>0.371071</td>\n",
              "      <td>20.860089</td>\n",
              "      <td>2.833333</td>\n",
              "      <td>0.825083</td>\n",
              "    </tr>\n",
              "    <tr>\n",
              "      <th>4</th>\n",
              "      <td>Netherlands</td>\n",
              "      <td>Western Europe</td>\n",
              "      <td>7.464</td>\n",
              "      <td>0.027</td>\n",
              "      <td>7.518</td>\n",
              "      <td>7.410</td>\n",
              "      <td>10.932</td>\n",
              "      <td>0.942</td>\n",
              "      <td>72.4</td>\n",
              "      <td>0.913</td>\n",
              "      <td>...</td>\n",
              "      <td>0.302</td>\n",
              "      <td>0.384</td>\n",
              "      <td>2.798</td>\n",
              "      <td>74.085268</td>\n",
              "      <td>64.644018</td>\n",
              "      <td>16.011488</td>\n",
              "      <td>0.264435</td>\n",
              "      <td>69.364643</td>\n",
              "      <td>159.750000</td>\n",
              "      <td>0.932504</td>\n",
              "    </tr>\n",
              "  </tbody>\n",
              "</table>\n",
              "<p>5 rows × 27 columns</p>\n",
              "</div>\n",
              "      <button class=\"colab-df-convert\" onclick=\"convertToInteractive('df-81e0e146-0cb6-4fe6-824e-f0d07bba6ad6')\"\n",
              "              title=\"Convert this dataframe to an interactive table.\"\n",
              "              style=\"display:none;\">\n",
              "        \n",
              "  <svg xmlns=\"http://www.w3.org/2000/svg\" height=\"24px\"viewBox=\"0 0 24 24\"\n",
              "       width=\"24px\">\n",
              "    <path d=\"M0 0h24v24H0V0z\" fill=\"none\"/>\n",
              "    <path d=\"M18.56 5.44l.94 2.06.94-2.06 2.06-.94-2.06-.94-.94-2.06-.94 2.06-2.06.94zm-11 1L8.5 8.5l.94-2.06 2.06-.94-2.06-.94L8.5 2.5l-.94 2.06-2.06.94zm10 10l.94 2.06.94-2.06 2.06-.94-2.06-.94-.94-2.06-.94 2.06-2.06.94z\"/><path d=\"M17.41 7.96l-1.37-1.37c-.4-.4-.92-.59-1.43-.59-.52 0-1.04.2-1.43.59L10.3 9.45l-7.72 7.72c-.78.78-.78 2.05 0 2.83L4 21.41c.39.39.9.59 1.41.59.51 0 1.02-.2 1.41-.59l7.78-7.78 2.81-2.81c.8-.78.8-2.07 0-2.86zM5.41 20L4 18.59l7.72-7.72 1.47 1.35L5.41 20z\"/>\n",
              "  </svg>\n",
              "      </button>\n",
              "      \n",
              "  <style>\n",
              "    .colab-df-container {\n",
              "      display:flex;\n",
              "      flex-wrap:wrap;\n",
              "      gap: 12px;\n",
              "    }\n",
              "\n",
              "    .colab-df-convert {\n",
              "      background-color: #E8F0FE;\n",
              "      border: none;\n",
              "      border-radius: 50%;\n",
              "      cursor: pointer;\n",
              "      display: none;\n",
              "      fill: #1967D2;\n",
              "      height: 32px;\n",
              "      padding: 0 0 0 0;\n",
              "      width: 32px;\n",
              "    }\n",
              "\n",
              "    .colab-df-convert:hover {\n",
              "      background-color: #E2EBFA;\n",
              "      box-shadow: 0px 1px 2px rgba(60, 64, 67, 0.3), 0px 1px 3px 1px rgba(60, 64, 67, 0.15);\n",
              "      fill: #174EA6;\n",
              "    }\n",
              "\n",
              "    [theme=dark] .colab-df-convert {\n",
              "      background-color: #3B4455;\n",
              "      fill: #D2E3FC;\n",
              "    }\n",
              "\n",
              "    [theme=dark] .colab-df-convert:hover {\n",
              "      background-color: #434B5C;\n",
              "      box-shadow: 0px 1px 3px 1px rgba(0, 0, 0, 0.15);\n",
              "      filter: drop-shadow(0px 1px 2px rgba(0, 0, 0, 0.3));\n",
              "      fill: #FFFFFF;\n",
              "    }\n",
              "  </style>\n",
              "\n",
              "      <script>\n",
              "        const buttonEl =\n",
              "          document.querySelector('#df-81e0e146-0cb6-4fe6-824e-f0d07bba6ad6 button.colab-df-convert');\n",
              "        buttonEl.style.display =\n",
              "          google.colab.kernel.accessAllowed ? 'block' : 'none';\n",
              "\n",
              "        async function convertToInteractive(key) {\n",
              "          const element = document.querySelector('#df-81e0e146-0cb6-4fe6-824e-f0d07bba6ad6');\n",
              "          const dataTable =\n",
              "            await google.colab.kernel.invokeFunction('convertToInteractive',\n",
              "                                                     [key], {});\n",
              "          if (!dataTable) return;\n",
              "\n",
              "          const docLinkHtml = 'Like what you see? Visit the ' +\n",
              "            '<a target=\"_blank\" href=https://colab.research.google.com/notebooks/data_table.ipynb>data table notebook</a>'\n",
              "            + ' to learn more about interactive tables.';\n",
              "          element.innerHTML = '';\n",
              "          dataTable['output_type'] = 'display_data';\n",
              "          await google.colab.output.renderOutput(dataTable, element);\n",
              "          const docLink = document.createElement('div');\n",
              "          docLink.innerHTML = docLinkHtml;\n",
              "          element.appendChild(docLink);\n",
              "        }\n",
              "      </script>\n",
              "    </div>\n",
              "  </div>\n",
              "  "
            ]
          },
          "metadata": {},
          "execution_count": 22
        }
      ]
    },
    {
      "cell_type": "markdown",
      "source": [
        "A la següent funció obtindrem dee nou els noms de totes les columnes del dataframe main i seleccionarem les que més ens interessin. "
      ],
      "metadata": {
        "id": "1ZbKq7N1uPAk"
      }
    },
    {
      "cell_type": "code",
      "source": [
        "df_main.columns"
      ],
      "metadata": {
        "colab": {
          "base_uri": "https://localhost:8080/"
        },
        "id": "o9AOrLwYPxAb",
        "outputId": "11f60ff3-0d16-4c34-f4ec-9a8f9fb0d067"
      },
      "execution_count": null,
      "outputs": [
        {
          "output_type": "execute_result",
          "data": {
            "text/plain": [
              "Index(['Country name', 'Regional indicator', 'Ladder score',\n",
              "       'Standard error of ladder score', 'upperwhisker', 'lowerwhisker',\n",
              "       'Logged GDP per capita', 'Social support', 'Healthy life expectancy',\n",
              "       'Freedom to make life choices', 'Generosity',\n",
              "       'Perceptions of corruption', 'Ladder score in Dystopia',\n",
              "       'Explained by: Log GDP per capita', 'Explained by: Social support',\n",
              "       'Explained by: Healthy life expectancy',\n",
              "       'Explained by: Freedom to make life choices',\n",
              "       'Explained by: Generosity', 'Explained by: Perceptions of corruption',\n",
              "       'Dystopia + residual', 'temperatureHigh', 'temperatureLow', 'windSpeed',\n",
              "       'precipProbability', 'temperatureAvg', 'suicides_no',\n",
              "       'suicides/100k pop'],\n",
              "      dtype='object')"
            ]
          },
          "metadata": {},
          "execution_count": 23
        }
      ]
    },
    {
      "cell_type": "markdown",
      "source": [
        "Ens quedem amb les variables que ens podran servir per fer l'anàlisi. "
      ],
      "metadata": {
        "id": "30JJO3J2uXb9"
      }
    },
    {
      "cell_type": "code",
      "source": [
        "interesting_columns = ['Country name', 'Regional indicator', 'Ladder score', 'Logged GDP per capita', 'Social support', 'Healthy life expectancy', 'Freedom to make life choices', 'Generosity', 'Perceptions of corruption', 'windSpeed', 'precipProbability','temperatureAvg', 'suicides/100k pop']\n",
        "df_main = df_main[interesting_columns]\n",
        "df_main.head()"
      ],
      "metadata": {
        "colab": {
          "base_uri": "https://localhost:8080/",
          "height": 409
        },
        "id": "gjAEi2DTP4pz",
        "outputId": "c10b0fe6-11bb-4234-de31-85ca902fc67c"
      },
      "execution_count": null,
      "outputs": [
        {
          "output_type": "execute_result",
          "data": {
            "text/plain": [
              "  Country name Regional indicator  Ladder score  Logged GDP per capita  \\\n",
              "0      Finland     Western Europe         7.842                 10.775   \n",
              "1      Denmark     Western Europe         7.620                 10.933   \n",
              "2  Switzerland     Western Europe         7.571                 11.117   \n",
              "3      Iceland     Western Europe         7.554                 10.878   \n",
              "4  Netherlands     Western Europe         7.464                 10.932   \n",
              "\n",
              "   Social support  Healthy life expectancy  Freedom to make life choices  \\\n",
              "0           0.954                     72.0                         0.949   \n",
              "1           0.954                     72.7                         0.946   \n",
              "2           0.942                     74.4                         0.919   \n",
              "3           0.983                     73.0                         0.955   \n",
              "4           0.942                     72.4                         0.913   \n",
              "\n",
              "   Generosity  Perceptions of corruption  windSpeed  precipProbability  \\\n",
              "0      -0.098                      0.186   8.594643           0.393393   \n",
              "1       0.030                      0.179  17.484732           0.540937   \n",
              "2       0.025                      0.292   3.653661           0.323214   \n",
              "3       0.160                      0.673  17.049821           0.371071   \n",
              "4       0.175                      0.338  16.011488           0.264435   \n",
              "\n",
              "   temperatureAvg  suicides/100k pop  \n",
              "0       29.941964           1.246623  \n",
              "1       40.181250           0.842732  \n",
              "2       36.074777           1.028376  \n",
              "3       20.860089           0.825083  \n",
              "4       69.364643           0.932504  "
            ],
            "text/html": [
              "\n",
              "  <div id=\"df-ca867359-8aaf-4c15-920b-6f52baae94ab\">\n",
              "    <div class=\"colab-df-container\">\n",
              "      <div>\n",
              "<style scoped>\n",
              "    .dataframe tbody tr th:only-of-type {\n",
              "        vertical-align: middle;\n",
              "    }\n",
              "\n",
              "    .dataframe tbody tr th {\n",
              "        vertical-align: top;\n",
              "    }\n",
              "\n",
              "    .dataframe thead th {\n",
              "        text-align: right;\n",
              "    }\n",
              "</style>\n",
              "<table border=\"1\" class=\"dataframe\">\n",
              "  <thead>\n",
              "    <tr style=\"text-align: right;\">\n",
              "      <th></th>\n",
              "      <th>Country name</th>\n",
              "      <th>Regional indicator</th>\n",
              "      <th>Ladder score</th>\n",
              "      <th>Logged GDP per capita</th>\n",
              "      <th>Social support</th>\n",
              "      <th>Healthy life expectancy</th>\n",
              "      <th>Freedom to make life choices</th>\n",
              "      <th>Generosity</th>\n",
              "      <th>Perceptions of corruption</th>\n",
              "      <th>windSpeed</th>\n",
              "      <th>precipProbability</th>\n",
              "      <th>temperatureAvg</th>\n",
              "      <th>suicides/100k pop</th>\n",
              "    </tr>\n",
              "  </thead>\n",
              "  <tbody>\n",
              "    <tr>\n",
              "      <th>0</th>\n",
              "      <td>Finland</td>\n",
              "      <td>Western Europe</td>\n",
              "      <td>7.842</td>\n",
              "      <td>10.775</td>\n",
              "      <td>0.954</td>\n",
              "      <td>72.0</td>\n",
              "      <td>0.949</td>\n",
              "      <td>-0.098</td>\n",
              "      <td>0.186</td>\n",
              "      <td>8.594643</td>\n",
              "      <td>0.393393</td>\n",
              "      <td>29.941964</td>\n",
              "      <td>1.246623</td>\n",
              "    </tr>\n",
              "    <tr>\n",
              "      <th>1</th>\n",
              "      <td>Denmark</td>\n",
              "      <td>Western Europe</td>\n",
              "      <td>7.620</td>\n",
              "      <td>10.933</td>\n",
              "      <td>0.954</td>\n",
              "      <td>72.7</td>\n",
              "      <td>0.946</td>\n",
              "      <td>0.030</td>\n",
              "      <td>0.179</td>\n",
              "      <td>17.484732</td>\n",
              "      <td>0.540937</td>\n",
              "      <td>40.181250</td>\n",
              "      <td>0.842732</td>\n",
              "    </tr>\n",
              "    <tr>\n",
              "      <th>2</th>\n",
              "      <td>Switzerland</td>\n",
              "      <td>Western Europe</td>\n",
              "      <td>7.571</td>\n",
              "      <td>11.117</td>\n",
              "      <td>0.942</td>\n",
              "      <td>74.4</td>\n",
              "      <td>0.919</td>\n",
              "      <td>0.025</td>\n",
              "      <td>0.292</td>\n",
              "      <td>3.653661</td>\n",
              "      <td>0.323214</td>\n",
              "      <td>36.074777</td>\n",
              "      <td>1.028376</td>\n",
              "    </tr>\n",
              "    <tr>\n",
              "      <th>3</th>\n",
              "      <td>Iceland</td>\n",
              "      <td>Western Europe</td>\n",
              "      <td>7.554</td>\n",
              "      <td>10.878</td>\n",
              "      <td>0.983</td>\n",
              "      <td>73.0</td>\n",
              "      <td>0.955</td>\n",
              "      <td>0.160</td>\n",
              "      <td>0.673</td>\n",
              "      <td>17.049821</td>\n",
              "      <td>0.371071</td>\n",
              "      <td>20.860089</td>\n",
              "      <td>0.825083</td>\n",
              "    </tr>\n",
              "    <tr>\n",
              "      <th>4</th>\n",
              "      <td>Netherlands</td>\n",
              "      <td>Western Europe</td>\n",
              "      <td>7.464</td>\n",
              "      <td>10.932</td>\n",
              "      <td>0.942</td>\n",
              "      <td>72.4</td>\n",
              "      <td>0.913</td>\n",
              "      <td>0.175</td>\n",
              "      <td>0.338</td>\n",
              "      <td>16.011488</td>\n",
              "      <td>0.264435</td>\n",
              "      <td>69.364643</td>\n",
              "      <td>0.932504</td>\n",
              "    </tr>\n",
              "  </tbody>\n",
              "</table>\n",
              "</div>\n",
              "      <button class=\"colab-df-convert\" onclick=\"convertToInteractive('df-ca867359-8aaf-4c15-920b-6f52baae94ab')\"\n",
              "              title=\"Convert this dataframe to an interactive table.\"\n",
              "              style=\"display:none;\">\n",
              "        \n",
              "  <svg xmlns=\"http://www.w3.org/2000/svg\" height=\"24px\"viewBox=\"0 0 24 24\"\n",
              "       width=\"24px\">\n",
              "    <path d=\"M0 0h24v24H0V0z\" fill=\"none\"/>\n",
              "    <path d=\"M18.56 5.44l.94 2.06.94-2.06 2.06-.94-2.06-.94-.94-2.06-.94 2.06-2.06.94zm-11 1L8.5 8.5l.94-2.06 2.06-.94-2.06-.94L8.5 2.5l-.94 2.06-2.06.94zm10 10l.94 2.06.94-2.06 2.06-.94-2.06-.94-.94-2.06-.94 2.06-2.06.94z\"/><path d=\"M17.41 7.96l-1.37-1.37c-.4-.4-.92-.59-1.43-.59-.52 0-1.04.2-1.43.59L10.3 9.45l-7.72 7.72c-.78.78-.78 2.05 0 2.83L4 21.41c.39.39.9.59 1.41.59.51 0 1.02-.2 1.41-.59l7.78-7.78 2.81-2.81c.8-.78.8-2.07 0-2.86zM5.41 20L4 18.59l7.72-7.72 1.47 1.35L5.41 20z\"/>\n",
              "  </svg>\n",
              "      </button>\n",
              "      \n",
              "  <style>\n",
              "    .colab-df-container {\n",
              "      display:flex;\n",
              "      flex-wrap:wrap;\n",
              "      gap: 12px;\n",
              "    }\n",
              "\n",
              "    .colab-df-convert {\n",
              "      background-color: #E8F0FE;\n",
              "      border: none;\n",
              "      border-radius: 50%;\n",
              "      cursor: pointer;\n",
              "      display: none;\n",
              "      fill: #1967D2;\n",
              "      height: 32px;\n",
              "      padding: 0 0 0 0;\n",
              "      width: 32px;\n",
              "    }\n",
              "\n",
              "    .colab-df-convert:hover {\n",
              "      background-color: #E2EBFA;\n",
              "      box-shadow: 0px 1px 2px rgba(60, 64, 67, 0.3), 0px 1px 3px 1px rgba(60, 64, 67, 0.15);\n",
              "      fill: #174EA6;\n",
              "    }\n",
              "\n",
              "    [theme=dark] .colab-df-convert {\n",
              "      background-color: #3B4455;\n",
              "      fill: #D2E3FC;\n",
              "    }\n",
              "\n",
              "    [theme=dark] .colab-df-convert:hover {\n",
              "      background-color: #434B5C;\n",
              "      box-shadow: 0px 1px 3px 1px rgba(0, 0, 0, 0.15);\n",
              "      filter: drop-shadow(0px 1px 2px rgba(0, 0, 0, 0.3));\n",
              "      fill: #FFFFFF;\n",
              "    }\n",
              "  </style>\n",
              "\n",
              "      <script>\n",
              "        const buttonEl =\n",
              "          document.querySelector('#df-ca867359-8aaf-4c15-920b-6f52baae94ab button.colab-df-convert');\n",
              "        buttonEl.style.display =\n",
              "          google.colab.kernel.accessAllowed ? 'block' : 'none';\n",
              "\n",
              "        async function convertToInteractive(key) {\n",
              "          const element = document.querySelector('#df-ca867359-8aaf-4c15-920b-6f52baae94ab');\n",
              "          const dataTable =\n",
              "            await google.colab.kernel.invokeFunction('convertToInteractive',\n",
              "                                                     [key], {});\n",
              "          if (!dataTable) return;\n",
              "\n",
              "          const docLinkHtml = 'Like what you see? Visit the ' +\n",
              "            '<a target=\"_blank\" href=https://colab.research.google.com/notebooks/data_table.ipynb>data table notebook</a>'\n",
              "            + ' to learn more about interactive tables.';\n",
              "          element.innerHTML = '';\n",
              "          dataTable['output_type'] = 'display_data';\n",
              "          await google.colab.output.renderOutput(dataTable, element);\n",
              "          const docLink = document.createElement('div');\n",
              "          docLink.innerHTML = docLinkHtml;\n",
              "          element.appendChild(docLink);\n",
              "        }\n",
              "      </script>\n",
              "    </div>\n",
              "  </div>\n",
              "  "
            ]
          },
          "metadata": {},
          "execution_count": 24
        }
      ]
    },
    {
      "cell_type": "code",
      "source": [
        "# Ens assegurem de que els valors buits tinguin el valor de nul. \n",
        "df_main.replace(\"\", np.nan, inplace = True)"
      ],
      "metadata": {
        "id": "qG8BMbA19uus",
        "colab": {
          "base_uri": "https://localhost:8080/"
        },
        "outputId": "ac8bbf00-931c-432e-b621-a9b744c6f5c1"
      },
      "execution_count": null,
      "outputs": [
        {
          "output_type": "stream",
          "name": "stderr",
          "text": [
            "/usr/local/lib/python3.8/dist-packages/pandas/core/frame.py:5238: SettingWithCopyWarning: \n",
            "A value is trying to be set on a copy of a slice from a DataFrame\n",
            "\n",
            "See the caveats in the documentation: https://pandas.pydata.org/pandas-docs/stable/user_guide/indexing.html#returning-a-view-versus-a-copy\n",
            "  return super().replace(\n"
          ]
        }
      ]
    },
    {
      "cell_type": "markdown",
      "source": [
        "Sumem la quantitat de valors nuls per columna, i veim que no tenim cap valor nul d'acumulació de precipitació. "
      ],
      "metadata": {
        "id": "6d8nHlaHugHR"
      }
    },
    {
      "cell_type": "code",
      "source": [
        "df_main.isna().sum()"
      ],
      "metadata": {
        "id": "UaQCgpmO959p",
        "colab": {
          "base_uri": "https://localhost:8080/"
        },
        "outputId": "b1aa5d76-ccf2-45c9-f5cc-2a5bd8a0476e"
      },
      "execution_count": null,
      "outputs": [
        {
          "output_type": "execute_result",
          "data": {
            "text/plain": [
              "Country name                    0\n",
              "Regional indicator              0\n",
              "Ladder score                    0\n",
              "Logged GDP per capita           0\n",
              "Social support                  0\n",
              "Healthy life expectancy         0\n",
              "Freedom to make life choices    0\n",
              "Generosity                      0\n",
              "Perceptions of corruption       0\n",
              "windSpeed                       0\n",
              "precipProbability               0\n",
              "temperatureAvg                  0\n",
              "suicides/100k pop               0\n",
              "dtype: int64"
            ]
          },
          "metadata": {},
          "execution_count": 26
        }
      ]
    },
    {
      "cell_type": "code",
      "source": [
        "df_main.to_csv('/content/drive/MyDrive/Ciència de les dades/Tipologia i cicle de vida de les dades/Pràctica 2/main.csv')"
      ],
      "metadata": {
        "id": "ZR_zvV4nJ0gM"
      },
      "execution_count": null,
      "outputs": []
    },
    {
      "cell_type": "markdown",
      "source": [
        "#4. Anàlisi de les dades\n",
        "\n",
        "Una vegada feta la neteja de dades, ja podem començar amb l'anàlisi de les dades. Hem creat un dataset amb les variables que més ens interessen, i ens hem assegurat de que no hi hagi valors nuls que ens puguin molestar a l'hora de fer l'anàlisi. \n",
        "\n",
        "Començarem en fer unes gràfiques de boxplot per veure si tenim qualque outlier a corregir entre les dades que més ens interessen. \n",
        "\n",
        "El primer gràfic surt bé. "
      ],
      "metadata": {
        "id": "XdU1N6M3Ygs6"
      }
    },
    {
      "cell_type": "code",
      "source": [
        "list_features = [\"Social support\"]\n",
        "sns.boxplot(data = df_2021.loc[:, list_features], orient = \"v\", palette = \"Set1\")\n",
        "plt.xticks(rotation = 60)\n",
        "plt.show()"
      ],
      "metadata": {
        "id": "jcenjwW9cD11",
        "colab": {
          "base_uri": "https://localhost:8080/",
          "height": 322
        },
        "outputId": "35bf4261-edf6-46b5-a050-5c0afecc6c59"
      },
      "execution_count": null,
      "outputs": [
        {
          "output_type": "display_data",
          "data": {
            "text/plain": [
              "<Figure size 432x288 with 1 Axes>"
            ],
            "image/png": "[encoded data removed]"
          },
          "metadata": {
            "needs_background": "light"
          }
        }
      ]
    },
    {
      "cell_type": "code",
      "source": [
        "list_features = [\"Generosity\"]\n",
        "sns.boxplot(data = df_2021.loc[:, list_features], orient = \"v\", palette = \"Set2\")\n",
        "plt.xticks(rotation = 60)\n",
        "plt.show()"
      ],
      "metadata": {
        "colab": {
          "base_uri": "https://localhost:8080/",
          "height": 307
        },
        "id": "4H4PNOcd-HPi",
        "outputId": "0851c2dd-6090-4c6a-c3a1-80d23559692f"
      },
      "execution_count": null,
      "outputs": [
        {
          "output_type": "display_data",
          "data": {
            "text/plain": [
              "<Figure size 432x288 with 1 Axes>"
            ],
            "image/png": "[encoded data removed]"
          },
          "metadata": {
            "needs_background": "light"
          }
        }
      ]
    },
    {
      "cell_type": "code",
      "source": [
        "list_features = [\"Perceptions of corruption\"]\n",
        "sns.boxplot(data = df_2021.loc[:, list_features], orient = \"v\", palette = \"Set1\")\n",
        "plt.xticks(rotation = 60)\n",
        "plt.show()"
      ],
      "metadata": {
        "colab": {
          "base_uri": "https://localhost:8080/",
          "height": 369
        },
        "id": "jkeRiN9q-Rcl",
        "outputId": "50ca4ccd-07f3-4a20-868f-d1617d1a48d8"
      },
      "execution_count": null,
      "outputs": [
        {
          "output_type": "display_data",
          "data": {
            "text/plain": [
              "<Figure size 432x288 with 1 Axes>"
            ],
            "image/png": "[encoded data removed]"
          },
          "metadata": {
            "needs_background": "light"
          }
        }
      ]
    },
    {
      "cell_type": "code",
      "source": [
        "list_features = [\"Healthy life expectancy\"]\n",
        "sns.boxplot(data = df_2021.loc[:, list_features], orient = \"v\", palette = \"Set2\")\n",
        "plt.xticks(rotation = 60)\n",
        "plt.show()"
      ],
      "metadata": {
        "colab": {
          "base_uri": "https://localhost:8080/",
          "height": 363
        },
        "id": "CyyDLeN2-kab",
        "outputId": "1834afd3-052d-41c8-c3e8-eaf4a46b615d"
      },
      "execution_count": null,
      "outputs": [
        {
          "output_type": "display_data",
          "data": {
            "text/plain": [
              "<Figure size 432x288 with 1 Axes>"
            ],
            "image/png": "[encoded data removed]"
          },
          "metadata": {
            "needs_background": "light"
          }
        }
      ]
    },
    {
      "cell_type": "markdown",
      "source": [
        "Gràcies al següent *boxplot* podem comprovar que tenim un outlier molt evident que s'haurà de corregir. "
      ],
      "metadata": {
        "id": "x18wesDyvTFL"
      }
    },
    {
      "cell_type": "code",
      "source": [
        "list_features = [\"suicides/100k pop\"]\n",
        "sns.boxplot(data = df_main.loc[:, list_features], orient = \"v\", palette = \"Set1\")\n",
        "plt.xticks(rotation = 60)\n",
        "plt.show()"
      ],
      "metadata": {
        "colab": {
          "base_uri": "https://localhost:8080/",
          "height": 340
        },
        "id": "ZFm5da2-wL5S",
        "outputId": "038138eb-021d-46e9-c56f-d043def8dbf2"
      },
      "execution_count": null,
      "outputs": [
        {
          "output_type": "display_data",
          "data": {
            "text/plain": [
              "<Figure size 432x288 with 1 Axes>"
            ],
            "image/png": "[encoded data removed]"
          },
          "metadata": {
            "needs_background": "light"
          }
        }
      ]
    },
    {
      "cell_type": "markdown",
      "source": [
        "Com que només és un, hem decidit buscar la informació per un altre costat per fer la substitució del valor. Primer hem de localitzar de quin valor es tracta i a quin pais pertany. "
      ],
      "metadata": {
        "id": "I9boNaw2hJMT"
      }
    },
    {
      "cell_type": "code",
      "source": [
        "# Identifiquem quin és el país que té el valor màxim\n",
        "max_suicides_index = df_main['suicides/100k pop'].idxmax()\n",
        "max_suicides_country = df_main.loc[max_suicides_index, 'Country name']\n",
        "max_suicides_country"
      ],
      "metadata": {
        "colab": {
          "base_uri": "https://localhost:8080/",
          "height": 35
        },
        "id": "Txhu_ioJxQJK",
        "outputId": "a59afbe0-6f1c-469d-bf2a-c5a3469254ea"
      },
      "execution_count": null,
      "outputs": [
        {
          "output_type": "execute_result",
          "data": {
            "text/plain": [
              "'Slovakia'"
            ],
            "application/vnd.google.colaboratory.intrinsic+json": {
              "type": "string"
            }
          },
          "metadata": {},
          "execution_count": 33
        }
      ]
    },
    {
      "cell_type": "markdown",
      "source": [
        "Una vegada detectat, hem decidit buscar a internet i segons un estudi fet per la World Health Organization i la web www.countryeconomy.com (https://countryeconomy.com/demography/mortality/causes-death/suicide/slovakia) Eslovàquia va tenir un índex de suicidi proper al 7 per 100.000 durant l'any 2017, per tant es pot entendre que al nostre dataset es va afegir un 0 per error després del 7. Així que corregim aquesta dada. "
      ],
      "metadata": {
        "id": "8MLXZCGiy06X"
      }
    },
    {
      "cell_type": "code",
      "source": [
        "# Corregim la dada i tornem a mostrar el boxplot.\n",
        "df_main.loc[df_main['Country name'] == 'Slovakia', 'suicides/100k pop'] = 3\n",
        "list_features = [\"suicides/100k pop\"]\n",
        "sns.boxplot(data = df_main.loc[:, list_features], orient = \"v\", palette = \"Set1\")\n",
        "plt.xticks(rotation = 60)\n",
        "plt.show()"
      ],
      "metadata": {
        "colab": {
          "base_uri": "https://localhost:8080/",
          "height": 338
        },
        "id": "mWFN6-wrxH8J",
        "outputId": "f17f428f-2db4-4e5e-a36a-14c0e814b362"
      },
      "execution_count": null,
      "outputs": [
        {
          "output_type": "display_data",
          "data": {
            "text/plain": [
              "<Figure size 432x288 with 1 Axes>"
            ],
            "image/png": "[encoded data removed]"
          },
          "metadata": {
            "needs_background": "light"
          }
        }
      ]
    },
    {
      "cell_type": "markdown",
      "source": [
        "Aquesta vegada podem veure que el boxplot resultant ja està dintre dels rangs normals.\n",
        "\n",
        "A continuació seguirem fent un gràfic de barres amb els païssos que lideren el rànquing de més suïcidis per habitant al món. "
      ],
      "metadata": {
        "id": "DSlpTrR1yPRV"
      }
    },
    {
      "cell_type": "code",
      "source": [
        "df_suicides_countries = df_main.sort_values(by='suicides/100k pop', ascending=False)\n",
        "df_top_12 = df_suicides_countries.head(20)\n",
        "fig, ax = plt.subplots(figsize=(20,10))\n",
        "sns.barplot(y = \"suicides/100k pop\", x = \"Country name\", data=df_top_12, palette = \"coolwarm_r\", ax=ax)\n",
        "plt.title(\"suicides per top 20 countries\")\n",
        "plt.show()"
      ],
      "metadata": {
        "colab": {
          "base_uri": "https://localhost:8080/",
          "height": 617
        },
        "id": "RdaqE0K7Zex7",
        "outputId": "db00fca9-4cee-4d8f-c428-8506a1b9cb17"
      },
      "execution_count": null,
      "outputs": [
        {
          "output_type": "display_data",
          "data": {
            "text/plain": [
              "<Figure size 1440x720 with 1 Axes>"
            ],
            "image/png": "[encoded data removed]"
          },
          "metadata": {
            "needs_background": "light"
          }
        }
      ]
    },
    {
      "cell_type": "markdown",
      "source": [
        "També fem el rànquing a la inversa. Els 20 païssos amb menys taxa de suicidi. "
      ],
      "metadata": {
        "id": "AhbSKe_xygwB"
      }
    },
    {
      "cell_type": "code",
      "source": [
        "df_bottom_20 = df_main.nsmallest(20, 'suicides/100k pop')\n",
        "fig, ax = plt.subplots(figsize=(20,10))\n",
        "sns.barplot(y = \"suicides/100k pop\", x = \"Country name\", data=df_bottom_20, palette = \"coolwarm\", ax=ax)\n",
        "plt.title(\"suicides per last 20 countries\")\n",
        "plt.show()"
      ],
      "metadata": {
        "colab": {
          "base_uri": "https://localhost:8080/",
          "height": 613
        },
        "id": "Yf9cfJ9ne4Kh",
        "outputId": "14bec512-150e-456d-aa4c-aaf0d70fbd31"
      },
      "execution_count": null,
      "outputs": [
        {
          "output_type": "display_data",
          "data": {
            "text/plain": [
              "<Figure size 1440x720 with 1 Axes>"
            ],
            "image/png": "[encoded data removed]"
          },
          "metadata": {
            "needs_background": "light"
          }
        }
      ]
    },
    {
      "cell_type": "markdown",
      "source": [
        "En contraposició també volem analitzar els païssos on l'index de felicitat al món és més alt. "
      ],
      "metadata": {
        "id": "31fbZQaZy_mm"
      }
    },
    {
      "cell_type": "code",
      "source": [
        "df_happiest_countries = df_main.sort_values(by='Ladder score', ascending=False)\n",
        "df_top_20 = df_happiest_countries.head(20)\n",
        "fig, ax = plt.subplots(figsize=(20,10))\n",
        "sns.barplot(y = \"Ladder score\", x = \"Country name\", data=df_top_20, palette = \"coolwarm\", ax=ax)\n",
        "plt.title(\"Ladder score\")\n",
        "plt.show() "
      ],
      "metadata": {
        "colab": {
          "base_uri": "https://localhost:8080/",
          "height": 621
        },
        "id": "SER55tiP3rTl",
        "outputId": "d75b49c5-e7d9-480a-d4e1-2191e5c3b3cf"
      },
      "execution_count": null,
      "outputs": [
        {
          "output_type": "display_data",
          "data": {
            "text/plain": [
              "<Figure size 1440x720 with 1 Axes>"
            ],
            "image/png": "[encoded data removed]"
          },
          "metadata": {
            "needs_background": "light"
          }
        }
      ]
    },
    {
      "cell_type": "markdown",
      "source": [
        "També volem veure els 20 païssos menys feliços començant per la cua. "
      ],
      "metadata": {
        "id": "h9s9ai1gzGyp"
      }
    },
    {
      "cell_type": "code",
      "source": [
        "df_unhappiest_countries = df_main.nsmallest(20, 'Ladder score')\n",
        "fig, ax = plt.subplots(figsize=(20,10))\n",
        "sns.barplot(y = \"Ladder score\", x = \"Country name\", data=df_unhappiest_countries, palette = \"coolwarm_r\", ax=ax)\n",
        "plt.title(\"Ladder score\")\n",
        "plt.show() "
      ],
      "metadata": {
        "colab": {
          "base_uri": "https://localhost:8080/",
          "height": 621
        },
        "id": "kb57BMpqiJfd",
        "outputId": "9c96d8ec-9eaa-42e6-b185-9dcc9534f06c"
      },
      "execution_count": null,
      "outputs": [
        {
          "output_type": "display_data",
          "data": {
            "text/plain": [
              "<Figure size 1440x720 with 1 Axes>"
            ],
            "image/png": "[encoded data removed]"
          },
          "metadata": {
            "needs_background": "light"
          }
        }
      ]
    },
    {
      "cell_type": "markdown",
      "source": [
        "També ens interessa el rànquing de felicitat per regió. "
      ],
      "metadata": {
        "id": "XImwlHGmzOm0"
      }
    },
    {
      "cell_type": "code",
      "source": [
        "import plotly.express as px\n",
        "Avg_happiness = df_main.groupby('Regional indicator')['Ladder score'].mean()\n",
        "Avg_happiness = Avg_happiness.sort_values(ascending=False)\n",
        "fig9 = px.bar(Avg_happiness, title='Happiness Score by Region',\n",
        "             labels={'Region': 'Region', 'value': 'Happiness Score(Avg)'},\n",
        "             )\n",
        "fig9.update_layout(width=800, showlegend=False)\n",
        "fig9.show() "
      ],
      "metadata": {
        "colab": {
          "base_uri": "https://localhost:8080/"
        },
        "id": "AXIuUAB6559x",
        "outputId": "090a7911-babf-4fae-c252-4b574e7746ab"
      },
      "execution_count": null,
      "outputs": [
        {
          "output_type": "display_data",
          "data": {
            "text/html": [
              "<html>\n",
              "<head><meta charset=\"utf-8\" /></head>\n",
              "<body>\n",
              "    <div>            <script src=\"https://cdnjs.cloudflare.com/ajax/libs/mathjax/2.7.5/MathJax.js?config=TeX-AMS-MML_SVG\"></script><script type=\"text/javascript\">if (window.MathJax) {MathJax.Hub.Config({SVG: {font: \"STIX-Web\"}});}</script>                <script type=\"text/javascript\">window.PlotlyConfig = {MathJaxConfig: 'local'};</script>\n",
              "        <script src=\"https://cdn.plot.ly/plotly-2.8.3.min.js\"></script>                <div id=\"57cde7ce-d556-458e-946e-479a5679a297\" class=\"plotly-graph-div\" style=\"height:525px; width:800px;\"></div>            <script type=\"text/javascript\">                                    window.PLOTLYENV=window.PLOTLYENV || {};                                    if (document.getElementById(\"57cde7ce-d556-458e-946e-479a5679a297\")) {                    Plotly.newPlot(                        \"57cde7ce-d556-458e-946e-479a5679a297\",                        [{\"alignmentgroup\":\"True\",\"hovertemplate\":\"variable=Ladder score<br>Regional indicator=%{x}<br>Happiness Score(Avg)=%{y}<extra></extra>\",\"legendgroup\":\"Ladder score\",\"marker\":{\"color\":\"#636efa\",\"pattern\":{\"shape\":\"\"}},\"name\":\"Ladder score\",\"offsetgroup\":\"Ladder score\",\"orientation\":\"v\",\"showlegend\":true,\"textposition\":\"auto\",\"x\":[\"North America and ANZ\",\"Western Europe\",\"Latin America and Caribbean\",\"Southeast Asia\",\"Central and Eastern Europe\",\"East Asia\",\"Commonwealth of Independent States\",\"Sub-Saharan Africa\",\"Middle East and North Africa\",\"South Asia\"],\"xaxis\":\"x\",\"y\":[7.143,6.9775,6.129,6.080666666666667,5.959538461538462,5.94,5.522571428571429,5.5025,5.2455,5.198],\"yaxis\":\"y\",\"type\":\"bar\"}],                        {\"template\":{\"data\":{\"bar\":[{\"error_x\":{\"color\":\"#2a3f5f\"},\"error_y\":{\"color\":\"#2a3f5f\"},\"marker\":{\"line\":{\"color\":\"#E5ECF6\",\"width\":0.5},\"pattern\":{\"fillmode\":\"overlay\",\"size\":10,\"solidity\":0.2}},\"type\":\"bar\"}],\"barpolar\":[{\"marker\":{\"line\":{\"color\":\"#E5ECF6\",\"width\":0.5},\"pattern\":{\"fillmode\":\"overlay\",\"size\":10,\"solidity\":0.2}},\"type\":\"barpolar\"}],\"carpet\":[{\"aaxis\":{\"endlinecolor\":\"#2a3f5f\",\"gridcolor\":\"white\",\"linecolor\":\"white\",\"minorgridcolor\":\"white\",\"startlinecolor\":\"#2a3f5f\"},\"baxis\":{\"endlinecolor\":\"#2a3f5f\",\"gridcolor\":\"white\",\"linecolor\":\"white\",\"minorgridcolor\":\"white\",\"startlinecolor\":\"#2a3f5f\"},\"type\":\"carpet\"}],\"choropleth\":[{\"colorbar\":{\"outlinewidth\":0,\"ticks\":\"\"},\"type\":\"choropleth\"}],\"contour\":[{\"colorbar\":{\"outlinewidth\":0,\"ticks\":\"\"},\"colorscale\":[[0.0,\"#0d0887\"],[0.1111111111111111,\"#46039f\"],[0.2222222222222222,\"#7201a8\"],[0.3333333333333333,\"#9c179e\"],[0.4444444444444444,\"#bd3786\"],[0.5555555555555556,\"#d8576b\"],[0.6666666666666666,\"#ed7953\"],[0.7777777777777778,\"#fb9f3a\"],[0.8888888888888888,\"#fdca26\"],[1.0,\"#f0f921\"]],\"type\":\"contour\"}],\"contourcarpet\":[{\"colorbar\":{\"outlinewidth\":0,\"ticks\":\"\"},\"type\":\"contourcarpet\"}],\"heatmap\":[{\"colorbar\":{\"outlinewidth\":0,\"ticks\":\"\"},\"colorscale\":[[0.0,\"#0d0887\"],[0.1111111111111111,\"#46039f\"],[0.2222222222222222,\"#7201a8\"],[0.3333333333333333,\"#9c179e\"],[0.4444444444444444,\"#bd3786\"],[0.5555555555555556,\"#d8576b\"],[0.6666666666666666,\"#ed7953\"],[0.7777777777777778,\"#fb9f3a\"],[0.8888888888888888,\"#fdca26\"],[1.0,\"#f0f921\"]],\"type\":\"heatmap\"}],\"heatmapgl\":[{\"colorbar\":{\"outlinewidth\":0,\"ticks\":\"\"},\"colorscale\":[[0.0,\"#0d0887\"],[0.1111111111111111,\"#46039f\"],[0.2222222222222222,\"#7201a8\"],[0.3333333333333333,\"#9c179e\"],[0.4444444444444444,\"#bd3786\"],[0.5555555555555556,\"#d8576b\"],[0.6666666666666666,\"#ed7953\"],[0.7777777777777778,\"#fb9f3a\"],[0.8888888888888888,\"#fdca26\"],[1.0,\"#f0f921\"]],\"type\":\"heatmapgl\"}],\"histogram\":[{\"marker\":{\"pattern\":{\"fillmode\":\"overlay\",\"size\":10,\"solidity\":0.2}},\"type\":\"histogram\"}],\"histogram2d\":[{\"colorbar\":{\"outlinewidth\":0,\"ticks\":\"\"},\"colorscale\":[[0.0,\"#0d0887\"],[0.1111111111111111,\"#46039f\"],[0.2222222222222222,\"#7201a8\"],[0.3333333333333333,\"#9c179e\"],[0.4444444444444444,\"#bd3786\"],[0.5555555555555556,\"#d8576b\"],[0.6666666666666666,\"#ed7953\"],[0.7777777777777778,\"#fb9f3a\"],[0.8888888888888888,\"#fdca26\"],[1.0,\"#f0f921\"]],\"type\":\"histogram2d\"}],\"histogram2dcontour\":[{\"colorbar\":{\"outlinewidth\":0,\"ticks\":\"\"},\"colorscale\":[[0.0,\"#0d0887\"],[0.1111111111111111,\"#46039f\"],[0.2222222222222222,\"#7201a8\"],[0.3333333333333333,\"#9c179e\"],[0.4444444444444444,\"#bd3786\"],[0.5555555555555556,\"#d8576b\"],[0.6666666666666666,\"#ed7953\"],[0.7777777777777778,\"#fb9f3a\"],[0.8888888888888888,\"#fdca26\"],[1.0,\"#f0f921\"]],\"type\":\"histogram2dcontour\"}],\"mesh3d\":[{\"colorbar\":{\"outlinewidth\":0,\"ticks\":\"\"},\"type\":\"mesh3d\"}],\"parcoords\":[{\"line\":{\"colorbar\":{\"outlinewidth\":0,\"ticks\":\"\"}},\"type\":\"parcoords\"}],\"pie\":[{\"automargin\":true,\"type\":\"pie\"}],\"scatter\":[{\"marker\":{\"colorbar\":{\"outlinewidth\":0,\"ticks\":\"\"}},\"type\":\"scatter\"}],\"scatter3d\":[{\"line\":{\"colorbar\":{\"outlinewidth\":0,\"ticks\":\"\"}},\"marker\":{\"colorbar\":{\"outlinewidth\":0,\"ticks\":\"\"}},\"type\":\"scatter3d\"}],\"scattercarpet\":[{\"marker\":{\"colorbar\":{\"outlinewidth\":0,\"ticks\":\"\"}},\"type\":\"scattercarpet\"}],\"scattergeo\":[{\"marker\":{\"colorbar\":{\"outlinewidth\":0,\"ticks\":\"\"}},\"type\":\"scattergeo\"}],\"scattergl\":[{\"marker\":{\"colorbar\":{\"outlinewidth\":0,\"ticks\":\"\"}},\"type\":\"scattergl\"}],\"scattermapbox\":[{\"marker\":{\"colorbar\":{\"outlinewidth\":0,\"ticks\":\"\"}},\"type\":\"scattermapbox\"}],\"scatterpolar\":[{\"marker\":{\"colorbar\":{\"outlinewidth\":0,\"ticks\":\"\"}},\"type\":\"scatterpolar\"}],\"scatterpolargl\":[{\"marker\":{\"colorbar\":{\"outlinewidth\":0,\"ticks\":\"\"}},\"type\":\"scatterpolargl\"}],\"scatterternary\":[{\"marker\":{\"colorbar\":{\"outlinewidth\":0,\"ticks\":\"\"}},\"type\":\"scatterternary\"}],\"surface\":[{\"colorbar\":{\"outlinewidth\":0,\"ticks\":\"\"},\"colorscale\":[[0.0,\"#0d0887\"],[0.1111111111111111,\"#46039f\"],[0.2222222222222222,\"#7201a8\"],[0.3333333333333333,\"#9c179e\"],[0.4444444444444444,\"#bd3786\"],[0.5555555555555556,\"#d8576b\"],[0.6666666666666666,\"#ed7953\"],[0.7777777777777778,\"#fb9f3a\"],[0.8888888888888888,\"#fdca26\"],[1.0,\"#f0f921\"]],\"type\":\"surface\"}],\"table\":[{\"cells\":{\"fill\":{\"color\":\"#EBF0F8\"},\"line\":{\"color\":\"white\"}},\"header\":{\"fill\":{\"color\":\"#C8D4E3\"},\"line\":{\"color\":\"white\"}},\"type\":\"table\"}]},\"layout\":{\"annotationdefaults\":{\"arrowcolor\":\"#2a3f5f\",\"arrowhead\":0,\"arrowwidth\":1},\"autotypenumbers\":\"strict\",\"coloraxis\":{\"colorbar\":{\"outlinewidth\":0,\"ticks\":\"\"}},\"colorscale\":{\"diverging\":[[0,\"#8e0152\"],[0.1,\"#c51b7d\"],[0.2,\"#de77ae\"],[0.3,\"#f1b6da\"],[0.4,\"#fde0ef\"],[0.5,\"#f7f7f7\"],[0.6,\"#e6f5d0\"],[0.7,\"#b8e186\"],[0.8,\"#7fbc41\"],[0.9,\"#4d9221\"],[1,\"#276419\"]],\"sequential\":[[0.0,\"#0d0887\"],[0.1111111111111111,\"#46039f\"],[0.2222222222222222,\"#7201a8\"],[0.3333333333333333,\"#9c179e\"],[0.4444444444444444,\"#bd3786\"],[0.5555555555555556,\"#d8576b\"],[0.6666666666666666,\"#ed7953\"],[0.7777777777777778,\"#fb9f3a\"],[0.8888888888888888,\"#fdca26\"],[1.0,\"#f0f921\"]],\"sequentialminus\":[[0.0,\"#0d0887\"],[0.1111111111111111,\"#46039f\"],[0.2222222222222222,\"#7201a8\"],[0.3333333333333333,\"#9c179e\"],[0.4444444444444444,\"#bd3786\"],[0.5555555555555556,\"#d8576b\"],[0.6666666666666666,\"#ed7953\"],[0.7777777777777778,\"#fb9f3a\"],[0.8888888888888888,\"#fdca26\"],[1.0,\"#f0f921\"]]},\"colorway\":[\"#636efa\",\"#EF553B\",\"#00cc96\",\"#ab63fa\",\"#FFA15A\",\"#19d3f3\",\"#FF6692\",\"#B6E880\",\"#FF97FF\",\"#FECB52\"],\"font\":{\"color\":\"#2a3f5f\"},\"geo\":{\"bgcolor\":\"white\",\"lakecolor\":\"white\",\"landcolor\":\"#E5ECF6\",\"showlakes\":true,\"showland\":true,\"subunitcolor\":\"white\"},\"hoverlabel\":{\"align\":\"left\"},\"hovermode\":\"closest\",\"mapbox\":{\"style\":\"light\"},\"paper_bgcolor\":\"white\",\"plot_bgcolor\":\"#E5ECF6\",\"polar\":{\"angularaxis\":{\"gridcolor\":\"white\",\"linecolor\":\"white\",\"ticks\":\"\"},\"bgcolor\":\"#E5ECF6\",\"radialaxis\":{\"gridcolor\":\"white\",\"linecolor\":\"white\",\"ticks\":\"\"}},\"scene\":{\"xaxis\":{\"backgroundcolor\":\"#E5ECF6\",\"gridcolor\":\"white\",\"gridwidth\":2,\"linecolor\":\"white\",\"showbackground\":true,\"ticks\":\"\",\"zerolinecolor\":\"white\"},\"yaxis\":{\"backgroundcolor\":\"#E5ECF6\",\"gridcolor\":\"white\",\"gridwidth\":2,\"linecolor\":\"white\",\"showbackground\":true,\"ticks\":\"\",\"zerolinecolor\":\"white\"},\"zaxis\":{\"backgroundcolor\":\"#E5ECF6\",\"gridcolor\":\"white\",\"gridwidth\":2,\"linecolor\":\"white\",\"showbackground\":true,\"ticks\":\"\",\"zerolinecolor\":\"white\"}},\"shapedefaults\":{\"line\":{\"color\":\"#2a3f5f\"}},\"ternary\":{\"aaxis\":{\"gridcolor\":\"white\",\"linecolor\":\"white\",\"ticks\":\"\"},\"baxis\":{\"gridcolor\":\"white\",\"linecolor\":\"white\",\"ticks\":\"\"},\"bgcolor\":\"#E5ECF6\",\"caxis\":{\"gridcolor\":\"white\",\"linecolor\":\"white\",\"ticks\":\"\"}},\"title\":{\"x\":0.05},\"xaxis\":{\"automargin\":true,\"gridcolor\":\"white\",\"linecolor\":\"white\",\"ticks\":\"\",\"title\":{\"standoff\":15},\"zerolinecolor\":\"white\",\"zerolinewidth\":2},\"yaxis\":{\"automargin\":true,\"gridcolor\":\"white\",\"linecolor\":\"white\",\"ticks\":\"\",\"title\":{\"standoff\":15},\"zerolinecolor\":\"white\",\"zerolinewidth\":2}}},\"xaxis\":{\"anchor\":\"y\",\"domain\":[0.0,1.0],\"title\":{\"text\":\"Regional indicator\"}},\"yaxis\":{\"anchor\":\"x\",\"domain\":[0.0,1.0],\"title\":{\"text\":\"Happiness Score(Avg)\"}},\"legend\":{\"title\":{\"text\":\"variable\"},\"tracegroupgap\":0},\"title\":{\"text\":\"Happiness Score by Region\"},\"barmode\":\"relative\",\"width\":800,\"showlegend\":false},                        {\"responsive\": true}                    ).then(function(){\n",
              "                            \n",
              "var gd = document.getElementById('57cde7ce-d556-458e-946e-479a5679a297');\n",
              "var x = new MutationObserver(function (mutations, observer) {{\n",
              "        var display = window.getComputedStyle(gd).display;\n",
              "        if (!display || display === 'none') {{\n",
              "            console.log([gd, 'removed!']);\n",
              "            Plotly.purge(gd);\n",
              "            observer.disconnect();\n",
              "        }}\n",
              "}});\n",
              "\n",
              "// Listen for the removal of the full notebook cells\n",
              "var notebookContainer = gd.closest('#notebook-container');\n",
              "if (notebookContainer) {{\n",
              "    x.observe(notebookContainer, {childList: true});\n",
              "}}\n",
              "\n",
              "// Listen for the clearing of the current output cell\n",
              "var outputEl = gd.closest('.output');\n",
              "if (outputEl) {{\n",
              "    x.observe(outputEl, {childList: true});\n",
              "}}\n",
              "\n",
              "                        })                };                            </script>        </div>\n",
              "</body>\n",
              "</html>"
            ]
          },
          "metadata": {}
        }
      ]
    },
    {
      "cell_type": "markdown",
      "source": [
        "Volem explorar la normalitat de la felicitat amb un histograma. "
      ],
      "metadata": {
        "id": "kWOxQspszkBT"
      }
    },
    {
      "cell_type": "code",
      "source": [
        "sns.displot(df_main['Ladder score'])"
      ],
      "metadata": {
        "colab": {
          "base_uri": "https://localhost:8080/",
          "height": 386
        },
        "id": "GV_m8mTYMQpA",
        "outputId": "fbcce72d-db37-4f2b-f582-c07c6b9e3735"
      },
      "execution_count": null,
      "outputs": [
        {
          "output_type": "execute_result",
          "data": {
            "text/plain": [
              "<seaborn.axisgrid.FacetGrid at 0x7fc10ed639a0>"
            ]
          },
          "metadata": {},
          "execution_count": 40
        },
        {
          "output_type": "display_data",
          "data": {
            "text/plain": [
              "<Figure size 360x360 with 1 Axes>"
            ],
            "image/png": "[encoded data removed]"
          },
          "metadata": {
            "needs_background": "light"
          }
        }
      ]
    },
    {
      "cell_type": "markdown",
      "source": [
        "Agafem el mateix histograma però amb més detalls per zona i freqüència de la puntuació de felicitat, que ens dona cada país de la regió. "
      ],
      "metadata": {
        "id": "V7xsVHrfztBv"
      }
    },
    {
      "cell_type": "code",
      "source": [
        "fig = px.histogram(data_frame=df_main, x='Ladder score', color='Regional indicator', nbins=30)\n",
        "fig.update_layout(title='Histogram of happiness per region',\n",
        "                xaxis_title='Ladder score',\n",
        "                yaxis_title='Frequency')\n",
        "fig.show()"
      ],
      "metadata": {
        "colab": {
          "base_uri": "https://localhost:8080/"
        },
        "id": "aa7DUayfJ8DR",
        "outputId": "fee1fe5f-b1ad-49d7-ca3c-a18b0ce04753"
      },
      "execution_count": null,
      "outputs": [
        {
          "output_type": "display_data",
          "data": {
            "text/html": [
              "<html>\n",
              "<head><meta charset=\"utf-8\" /></head>\n",
              "<body>\n",
              "    <div>            <script src=\"https://cdnjs.cloudflare.com/ajax/libs/mathjax/2.7.5/MathJax.js?config=TeX-AMS-MML_SVG\"></script><script type=\"text/javascript\">if (window.MathJax) {MathJax.Hub.Config({SVG: {font: \"STIX-Web\"}});}</script>                <script type=\"text/javascript\">window.PlotlyConfig = {MathJaxConfig: 'local'};</script>\n",
              "        <script src=\"https://cdn.plot.ly/plotly-2.8.3.min.js\"></script>                <div id=\"29e4625a-b93d-4953-ad3a-5cb92c86532b\" class=\"plotly-graph-div\" style=\"height:525px; width:100%;\"></div>            <script type=\"text/javascript\">                                    window.PLOTLYENV=window.PLOTLYENV || {};                                    if (document.getElementById(\"29e4625a-b93d-4953-ad3a-5cb92c86532b\")) {                    Plotly.newPlot(                        \"29e4625a-b93d-4953-ad3a-5cb92c86532b\",                        [{\"alignmentgroup\":\"True\",\"bingroup\":\"x\",\"hovertemplate\":\"Regional indicator=Western Europe<br>Ladder score=%{x}<br>count=%{y}<extra></extra>\",\"legendgroup\":\"Western Europe\",\"marker\":{\"color\":\"#636efa\",\"pattern\":{\"shape\":\"\"}},\"name\":\"Western Europe\",\"nbinsx\":30,\"offsetgroup\":\"Western Europe\",\"orientation\":\"v\",\"showlegend\":true,\"x\":[7.842,7.62,7.571,7.554,7.464,7.363,7.324,7.268,7.155,7.085,7.064,6.834,6.602,6.491,6.483,6.223,5.929,5.723],\"xaxis\":\"x\",\"yaxis\":\"y\",\"type\":\"histogram\"},{\"alignmentgroup\":\"True\",\"bingroup\":\"x\",\"hovertemplate\":\"Regional indicator=North America and ANZ<br>Ladder score=%{x}<br>count=%{y}<extra></extra>\",\"legendgroup\":\"North America and ANZ\",\"marker\":{\"color\":\"#EF553B\",\"pattern\":{\"shape\":\"\"}},\"name\":\"North America and ANZ\",\"nbinsx\":30,\"offsetgroup\":\"North America and ANZ\",\"orientation\":\"v\",\"showlegend\":true,\"x\":[7.183,7.103],\"xaxis\":\"x\",\"yaxis\":\"y\",\"type\":\"histogram\"},{\"alignmentgroup\":\"True\",\"bingroup\":\"x\",\"hovertemplate\":\"Regional indicator=Middle East and North Africa<br>Ladder score=%{x}<br>count=%{y}<extra></extra>\",\"legendgroup\":\"Middle East and North Africa\",\"marker\":{\"color\":\"#00cc96\",\"pattern\":{\"shape\":\"\"}},\"name\":\"Middle East and North Africa\",\"nbinsx\":30,\"offsetgroup\":\"Middle East and North Africa\",\"orientation\":\"v\",\"showlegend\":true,\"x\":[7.157,6.106,4.948,4.584,4.395,4.283],\"xaxis\":\"x\",\"yaxis\":\"y\",\"type\":\"histogram\"},{\"alignmentgroup\":\"True\",\"bingroup\":\"x\",\"hovertemplate\":\"Regional indicator=Latin America and Caribbean<br>Ladder score=%{x}<br>count=%{y}<extra></extra>\",\"legendgroup\":\"Latin America and Caribbean\",\"marker\":{\"color\":\"#ab63fa\",\"pattern\":{\"shape\":\"\"}},\"name\":\"Latin America and Caribbean\",\"nbinsx\":30,\"offsetgroup\":\"Latin America and Caribbean\",\"orientation\":\"v\",\"showlegend\":true,\"x\":[7.069,6.435,6.431,6.33,6.317,6.18,6.172,6.012,5.929,5.84,5.764,5.653,5.545],\"xaxis\":\"x\",\"yaxis\":\"y\",\"type\":\"histogram\"},{\"alignmentgroup\":\"True\",\"bingroup\":\"x\",\"hovertemplate\":\"Regional indicator=Central and Eastern Europe<br>Ladder score=%{x}<br>count=%{y}<extra></extra>\",\"legendgroup\":\"Central and Eastern Europe\",\"marker\":{\"color\":\"#FFA15A\",\"pattern\":{\"shape\":\"\"}},\"name\":\"Central and Eastern Europe\",\"nbinsx\":30,\"offsetgroup\":\"Central and Eastern Europe\",\"orientation\":\"v\",\"showlegend\":true,\"x\":[6.461,6.331,6.255,6.189,6.166,6.14,6.078,6.032,5.992,5.882,5.581,5.266,5.101],\"xaxis\":\"x\",\"yaxis\":\"y\",\"type\":\"histogram\"},{\"alignmentgroup\":\"True\",\"bingroup\":\"x\",\"hovertemplate\":\"Regional indicator=Southeast Asia<br>Ladder score=%{x}<br>count=%{y}<extra></extra>\",\"legendgroup\":\"Southeast Asia\",\"marker\":{\"color\":\"#19d3f3\",\"pattern\":{\"shape\":\"\"}},\"name\":\"Southeast Asia\",\"nbinsx\":30,\"offsetgroup\":\"Southeast Asia\",\"orientation\":\"v\",\"showlegend\":true,\"x\":[6.377,5.985,5.88],\"xaxis\":\"x\",\"yaxis\":\"y\",\"type\":\"histogram\"},{\"alignmentgroup\":\"True\",\"bingroup\":\"x\",\"hovertemplate\":\"Regional indicator=Commonwealth of Independent States<br>Ladder score=%{x}<br>count=%{y}<extra></extra>\",\"legendgroup\":\"Commonwealth of Independent States\",\"marker\":{\"color\":\"#FF6692\",\"pattern\":{\"shape\":\"\"}},\"name\":\"Commonwealth of Independent States\",\"nbinsx\":30,\"offsetgroup\":\"Commonwealth of Independent States\",\"orientation\":\"v\",\"showlegend\":true,\"x\":[6.179,6.152,5.744,5.534,5.283,4.891,4.875],\"xaxis\":\"x\",\"yaxis\":\"y\",\"type\":\"histogram\"},{\"alignmentgroup\":\"True\",\"bingroup\":\"x\",\"hovertemplate\":\"Regional indicator=Sub-Saharan Africa<br>Ladder score=%{x}<br>count=%{y}<extra></extra>\",\"legendgroup\":\"Sub-Saharan Africa\",\"marker\":{\"color\":\"#B6E880\",\"pattern\":{\"shape\":\"\"}},\"name\":\"Sub-Saharan Africa\",\"nbinsx\":30,\"offsetgroup\":\"Sub-Saharan Africa\",\"orientation\":\"v\",\"showlegend\":true,\"x\":[6.049,4.956],\"xaxis\":\"x\",\"yaxis\":\"y\",\"type\":\"histogram\"},{\"alignmentgroup\":\"True\",\"bingroup\":\"x\",\"hovertemplate\":\"Regional indicator=East Asia<br>Ladder score=%{x}<br>count=%{y}<extra></extra>\",\"legendgroup\":\"East Asia\",\"marker\":{\"color\":\"#FF97FF\",\"pattern\":{\"shape\":\"\"}},\"name\":\"East Asia\",\"nbinsx\":30,\"offsetgroup\":\"East Asia\",\"orientation\":\"v\",\"showlegend\":true,\"x\":[5.94],\"xaxis\":\"x\",\"yaxis\":\"y\",\"type\":\"histogram\"},{\"alignmentgroup\":\"True\",\"bingroup\":\"x\",\"hovertemplate\":\"Regional indicator=South Asia<br>Ladder score=%{x}<br>count=%{y}<extra></extra>\",\"legendgroup\":\"South Asia\",\"marker\":{\"color\":\"#FECB52\",\"pattern\":{\"shape\":\"\"}},\"name\":\"South Asia\",\"nbinsx\":30,\"offsetgroup\":\"South Asia\",\"orientation\":\"v\",\"showlegend\":true,\"x\":[5.198],\"xaxis\":\"x\",\"yaxis\":\"y\",\"type\":\"histogram\"}],                        {\"template\":{\"data\":{\"bar\":[{\"error_x\":{\"color\":\"#2a3f5f\"},\"error_y\":{\"color\":\"#2a3f5f\"},\"marker\":{\"line\":{\"color\":\"#E5ECF6\",\"width\":0.5},\"pattern\":{\"fillmode\":\"overlay\",\"size\":10,\"solidity\":0.2}},\"type\":\"bar\"}],\"barpolar\":[{\"marker\":{\"line\":{\"color\":\"#E5ECF6\",\"width\":0.5},\"pattern\":{\"fillmode\":\"overlay\",\"size\":10,\"solidity\":0.2}},\"type\":\"barpolar\"}],\"carpet\":[{\"aaxis\":{\"endlinecolor\":\"#2a3f5f\",\"gridcolor\":\"white\",\"linecolor\":\"white\",\"minorgridcolor\":\"white\",\"startlinecolor\":\"#2a3f5f\"},\"baxis\":{\"endlinecolor\":\"#2a3f5f\",\"gridcolor\":\"white\",\"linecolor\":\"white\",\"minorgridcolor\":\"white\",\"startlinecolor\":\"#2a3f5f\"},\"type\":\"carpet\"}],\"choropleth\":[{\"colorbar\":{\"outlinewidth\":0,\"ticks\":\"\"},\"type\":\"choropleth\"}],\"contour\":[{\"colorbar\":{\"outlinewidth\":0,\"ticks\":\"\"},\"colorscale\":[[0.0,\"#0d0887\"],[0.1111111111111111,\"#46039f\"],[0.2222222222222222,\"#7201a8\"],[0.3333333333333333,\"#9c179e\"],[0.4444444444444444,\"#bd3786\"],[0.5555555555555556,\"#d8576b\"],[0.6666666666666666,\"#ed7953\"],[0.7777777777777778,\"#fb9f3a\"],[0.8888888888888888,\"#fdca26\"],[1.0,\"#f0f921\"]],\"type\":\"contour\"}],\"contourcarpet\":[{\"colorbar\":{\"outlinewidth\":0,\"ticks\":\"\"},\"type\":\"contourcarpet\"}],\"heatmap\":[{\"colorbar\":{\"outlinewidth\":0,\"ticks\":\"\"},\"colorscale\":[[0.0,\"#0d0887\"],[0.1111111111111111,\"#46039f\"],[0.2222222222222222,\"#7201a8\"],[0.3333333333333333,\"#9c179e\"],[0.4444444444444444,\"#bd3786\"],[0.5555555555555556,\"#d8576b\"],[0.6666666666666666,\"#ed7953\"],[0.7777777777777778,\"#fb9f3a\"],[0.8888888888888888,\"#fdca26\"],[1.0,\"#f0f921\"]],\"type\":\"heatmap\"}],\"heatmapgl\":[{\"colorbar\":{\"outlinewidth\":0,\"ticks\":\"\"},\"colorscale\":[[0.0,\"#0d0887\"],[0.1111111111111111,\"#46039f\"],[0.2222222222222222,\"#7201a8\"],[0.3333333333333333,\"#9c179e\"],[0.4444444444444444,\"#bd3786\"],[0.5555555555555556,\"#d8576b\"],[0.6666666666666666,\"#ed7953\"],[0.7777777777777778,\"#fb9f3a\"],[0.8888888888888888,\"#fdca26\"],[1.0,\"#f0f921\"]],\"type\":\"heatmapgl\"}],\"histogram\":[{\"marker\":{\"pattern\":{\"fillmode\":\"overlay\",\"size\":10,\"solidity\":0.2}},\"type\":\"histogram\"}],\"histogram2d\":[{\"colorbar\":{\"outlinewidth\":0,\"ticks\":\"\"},\"colorscale\":[[0.0,\"#0d0887\"],[0.1111111111111111,\"#46039f\"],[0.2222222222222222,\"#7201a8\"],[0.3333333333333333,\"#9c179e\"],[0.4444444444444444,\"#bd3786\"],[0.5555555555555556,\"#d8576b\"],[0.6666666666666666,\"#ed7953\"],[0.7777777777777778,\"#fb9f3a\"],[0.8888888888888888,\"#fdca26\"],[1.0,\"#f0f921\"]],\"type\":\"histogram2d\"}],\"histogram2dcontour\":[{\"colorbar\":{\"outlinewidth\":0,\"ticks\":\"\"},\"colorscale\":[[0.0,\"#0d0887\"],[0.1111111111111111,\"#46039f\"],[0.2222222222222222,\"#7201a8\"],[0.3333333333333333,\"#9c179e\"],[0.4444444444444444,\"#bd3786\"],[0.5555555555555556,\"#d8576b\"],[0.6666666666666666,\"#ed7953\"],[0.7777777777777778,\"#fb9f3a\"],[0.8888888888888888,\"#fdca26\"],[1.0,\"#f0f921\"]],\"type\":\"histogram2dcontour\"}],\"mesh3d\":[{\"colorbar\":{\"outlinewidth\":0,\"ticks\":\"\"},\"type\":\"mesh3d\"}],\"parcoords\":[{\"line\":{\"colorbar\":{\"outlinewidth\":0,\"ticks\":\"\"}},\"type\":\"parcoords\"}],\"pie\":[{\"automargin\":true,\"type\":\"pie\"}],\"scatter\":[{\"marker\":{\"colorbar\":{\"outlinewidth\":0,\"ticks\":\"\"}},\"type\":\"scatter\"}],\"scatter3d\":[{\"line\":{\"colorbar\":{\"outlinewidth\":0,\"ticks\":\"\"}},\"marker\":{\"colorbar\":{\"outlinewidth\":0,\"ticks\":\"\"}},\"type\":\"scatter3d\"}],\"scattercarpet\":[{\"marker\":{\"colorbar\":{\"outlinewidth\":0,\"ticks\":\"\"}},\"type\":\"scattercarpet\"}],\"scattergeo\":[{\"marker\":{\"colorbar\":{\"outlinewidth\":0,\"ticks\":\"\"}},\"type\":\"scattergeo\"}],\"scattergl\":[{\"marker\":{\"colorbar\":{\"outlinewidth\":0,\"ticks\":\"\"}},\"type\":\"scattergl\"}],\"scattermapbox\":[{\"marker\":{\"colorbar\":{\"outlinewidth\":0,\"ticks\":\"\"}},\"type\":\"scattermapbox\"}],\"scatterpolar\":[{\"marker\":{\"colorbar\":{\"outlinewidth\":0,\"ticks\":\"\"}},\"type\":\"scatterpolar\"}],\"scatterpolargl\":[{\"marker\":{\"colorbar\":{\"outlinewidth\":0,\"ticks\":\"\"}},\"type\":\"scatterpolargl\"}],\"scatterternary\":[{\"marker\":{\"colorbar\":{\"outlinewidth\":0,\"ticks\":\"\"}},\"type\":\"scatterternary\"}],\"surface\":[{\"colorbar\":{\"outlinewidth\":0,\"ticks\":\"\"},\"colorscale\":[[0.0,\"#0d0887\"],[0.1111111111111111,\"#46039f\"],[0.2222222222222222,\"#7201a8\"],[0.3333333333333333,\"#9c179e\"],[0.4444444444444444,\"#bd3786\"],[0.5555555555555556,\"#d8576b\"],[0.6666666666666666,\"#ed7953\"],[0.7777777777777778,\"#fb9f3a\"],[0.8888888888888888,\"#fdca26\"],[1.0,\"#f0f921\"]],\"type\":\"surface\"}],\"table\":[{\"cells\":{\"fill\":{\"color\":\"#EBF0F8\"},\"line\":{\"color\":\"white\"}},\"header\":{\"fill\":{\"color\":\"#C8D4E3\"},\"line\":{\"color\":\"white\"}},\"type\":\"table\"}]},\"layout\":{\"annotationdefaults\":{\"arrowcolor\":\"#2a3f5f\",\"arrowhead\":0,\"arrowwidth\":1},\"autotypenumbers\":\"strict\",\"coloraxis\":{\"colorbar\":{\"outlinewidth\":0,\"ticks\":\"\"}},\"colorscale\":{\"diverging\":[[0,\"#8e0152\"],[0.1,\"#c51b7d\"],[0.2,\"#de77ae\"],[0.3,\"#f1b6da\"],[0.4,\"#fde0ef\"],[0.5,\"#f7f7f7\"],[0.6,\"#e6f5d0\"],[0.7,\"#b8e186\"],[0.8,\"#7fbc41\"],[0.9,\"#4d9221\"],[1,\"#276419\"]],\"sequential\":[[0.0,\"#0d0887\"],[0.1111111111111111,\"#46039f\"],[0.2222222222222222,\"#7201a8\"],[0.3333333333333333,\"#9c179e\"],[0.4444444444444444,\"#bd3786\"],[0.5555555555555556,\"#d8576b\"],[0.6666666666666666,\"#ed7953\"],[0.7777777777777778,\"#fb9f3a\"],[0.8888888888888888,\"#fdca26\"],[1.0,\"#f0f921\"]],\"sequentialminus\":[[0.0,\"#0d0887\"],[0.1111111111111111,\"#46039f\"],[0.2222222222222222,\"#7201a8\"],[0.3333333333333333,\"#9c179e\"],[0.4444444444444444,\"#bd3786\"],[0.5555555555555556,\"#d8576b\"],[0.6666666666666666,\"#ed7953\"],[0.7777777777777778,\"#fb9f3a\"],[0.8888888888888888,\"#fdca26\"],[1.0,\"#f0f921\"]]},\"colorway\":[\"#636efa\",\"#EF553B\",\"#00cc96\",\"#ab63fa\",\"#FFA15A\",\"#19d3f3\",\"#FF6692\",\"#B6E880\",\"#FF97FF\",\"#FECB52\"],\"font\":{\"color\":\"#2a3f5f\"},\"geo\":{\"bgcolor\":\"white\",\"lakecolor\":\"white\",\"landcolor\":\"#E5ECF6\",\"showlakes\":true,\"showland\":true,\"subunitcolor\":\"white\"},\"hoverlabel\":{\"align\":\"left\"},\"hovermode\":\"closest\",\"mapbox\":{\"style\":\"light\"},\"paper_bgcolor\":\"white\",\"plot_bgcolor\":\"#E5ECF6\",\"polar\":{\"angularaxis\":{\"gridcolor\":\"white\",\"linecolor\":\"white\",\"ticks\":\"\"},\"bgcolor\":\"#E5ECF6\",\"radialaxis\":{\"gridcolor\":\"white\",\"linecolor\":\"white\",\"ticks\":\"\"}},\"scene\":{\"xaxis\":{\"backgroundcolor\":\"#E5ECF6\",\"gridcolor\":\"white\",\"gridwidth\":2,\"linecolor\":\"white\",\"showbackground\":true,\"ticks\":\"\",\"zerolinecolor\":\"white\"},\"yaxis\":{\"backgroundcolor\":\"#E5ECF6\",\"gridcolor\":\"white\",\"gridwidth\":2,\"linecolor\":\"white\",\"showbackground\":true,\"ticks\":\"\",\"zerolinecolor\":\"white\"},\"zaxis\":{\"backgroundcolor\":\"#E5ECF6\",\"gridcolor\":\"white\",\"gridwidth\":2,\"linecolor\":\"white\",\"showbackground\":true,\"ticks\":\"\",\"zerolinecolor\":\"white\"}},\"shapedefaults\":{\"line\":{\"color\":\"#2a3f5f\"}},\"ternary\":{\"aaxis\":{\"gridcolor\":\"white\",\"linecolor\":\"white\",\"ticks\":\"\"},\"baxis\":{\"gridcolor\":\"white\",\"linecolor\":\"white\",\"ticks\":\"\"},\"bgcolor\":\"#E5ECF6\",\"caxis\":{\"gridcolor\":\"white\",\"linecolor\":\"white\",\"ticks\":\"\"}},\"title\":{\"x\":0.05},\"xaxis\":{\"automargin\":true,\"gridcolor\":\"white\",\"linecolor\":\"white\",\"ticks\":\"\",\"title\":{\"standoff\":15},\"zerolinecolor\":\"white\",\"zerolinewidth\":2},\"yaxis\":{\"automargin\":true,\"gridcolor\":\"white\",\"linecolor\":\"white\",\"ticks\":\"\",\"title\":{\"standoff\":15},\"zerolinecolor\":\"white\",\"zerolinewidth\":2}}},\"xaxis\":{\"anchor\":\"y\",\"domain\":[0.0,1.0],\"title\":{\"text\":\"Ladder score\"}},\"yaxis\":{\"anchor\":\"x\",\"domain\":[0.0,1.0],\"title\":{\"text\":\"Frequency\"}},\"legend\":{\"title\":{\"text\":\"Regional indicator\"},\"tracegroupgap\":0},\"margin\":{\"t\":60},\"barmode\":\"relative\",\"title\":{\"text\":\"Histogram of happiness per region\"}},                        {\"responsive\": true}                    ).then(function(){\n",
              "                            \n",
              "var gd = document.getElementById('29e4625a-b93d-4953-ad3a-5cb92c86532b');\n",
              "var x = new MutationObserver(function (mutations, observer) {{\n",
              "        var display = window.getComputedStyle(gd).display;\n",
              "        if (!display || display === 'none') {{\n",
              "            console.log([gd, 'removed!']);\n",
              "            Plotly.purge(gd);\n",
              "            observer.disconnect();\n",
              "        }}\n",
              "}});\n",
              "\n",
              "// Listen for the removal of the full notebook cells\n",
              "var notebookContainer = gd.closest('#notebook-container');\n",
              "if (notebookContainer) {{\n",
              "    x.observe(notebookContainer, {childList: true});\n",
              "}}\n",
              "\n",
              "// Listen for the clearing of the current output cell\n",
              "var outputEl = gd.closest('.output');\n",
              "if (outputEl) {{\n",
              "    x.observe(outputEl, {childList: true});\n",
              "}}\n",
              "\n",
              "                        })                };                            </script>        </div>\n",
              "</body>\n",
              "</html>"
            ]
          },
          "metadata": {}
        }
      ]
    },
    {
      "cell_type": "markdown",
      "source": [
        "Amb els dos histogrames anteriors hem vist que els gràfics pareix que tenen una distribució normal. Per això feim un anàlisi de contrast d'hipotesi en el que li donem una confiança del 95%. "
      ],
      "metadata": {
        "id": "BwoTHqZ50CED"
      }
    },
    {
      "cell_type": "code",
      "source": [
        "alpha = 0.05\n",
        "_,pvalor = normaltest(df_main['Ladder score'])\n",
        "if pvalor < alpha:\n",
        "    print(\"Rebutgem la hipòtesi nul·la. La distribució és normal.\")\n",
        "else:\n",
        "    print(\"No podem rebutjar la hipòtesi nul·la. No podem afirmar que la distribució sigui normal.\")"
      ],
      "metadata": {
        "colab": {
          "base_uri": "https://localhost:8080/"
        },
        "id": "_EqV15axLd0J",
        "outputId": "adf66289-ef06-4486-bc71-70ca8d31a858"
      },
      "execution_count": null,
      "outputs": [
        {
          "output_type": "stream",
          "name": "stdout",
          "text": [
            "No podem rebutjar la hipòtesi nul·la. No podem afirmar que la distribució sigui normal.\n"
          ]
        }
      ]
    },
    {
      "cell_type": "markdown",
      "source": [
        "No ens ha sortit favorable, però ja hem pogut fer el contrast. "
      ],
      "metadata": {
        "id": "3VlIbbdW0VBu"
      }
    },
    {
      "cell_type": "markdown",
      "source": [
        "A continuació hem decidit fer un mapa de correlació entre les diferents variables del dataset. "
      ],
      "metadata": {
        "id": "dcx9LHJR0bFZ"
      }
    },
    {
      "cell_type": "code",
      "source": [
        "# Creem un gràfic de correlació per veure quines variables tenen un índex més alt\n",
        "df_corr = df_main[['Ladder score','Logged GDP per capita','Social support','Healthy life expectancy','Freedom to make life choices','Perceptions of corruption','Generosity']].corr()\n",
        "sns.heatmap(df_corr, vmin=-1, vmax=1,annot=True)\n"
      ],
      "metadata": {
        "id": "1--eG1-fc1KV",
        "colab": {
          "base_uri": "https://localhost:8080/"
        },
        "outputId": "5b8178d6-3fff-4a97-d797-75be3b21924b"
      },
      "execution_count": null,
      "outputs": [
        {
          "output_type": "execute_result",
          "data": {
            "text/plain": [
              "<matplotlib.axes._subplots.AxesSubplot at 0x7fc10ac87f70>"
            ]
          },
          "metadata": {},
          "execution_count": 43
        },
        {
          "output_type": "display_data",
          "data": {
            "text/plain": [
              "<Figure size 432x288 with 2 Axes>"
            ],
            "image/png": "[encoded data removed]"
          },
          "metadata": {
            "needs_background": "light"
          }
        }
      ]
    },
    {
      "cell_type": "markdown",
      "source": [
        "A l'anterior gràfic podem observar que les variables de Logged GDP per capita, Healthy life expectancy i Ladder score tenen un índex de correlació bastant alt entre ells, per tant podem analitzar més en detall si segueix una línea de normalitat entre els diferents païssos. "
      ],
      "metadata": {
        "id": "6SzceZJwx4GC"
      }
    },
    {
      "cell_type": "code",
      "source": [
        "sns.lmplot(x=\"Logged GDP per capita\", y=\"Healthy life expectancy\", data=df_main)\n",
        "plt.xlabel(\"Logged GDP per capita\")\n",
        "plt.ylabel(\"Healthy life expectancy\")\n",
        "plt.title(\"Correlation Logged GDP per capita and Healthy life expectancy for different countries\")\n",
        "plt.show()"
      ],
      "metadata": {
        "colab": {
          "base_uri": "https://localhost:8080/"
        },
        "id": "tNTS5-iEtiMV",
        "outputId": "13748f08-b4bb-4f1b-b89b-a126e615ed2b"
      },
      "execution_count": null,
      "outputs": [
        {
          "output_type": "display_data",
          "data": {
            "text/plain": [
              "<Figure size 360x360 with 1 Axes>"
            ],
            "image/png": "[encoded data removed]"
          },
          "metadata": {
            "needs_background": "light"
          }
        }
      ]
    },
    {
      "cell_type": "code",
      "source": [
        "sns.lmplot(y=\"Ladder score\", x=\"Logged GDP per capita\", data=df_main)\n",
        "plt.xlabel(\"Ladder score\")\n",
        "plt.ylabel(\"Logged GDP per capita\")\n",
        "plt.title(\"Correlation Logged GDP per capita and Ladder score for different countries\")\n",
        "plt.show()"
      ],
      "metadata": {
        "colab": {
          "base_uri": "https://localhost:8080/"
        },
        "id": "tJS1PU_L5ENj",
        "outputId": "0b6fa88e-833c-42bb-e831-3315dfb67000"
      },
      "execution_count": null,
      "outputs": [
        {
          "output_type": "display_data",
          "data": {
            "text/plain": [
              "<Figure size 360x360 with 1 Axes>"
            ],
            "image/png": "[encoded data removed]"
          },
          "metadata": {
            "needs_background": "light"
          }
        }
      ]
    },
    {
      "cell_type": "code",
      "source": [
        "sns.lmplot(y=\"Ladder score\", x=\"Healthy life expectancy\", data=df_main)\n",
        "plt.ylabel(\"Ladder score\")\n",
        "plt.xlabel(\"Healthy life expectancy\")\n",
        "plt.title(\"Correlation Logged GDP per capita and Ladder score for different countries\")\n",
        "plt.show()"
      ],
      "metadata": {
        "colab": {
          "base_uri": "https://localhost:8080/"
        },
        "id": "q_qAOafi5iAA",
        "outputId": "a1882720-2530-4edb-c80f-a53d624444b6"
      },
      "execution_count": null,
      "outputs": [
        {
          "output_type": "display_data",
          "data": {
            "text/plain": [
              "<Figure size 360x360 with 1 Axes>"
            ],
            "image/png": "[encoded data removed]"
          },
          "metadata": {
            "needs_background": "light"
          }
        }
      ]
    },
    {
      "cell_type": "markdown",
      "source": [
        "Amb els anteriors gràfics hem pogut comprovar que pareix que hi ha una relació bastant directe entre les diferents variables i que segueix una tendència proporcional. "
      ],
      "metadata": {
        "id": "nCIuHJuM0yE-"
      }
    },
    {
      "cell_type": "markdown",
      "source": [
        "Provem de fer el mateix entre les variables de climatologia incloses al dataset. "
      ],
      "metadata": {
        "id": "Maa8YwXO1CZC"
      }
    },
    {
      "cell_type": "code",
      "source": [
        "df_corr = df_main[['Ladder score','windSpeed','precipProbability','temperatureAvg','Generosity', 'suicides/100k pop']].corr()\n",
        "sns.heatmap(df_corr, vmin=-1, vmax=1,annot=True)"
      ],
      "metadata": {
        "id": "xbUyzLHgGc7B",
        "colab": {
          "base_uri": "https://localhost:8080/"
        },
        "outputId": "19f3fdad-335e-44f4-fc86-03078affbedb"
      },
      "execution_count": null,
      "outputs": [
        {
          "output_type": "execute_result",
          "data": {
            "text/plain": [
              "<matplotlib.axes._subplots.AxesSubplot at 0x7fc10aab7a90>"
            ]
          },
          "metadata": {},
          "execution_count": 47
        },
        {
          "output_type": "display_data",
          "data": {
            "text/plain": [
              "<Figure size 432x288 with 2 Axes>"
            ],
            "image/png": "[encoded data removed]"
          },
          "metadata": {
            "needs_background": "light"
          }
        }
      ]
    },
    {
      "cell_type": "markdown",
      "source": [
        "No sembla que tinguin molta relació entre les variables de clima i la felicitat, per tant es descarta la relació entre ells. "
      ],
      "metadata": {
        "id": "IzRuY-UV1Oac"
      }
    },
    {
      "cell_type": "markdown",
      "source": [
        "Els païssos de la regió d'Europa de l'oest, semblen ser els païssos que ocupen el segon lloc en el rànquing de la felicitat segons el \"World Happiness Report\", però resulta que també alguns d'ells tenen un alt índex de suicidis, com podem comprovar al següent gràfic. "
      ],
      "metadata": {
        "id": "qlopCCmW1YPC"
      }
    },
    {
      "cell_type": "code",
      "source": [
        "suicide_threshold = 0.9\n",
        "happiness_threshold = 0.9\n",
        "region = \"Western Europe\"\n",
        "df_filtered = df_main.query(\"`suicides/100k pop` > @suicide_threshold and `Ladder score` > @happiness_threshold and `Regional indicator` == @region\")\n",
        "\n",
        "sns.scatterplot(x=\"suicides/100k pop\", y=\"Ladder score\", alpha = 1, data=df_filtered)\n",
        "\n",
        "for index, row in df_filtered.iterrows():\n",
        "    plt.annotate(row[\"Country name\"], (row[\"suicides/100k pop\"], row[\"Ladder score\"]))\n",
        "plt.xlabel(\"Suicide Rate\")\n",
        "plt.ylabel(\"Happiness Score\")\n",
        "plt.title(\"Correlation between Suicide Rate and Happiness Score for different countries\")\n",
        "plt.show()"
      ],
      "metadata": {
        "colab": {
          "base_uri": "https://localhost:8080/"
        },
        "id": "SceWTbFtjPdT",
        "outputId": "634241bd-4829-47de-98c5-007a9a7f82bc"
      },
      "execution_count": null,
      "outputs": [
        {
          "output_type": "display_data",
          "data": {
            "text/plain": [
              "<Figure size 432x288 with 1 Axes>"
            ],
            "image/png": "[encoded data removed]"
          },
          "metadata": {
            "needs_background": "light"
          }
        }
      ]
    },
    {
      "cell_type": "markdown",
      "source": [
        "També hem volgut comprovar si un índex baix de felicitat , també indicava un alt nombre de suicidis i sí pareix que segueix certa tendència. "
      ],
      "metadata": {
        "id": "4-WLCWQ318ti"
      }
    },
    {
      "cell_type": "code",
      "source": [
        "y = df_main['suicides/100k pop']\n",
        "x = df_main['Ladder score']\n",
        "\n",
        "coef = np.polyfit(x, y, 1)\n",
        "line = np.poly1d(coef)\n",
        "\n",
        "plt.scatter(x, y)\n",
        "plt.xlabel('Suicide Rate')\n",
        "plt.ylabel('Happiness Score')\n",
        "plt.title('Relationship between Suicide Rate and Happiness Score')\n",
        "plt.plot(x, line(x), 'r-')\n",
        "plt.show()"
      ],
      "metadata": {
        "colab": {
          "base_uri": "https://localhost:8080/"
        },
        "id": "I-5aq59klPF0",
        "outputId": "324d5ce1-97d6-4297-ddc3-11ecf279c5e1"
      },
      "execution_count": null,
      "outputs": [
        {
          "output_type": "display_data",
          "data": {
            "text/plain": [
              "<Figure size 432x288 with 1 Axes>"
            ],
            "image/png": "[encoded data removed]"
          },
          "metadata": {
            "needs_background": "light"
          }
        }
      ]
    },
    {
      "cell_type": "markdown",
      "source": [
        "Ara farem la comparació d'algunes variables entre el pais que està el número 1 del rànquing de la felicitat (Finlandia) i el que està a la cua (Egipte), per a comparar els gràfics entre ells. "
      ],
      "metadata": {
        "id": "9pZio1kO2NU4"
      }
    },
    {
      "cell_type": "markdown",
      "source": [
        "Per això carragarem el dataset històric de \"World Happiness Report\""
      ],
      "metadata": {
        "id": "Ci0sYnLP2dSA"
      }
    },
    {
      "cell_type": "code",
      "source": [
        "df_history = pd.read_csv('/content/drive/MyDrive/Ciència de les dades/Tipologia i cicle de vida de les dades/Pràctica 2/world-happiness-report.csv')\n",
        "df_history.head()"
      ],
      "metadata": {
        "id": "QSkp6oD8tvgE",
        "colab": {
          "base_uri": "https://localhost:8080/"
        },
        "outputId": "faa4b7f2-2c89-4b54-882f-d98db8936382"
      },
      "execution_count": null,
      "outputs": [
        {
          "output_type": "execute_result",
          "data": {
            "text/plain": [
              "  Country name  year  Life Ladder  Log GDP per capita  Social support  \\\n",
              "0  Afghanistan  2008        3.724               7.370           0.451   \n",
              "1  Afghanistan  2009        4.402               7.540           0.552   \n",
              "2  Afghanistan  2010        4.758               7.647           0.539   \n",
              "3  Afghanistan  2011        3.832               7.620           0.521   \n",
              "4  Afghanistan  2012        3.783               7.705           0.521   \n",
              "\n",
              "   Healthy life expectancy at birth  Freedom to make life choices  Generosity  \\\n",
              "0                             50.80                         0.718       0.168   \n",
              "1                             51.20                         0.679       0.190   \n",
              "2                             51.60                         0.600       0.121   \n",
              "3                             51.92                         0.496       0.162   \n",
              "4                             52.24                         0.531       0.236   \n",
              "\n",
              "   Perceptions of corruption  Positive affect  Negative affect  \n",
              "0                      0.882            0.518            0.258  \n",
              "1                      0.850            0.584            0.237  \n",
              "2                      0.707            0.618            0.275  \n",
              "3                      0.731            0.611            0.267  \n",
              "4                      0.776            0.710            0.268  "
            ],
            "text/html": [
              "\n",
              "  <div id=\"df-8b164150-2c37-4668-88e5-a68b21507d97\">\n",
              "    <div class=\"colab-df-container\">\n",
              "      <div>\n",
              "<style scoped>\n",
              "    .dataframe tbody tr th:only-of-type {\n",
              "        vertical-align: middle;\n",
              "    }\n",
              "\n",
              "    .dataframe tbody tr th {\n",
              "        vertical-align: top;\n",
              "    }\n",
              "\n",
              "    .dataframe thead th {\n",
              "        text-align: right;\n",
              "    }\n",
              "</style>\n",
              "<table border=\"1\" class=\"dataframe\">\n",
              "  <thead>\n",
              "    <tr style=\"text-align: right;\">\n",
              "      <th></th>\n",
              "      <th>Country name</th>\n",
              "      <th>year</th>\n",
              "      <th>Life Ladder</th>\n",
              "      <th>Log GDP per capita</th>\n",
              "      <th>Social support</th>\n",
              "      <th>Healthy life expectancy at birth</th>\n",
              "      <th>Freedom to make life choices</th>\n",
              "      <th>Generosity</th>\n",
              "      <th>Perceptions of corruption</th>\n",
              "      <th>Positive affect</th>\n",
              "      <th>Negative affect</th>\n",
              "    </tr>\n",
              "  </thead>\n",
              "  <tbody>\n",
              "    <tr>\n",
              "      <th>0</th>\n",
              "      <td>Afghanistan</td>\n",
              "      <td>2008</td>\n",
              "      <td>3.724</td>\n",
              "      <td>7.370</td>\n",
              "      <td>0.451</td>\n",
              "      <td>50.80</td>\n",
              "      <td>0.718</td>\n",
              "      <td>0.168</td>\n",
              "      <td>0.882</td>\n",
              "      <td>0.518</td>\n",
              "      <td>0.258</td>\n",
              "    </tr>\n",
              "    <tr>\n",
              "      <th>1</th>\n",
              "      <td>Afghanistan</td>\n",
              "      <td>2009</td>\n",
              "      <td>4.402</td>\n",
              "      <td>7.540</td>\n",
              "      <td>0.552</td>\n",
              "      <td>51.20</td>\n",
              "      <td>0.679</td>\n",
              "      <td>0.190</td>\n",
              "      <td>0.850</td>\n",
              "      <td>0.584</td>\n",
              "      <td>0.237</td>\n",
              "    </tr>\n",
              "    <tr>\n",
              "      <th>2</th>\n",
              "      <td>Afghanistan</td>\n",
              "      <td>2010</td>\n",
              "      <td>4.758</td>\n",
              "      <td>7.647</td>\n",
              "      <td>0.539</td>\n",
              "      <td>51.60</td>\n",
              "      <td>0.600</td>\n",
              "      <td>0.121</td>\n",
              "      <td>0.707</td>\n",
              "      <td>0.618</td>\n",
              "      <td>0.275</td>\n",
              "    </tr>\n",
              "    <tr>\n",
              "      <th>3</th>\n",
              "      <td>Afghanistan</td>\n",
              "      <td>2011</td>\n",
              "      <td>3.832</td>\n",
              "      <td>7.620</td>\n",
              "      <td>0.521</td>\n",
              "      <td>51.92</td>\n",
              "      <td>0.496</td>\n",
              "      <td>0.162</td>\n",
              "      <td>0.731</td>\n",
              "      <td>0.611</td>\n",
              "      <td>0.267</td>\n",
              "    </tr>\n",
              "    <tr>\n",
              "      <th>4</th>\n",
              "      <td>Afghanistan</td>\n",
              "      <td>2012</td>\n",
              "      <td>3.783</td>\n",
              "      <td>7.705</td>\n",
              "      <td>0.521</td>\n",
              "      <td>52.24</td>\n",
              "      <td>0.531</td>\n",
              "      <td>0.236</td>\n",
              "      <td>0.776</td>\n",
              "      <td>0.710</td>\n",
              "      <td>0.268</td>\n",
              "    </tr>\n",
              "  </tbody>\n",
              "</table>\n",
              "</div>\n",
              "      <button class=\"colab-df-convert\" onclick=\"convertToInteractive('df-8b164150-2c37-4668-88e5-a68b21507d97')\"\n",
              "              title=\"Convert this dataframe to an interactive table.\"\n",
              "              style=\"display:none;\">\n",
              "        \n",
              "  <svg xmlns=\"http://www.w3.org/2000/svg\" height=\"24px\"viewBox=\"0 0 24 24\"\n",
              "       width=\"24px\">\n",
              "    <path d=\"M0 0h24v24H0V0z\" fill=\"none\"/>\n",
              "    <path d=\"M18.56 5.44l.94 2.06.94-2.06 2.06-.94-2.06-.94-.94-2.06-.94 2.06-2.06.94zm-11 1L8.5 8.5l.94-2.06 2.06-.94-2.06-.94L8.5 2.5l-.94 2.06-2.06.94zm10 10l.94 2.06.94-2.06 2.06-.94-2.06-.94-.94-2.06-.94 2.06-2.06.94z\"/><path d=\"M17.41 7.96l-1.37-1.37c-.4-.4-.92-.59-1.43-.59-.52 0-1.04.2-1.43.59L10.3 9.45l-7.72 7.72c-.78.78-.78 2.05 0 2.83L4 21.41c.39.39.9.59 1.41.59.51 0 1.02-.2 1.41-.59l7.78-7.78 2.81-2.81c.8-.78.8-2.07 0-2.86zM5.41 20L4 18.59l7.72-7.72 1.47 1.35L5.41 20z\"/>\n",
              "  </svg>\n",
              "      </button>\n",
              "      \n",
              "  <style>\n",
              "    .colab-df-container {\n",
              "      display:flex;\n",
              "      flex-wrap:wrap;\n",
              "      gap: 12px;\n",
              "    }\n",
              "\n",
              "    .colab-df-convert {\n",
              "      background-color: #E8F0FE;\n",
              "      border: none;\n",
              "      border-radius: 50%;\n",
              "      cursor: pointer;\n",
              "      display: none;\n",
              "      fill: #1967D2;\n",
              "      height: 32px;\n",
              "      padding: 0 0 0 0;\n",
              "      width: 32px;\n",
              "    }\n",
              "\n",
              "    .colab-df-convert:hover {\n",
              "      background-color: #E2EBFA;\n",
              "      box-shadow: 0px 1px 2px rgba(60, 64, 67, 0.3), 0px 1px 3px 1px rgba(60, 64, 67, 0.15);\n",
              "      fill: #174EA6;\n",
              "    }\n",
              "\n",
              "    [theme=dark] .colab-df-convert {\n",
              "      background-color: #3B4455;\n",
              "      fill: #D2E3FC;\n",
              "    }\n",
              "\n",
              "    [theme=dark] .colab-df-convert:hover {\n",
              "      background-color: #434B5C;\n",
              "      box-shadow: 0px 1px 3px 1px rgba(0, 0, 0, 0.15);\n",
              "      filter: drop-shadow(0px 1px 2px rgba(0, 0, 0, 0.3));\n",
              "      fill: #FFFFFF;\n",
              "    }\n",
              "  </style>\n",
              "\n",
              "      <script>\n",
              "        const buttonEl =\n",
              "          document.querySelector('#df-8b164150-2c37-4668-88e5-a68b21507d97 button.colab-df-convert');\n",
              "        buttonEl.style.display =\n",
              "          google.colab.kernel.accessAllowed ? 'block' : 'none';\n",
              "\n",
              "        async function convertToInteractive(key) {\n",
              "          const element = document.querySelector('#df-8b164150-2c37-4668-88e5-a68b21507d97');\n",
              "          const dataTable =\n",
              "            await google.colab.kernel.invokeFunction('convertToInteractive',\n",
              "                                                     [key], {});\n",
              "          if (!dataTable) return;\n",
              "\n",
              "          const docLinkHtml = 'Like what you see? Visit the ' +\n",
              "            '<a target=\"_blank\" href=https://colab.research.google.com/notebooks/data_table.ipynb>data table notebook</a>'\n",
              "            + ' to learn more about interactive tables.';\n",
              "          element.innerHTML = '';\n",
              "          dataTable['output_type'] = 'display_data';\n",
              "          await google.colab.output.renderOutput(dataTable, element);\n",
              "          const docLink = document.createElement('div');\n",
              "          docLink.innerHTML = docLinkHtml;\n",
              "          element.appendChild(docLink);\n",
              "        }\n",
              "      </script>\n",
              "    </div>\n",
              "  </div>\n",
              "  "
            ]
          },
          "metadata": {},
          "execution_count": 50
        }
      ]
    },
    {
      "cell_type": "code",
      "source": [
        "# Crear dataframes par Finlandia i Egipte\n",
        "df_finland = df_history[df_history['Country name'] == \"Finland\"]\n",
        "df_egypt = df_history[df_history['Country name'] == \"Egypt\"]\n",
        "color = ['red']\n",
        "# Crear gràfic de línia amb els dos païssos superposts\n",
        "sns.lineplot(x=df_finland['year'],y=df_finland['Life Ladder'], hue=\"Country name\", linewidth=\"3\", data=df_finland, color = 'green')\n",
        "sns.lineplot(x=df_egypt['year'],y=df_egypt['Life Ladder'], hue=\"Country name\", linewidth=\"3\", data=df_egypt, palette = color)\n",
        "\n",
        "# Afegir títol i etiquetes\n",
        "plt.title(\"Ladder score between Finland and Egipt\")\n",
        "plt.xlabel(\"Year\")\n",
        "plt.ylabel(\"Ladder score\")\n",
        "\n",
        "# Mostrar gràfic\n",
        "plt.show()\n"
      ],
      "metadata": {
        "id": "JIIma8ytfyGc",
        "colab": {
          "base_uri": "https://localhost:8080/"
        },
        "outputId": "2668b701-78a9-4dc9-98a8-fe2e12898106"
      },
      "execution_count": null,
      "outputs": [
        {
          "output_type": "display_data",
          "data": {
            "text/plain": [
              "<Figure size 432x288 with 1 Axes>"
            ],
            "image/png": "[encoded data removed]"
          },
          "metadata": {
            "needs_background": "light"
          }
        }
      ]
    },
    {
      "cell_type": "code",
      "source": [
        "sns.lineplot(x=df_finland['year'],y=df_finland['Log GDP per capita'], hue=\"Country name\", linewidth=\"3\", data=df_finland, color = 'green')\n",
        "sns.lineplot(x=df_egypt['year'],y=df_egypt['Log GDP per capita'],hue=\"Country name\", linewidth=\"3\", data=df_egypt, palette = color)\n",
        "\n",
        "# Afegir títol i etiquetes\n",
        "plt.title(\"Log GDP per capita between Finland and Egipt\")\n",
        "plt.xlabel(\"Year\")\n",
        "plt.ylabel(\"Log GDP per capita\")\n",
        "\n",
        "# Mostrar gràfic\n",
        "plt.show()"
      ],
      "metadata": {
        "id": "KA-QWLwPf4nL",
        "colab": {
          "base_uri": "https://localhost:8080/"
        },
        "outputId": "febbc245-b27c-411e-e634-e31a6fb18bef"
      },
      "execution_count": null,
      "outputs": [
        {
          "output_type": "display_data",
          "data": {
            "text/plain": [
              "<Figure size 432x288 with 1 Axes>"
            ],
            "image/png": "[encoded data removed]"
          },
          "metadata": {
            "needs_background": "light"
          }
        }
      ]
    },
    {
      "cell_type": "code",
      "source": [
        "sns.lineplot(x=df_finland['year'],y=df_finland['Freedom to make life choices'], hue=\"Country name\", linewidth=\"3\", data=df_finland, color = 'green')\n",
        "sns.lineplot(x=df_egypt['year'],y=df_egypt['Freedom to make life choices'],hue=\"Country name\", linewidth=\"3\", data=df_egypt, palette = color)\n",
        "\n",
        "# Afegir títol i etiquetes\n",
        "plt.title(\"Freedom to make life choices between Finland and Egipt\")\n",
        "plt.xlabel(\"Year\")\n",
        "plt.ylabel(\"Freedom to make life choices\")\n",
        "\n",
        "# Mostrar gràfic\n",
        "plt.show()"
      ],
      "metadata": {
        "id": "wM12rSI3gD9V",
        "colab": {
          "base_uri": "https://localhost:8080/"
        },
        "outputId": "cf716316-225b-48c0-bb3c-0659e6f1d27c"
      },
      "execution_count": null,
      "outputs": [
        {
          "output_type": "display_data",
          "data": {
            "text/plain": [
              "<Figure size 432x288 with 1 Axes>"
            ],
            "image/png": "[encoded data removed]"
          },
          "metadata": {
            "needs_background": "light"
          }
        }
      ]
    },
    {
      "cell_type": "code",
      "source": [
        "sns.lineplot(x=df_finland['year'],y=df_finland['Healthy life expectancy at birth'], hue=\"Country name\", linewidth=\"3\", data=df_finland, color = 'green')\n",
        "sns.lineplot(x=df_egypt['year'],y=df_egypt['Healthy life expectancy at birth'], hue=\"Country name\", linewidth=\"3\", data=df_egypt, palette = color)\n",
        "\n",
        "# Afegir títol i etiquetes\n",
        "plt.title(\"Healthy life expectancy at birth between Finland and Egipt\")\n",
        "plt.xlabel(\"Year\")\n",
        "plt.ylabel(\"Healthy life expectancy at birth\")\n",
        "\n",
        "# Mostrar gràfic\n",
        "plt.show()"
      ],
      "metadata": {
        "id": "WiVa_ciJgMy6",
        "colab": {
          "base_uri": "https://localhost:8080/"
        },
        "outputId": "49defc78-50fb-4e12-8693-37667d17ef08"
      },
      "execution_count": null,
      "outputs": [
        {
          "output_type": "display_data",
          "data": {
            "text/plain": [
              "<Figure size 432x288 with 1 Axes>"
            ],
            "image/png": "[encoded data removed]"
          },
          "metadata": {
            "needs_background": "light"
          }
        }
      ]
    },
    {
      "cell_type": "markdown",
      "source": [
        "Com es pot comprovar als diferents gràfics mostrats anteriorment, la diferència entre algunes de les variables és molt gran. "
      ],
      "metadata": {
        "id": "SD-ssEDX2nzI"
      }
    },
    {
      "cell_type": "markdown",
      "source": [
        "#5. Resolució del problema"
      ],
      "metadata": {
        "id": "kTFS5M-k3LiV"
      }
    },
    {
      "cell_type": "markdown",
      "source": [
        "Hem pogut arribar a diverses conclusions gràcies a l'anàlisi realitzat, com per exemple que la renda per capita està molt relacionada amb la felicitat, ja que és possible tenir més oportunitats d'accedir a millor recursos, com per exemple els relacionats amb la salut. Aquesta està directament relacionada amb l'esperança de vida. Per tant són tres variables que es retroalimenten. \n",
        "\n",
        "\n",
        "Per altre costat hem volgut trobar una relació amb la climatologia que no ha resultat efectiva. Però també hem valorat que la felicitat es pot mesurar amb molts més factors dels que surten al dataset de \"World Happiness Report\", i també hem pogut comprovar que hi ha altres estudis, com per exemple el de *Happy Planet Index*, que diuen que Costa Rica és el país més feliç del món, ja que es tenen en compte altres tipus de variables. Es pot veure aquest estudi a https://happyplanetindex.org/wp-content/themes/hpi/public/downloads/happy-planet-index-briefing-paper.pdf. Ens hem plantejat seguir amb l'estudi, però per a la pràctica no ens donava temps poder comparar més datasets. \n",
        "\n",
        "\n",
        "Finalment també hem volgut comparar el dataset de suicidi per comprobar les possibles relacions. La conclusió és que a menor índex de felicitat si que s'ha pogut constatar que hi ha un augment de suicidis, però no d'una manera molt clara.\n",
        "\n"
      ],
      "metadata": {
        "id": "zpWkLzL24cH8"
      }
    },
    {
      "cell_type": "markdown",
      "source": [
        "<table>\n",
        "  <tr>\n",
        "      <td>Contribucions</td><td>Signatura</td>\n",
        "  </tr>\n",
        "<tr>\n",
        "      <td>Investigació prèvia</td><td>Miquel Muntaner, Miquel Piulats </td>\n",
        "  </tr><tr>\n",
        "      <td>Redacció de les respostes</td><td>Miquel Muntaner, Miquel Piulats</td>\n",
        "  </tr>\n",
        "  </tr><tr>\n",
        "      <td>Desenvolupament del codi</td><td>Miquel Muntaner, Miquel Piulats</td>\n",
        "  </tr>\n",
        "  </tr><tr>\n",
        "      <td>Participació al vídeo</td><td>Miquel Muntaner, Miquel Piulats</td>\n",
        "  </tr>\n",
        "</table>"
      ],
      "metadata": {
        "id": "y_VKUfRTHGJ_"
      }
    }
  ]
}